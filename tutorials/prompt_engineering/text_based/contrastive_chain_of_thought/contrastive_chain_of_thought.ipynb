{
 "cells": [
  {
   "cell_type": "markdown",
   "id": "4bcd8f5f322ba009",
   "metadata": {},
   "source": [
    "# Contrastive Chain of Thought\n",
    "\n",
    "[Contrastive Chain of Thought](https://arxiv.org/pdf/2311.09277) is an extension of [Chain of Thought](https://arxiv.org/abs/2201.11903) which involves adding both correct and incorrect examples to help the LLM reason. Contrastive Chain of Thought is applicable anywhere CoT is, such as mathematical and reasoning tasks, but is additionally helpful for scenarios where LLM might be prone to common errors or misunderstandings.\n",
    "\n",
    "<div class=\"admonition tip\">\n",
    "<p class=\"admonition-title\">Mirascope Concepts Used</p>\n",
    "<ul>\n",
    "<li><a href=\"../../../../learn/prompts/\">Prompts</a></li>\n",
    "<li><a href=\"../../../../learn/calls/\">Calls</a></li>\n",
    "</ul>\n",
    "</div>"
   ]
  },
  {
   "cell_type": "code",
   "execution_count": 1,
   "id": "5babdbc13701faa0",
   "metadata": {
    "ExecuteTime": {
     "end_time": "2024-10-02T03:51:34.690824Z",
     "start_time": "2024-10-02T03:51:30.853003Z"
    }
   },
   "outputs": [
    {
     "name": "stdout",
     "output_type": "stream",
     "text": [
      "To find the total number of possible outcomes when rolling two 8-sided dice and one 10-sided die, we can use the counting principle. \n",
      "\n",
      "1. **Two 8-sided dice:** Each die has 8 possible outcomes. Therefore, the number of outcomes for two dice is:\n",
      "   \\[\n",
      "   8 \\times 8 = 64\n",
      "   \\]\n",
      "\n",
      "2. **One 10-sided die:** This die has 10 possible outcomes.\n",
      "\n",
      "3. **Total Outcomes:** Since the rolls are independent, the total number of outcomes when rolling two 8-sided dice and one 10-sided die is the product of the outcomes from each die:\n",
      "   \\[\n",
      "   64 \\times 10 = 640\n",
      "   \\]\n",
      "\n",
      "Thus, the total number of possible outcomes when rolling two 8-sided dice and one 10-sided die is **640**.\n"
     ]
    }
   ],
   "source": [
    "from mirascope.core import openai, prompt_template\n",
    "\n",
    "example = \"\"\"\n",
    "Example Question: If you roll two 6 sided dice (1~6) and a 12 sided die (1~12),\n",
    "how many possible outcomes are there?\n",
    "\n",
    "Correct Reasoning: The smallest possible sum is 3 and the largest possible sum is 24.\n",
    "We know two six sided die can roll anywhere from 2 to 12 from their standalone sums,\n",
    "so it stands to reason that by adding a value from (1~12) to one of those possible\n",
    "sums from 2~12, we can hit any number from 3~24 without any gaps in coverage.\n",
    "So, there are (24-3)+1 = 22 possible outcomes.\n",
    "\n",
    "Incorrect Reasoning: 6x6x12 = 2592 outcomes\n",
    "\"\"\"\n",
    "\n",
    "\n",
    "@openai.call(model=\"gpt-4o-mini\")\n",
    "@prompt_template(\n",
    "    \"\"\"\n",
    "    {example}\n",
    "    {query}\n",
    "    \"\"\"\n",
    ")\n",
    "def call(query: str, ccot_prompt: bool = False) -> openai.OpenAIDynamicConfig:\n",
    "    return {\"computed_fields\": {\"example\": example if ccot_prompt else \"\"}}\n",
    "\n",
    "\n",
    "prompt = \"\"\"\n",
    "If you roll two 8 sided dice (1~8) and a 10 sided die (1~10), how many possible\n",
    "outcomes are there?\n",
    "\"\"\"\n",
    "\n",
    "print(call(query=prompt, ccot_prompt=True))"
   ]
  },
  {
   "cell_type": "markdown",
   "id": "117b458e0f19e386",
   "metadata": {},
   "source": [
    "<div class=\"admonition tip\">\n",
    "<p class=\"admonition-title\">Effective Contrastive Chain of Thought Usage</p>\n",
    "<ul>\n",
    "<li><strong>Provide Clear Examples</strong>: Include both correct and incorrect reasoning examples to guide the LLM's thought process.</li>\n",
    "<li><strong>Highlight Common Mistakes</strong>: Use incorrect examples that demonstrate typical errors or misconceptions related to the problem.</li>\n",
    "<li><strong>Explain the Contrast</strong>: Clearly explain why the correct reasoning is right and why the incorrect reasoning is wrong.</li>\n",
    "<li><strong>Apply to Complex Problems</strong>: Use Contrastive Chain of Thought for problems where there are multiple potential approaches, some of which may lead to incorrect conclusions.</li>\n",
    "<li><strong>Customize Examples</strong>: Tailor the examples to be relevant to the specific type of problem or domain you're working with.</li>\n",
    "</ul>\n",
    "</div>\n",
    "\n",
    "Contrastive Chain of Thought enhances the standard Chain of Thought approach by explicitly showing both correct and incorrect reasoning paths. This technique can be particularly effective in helping the LLM avoid common pitfalls and misconceptions, leading to more accurate and robust problem-solving across a variety of tasks, especially those prone to subtle errors or misunderstandings."
   ]
  }
 ],
 "metadata": {
  "kernelspec": {
   "display_name": "Python 3",
   "language": "python",
   "name": "python3"
  },
  "language_info": {
   "codemirror_mode": {
    "name": "ipython",
    "version": 2
   },
   "file_extension": ".py",
   "mimetype": "text/x-python",
   "name": "python",
   "nbconvert_exporter": "python",
   "pygments_lexer": "ipython2",
   "version": "2.7.6"
  }
 },
 "nbformat": 4,
 "nbformat_minor": 5
}
