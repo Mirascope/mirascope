{
 "cells": [
  {
   "cell_type": "markdown",
   "id": "50f6636d098e95d0",
   "metadata": {},
   "source": [
    "# Rephrase and Respond\n",
    "\n",
    "[Rephrase and respond](https://arxiv.org/pdf/2311.04205) (RaR) is a prompt engineering technique which involves asking the LLM to rephrase and expand upon the question before responding. RaR has shown improvements across all types of prompts, but we have personally found that RaR is most effective for shorter and vaguer prompts.\n",
    "\n",
    "<div class=\"admonition tip\">\n",
    "<p class=\"admonition-title\">Mirascope Concepts Used</p>\n",
    "<ul>\n",
    "<li><a href=\"../../../../learn/prompts/\">Prompts</a></li>\n",
    "<li><a href=\"../../../../learn/calls/\">Calls</a></li>\n",
    "</ul>\n",
    "</div>\n"
   ]
  },
  {
   "cell_type": "code",
   "execution_count": 1,
   "id": "d2d01ebc24ffc04d",
   "metadata": {
    "ExecuteTime": {
     "end_time": "2024-10-02T03:06:54.200951Z",
     "start_time": "2024-10-02T03:06:49.457024Z"
    }
   },
   "outputs": [
    {
     "name": "stdout",
     "output_type": "stream",
     "text": [
      "### Rephrased and Expanded Question:\n",
      "\n",
      "A coin starts with the heads side facing up. If Aluino flips the coin, it will land with the tails side facing up. Then Arthur flips the coin again. After these two sequences of flips, can we say that the coin is still heads up? \n",
      "\n",
      "### Response:\n",
      "\n",
      "To analyze the scenario, let's break down the actions step by step:\n",
      "\n",
      "1. **Initial State**: The coin starts with the heads side facing up.\n",
      "   \n",
      "2. **Aluino Flips the Coin**: When Aluino flips the coin, it reverses its position. Since the coin initially was heads up, after Aluino's flip, the coin will now be tails up.\n",
      "\n",
      "3. **Arthur Flips the Coin**: Next, Arthur takes his turn to flip the coin. Given that the current state of the coin is tails up, flipping it will reverse it again, resulting in the coin now being heads up.\n",
      "\n",
      "At the end of these actions, after both Aluino and Arthur have flipped the coin, the final state of the coin is heads up once more. Thus, the answer to the question is: \n",
      "\n",
      "**No, after Aluino flips it, the coin is tails up; however, after Arthur flips it again, the coin is heads up once more.**\n"
     ]
    }
   ],
   "source": [
    "from mirascope.core import openai, prompt_template\n",
    "\n",
    "rar_augment = \"\\nRephrase and expand the question, and respond.\"\n",
    "\n",
    "\n",
    "@openai.call(model=\"gpt-4o-mini\")\n",
    "@prompt_template(\"{query} {rar_augment}\")\n",
    "def call(query: str, rar_prompt: bool = False) -> openai.OpenAIDynamicConfig:\n",
    "    return {\n",
    "        \"computed_fields\": {\n",
    "            \"rar_augment\": rar_augment if rar_prompt else \"\",\n",
    "        }\n",
    "    }\n",
    "\n",
    "\n",
    "prompt = \"\"\"A coin is heads up. aluino flips the coin. arthor flips the coin.\n",
    "Is the coin still heads up? Flip means reverse.\"\"\"\n",
    "\n",
    "print(call(query=prompt, rar_prompt=True))"
   ]
  },
  {
   "cell_type": "markdown",
   "id": "fa2f1910ace48321",
   "metadata": {},
   "source": [
    "This example demonstrates how to implement the Rephrase and Respond technique using Mirascope. The `rar_augment` variable contains the instruction for the LLM to rephrase and expand the question before responding. This instruction is added to the end of the prompt when `rar_prompt` is set to `True`.\n",
    "\n",
    "## Benefits of Rephrase and Respond\n",
    "\n",
    "1. **Improved Understanding**: By rephrasing the question, the LLM demonstrates and often improves its understanding of the query.\n",
    "2. **Clarity**: The rephrasing can help clarify ambiguous or vague queries.\n",
    "3. **Context Expansion**: The expansion part of RaR allows the LLM to consider additional relevant context.\n",
    "4. **Better Responses**: The combination of rephrasing and expanding often leads to more comprehensive and accurate responses.\n",
    "\n",
    "<div class=\"admonition tip\">\n",
    "<p class=\"admonition-title\">Effective Rephrase and Respond</p>\n",
    "<ul>\n",
    "<li><strong>Use with Shorter Prompts</strong>: RaR is particularly effective with shorter or vaguer prompts that benefit from expansion.</li>\n",
    "<li><strong>Allow for Flexibility</strong>: The rephrasing may interpret the question slightly differently, which can lead to new insights.</li>\n",
    "<li><strong>Review the Rephrasing</strong>: Pay attention to how the LLM rephrases the question, as it can provide insights into the model's understanding.</li>\n",
    "<li><strong>Iterative Refinement</strong>: If the rephrasing misses key points, consider refining your original prompt.</li>\n",
    "<li><strong>Combine with Other Techniques</strong>: RaR can be used in conjunction with other prompt engineering techniques for even better results.</li>\n",
    "</ul>\n",
    "</div>\n",
    "\n",
    "By leveraging the Rephrase and Respond technique, you can often obtain more thorough and accurate responses from the LLM, especially for queries that benefit from additional context or clarification.\n"
   ]
  }
 ],
 "metadata": {
  "kernelspec": {
   "display_name": "Python 3",
   "language": "python",
   "name": "python3"
  },
  "language_info": {
   "codemirror_mode": {
    "name": "ipython",
    "version": 2
   },
   "file_extension": ".py",
   "mimetype": "text/x-python",
   "name": "python",
   "nbconvert_exporter": "python",
   "pygments_lexer": "ipython2",
   "version": "2.7.6"
  }
 },
 "nbformat": 4,
 "nbformat_minor": 5
}
