{
 "cells": [
  {
   "cell_type": "markdown",
   "id": "72a7eb7e747f2d96",
   "metadata": {},
   "source": [
    "# Emotion Prompting\n",
    "\n",
    "[Emotion Prompting](https://arxiv.org/pdf/2307.11760) is a prompt engineering technique where you end your original prompt with a phrase of psychological importance. It is most helpful for open ended tasks, but can still improve some analytical prompts:\n",
    "\n",
    "<div class=\"admonition tip\">\n",
    "<p class=\"admonition-title\">Mirascope Concepts Used</p>\n",
    "<ul>\n",
    "<li><a href=\"../../../../learn/prompts/\">Prompts</a></li>\n",
    "<li><a href=\"../../../../learn/calls/\">Calls</a></li>\n",
    "</ul>\n",
    "</div>"
   ]
  },
  {
   "cell_type": "code",
   "execution_count": 1,
   "id": "6acb2feeb7eba8a3",
   "metadata": {
    "ExecuteTime": {
     "end_time": "2024-10-02T02:54:46.476271Z",
     "start_time": "2024-10-02T02:54:43.171981Z"
    }
   },
   "outputs": [
    {
     "name": "stdout",
     "output_type": "stream",
     "text": [
      "Subject: Request for a Day Off\n",
      "\n",
      "Dear [Boss's Name],\n",
      "\n",
      "I hope this message finds you well. I am writing to formally request a day off for mental health reasons on [specific date]. I believe taking this time will allow me to recharge and return to work with renewed focus and energy.\n",
      "\n",
      "I understand the importance of maintaining productivity and teamwork, and I will ensure that any pressing tasks are managed before my absence. I will also make sure to communicate with the team so that there are no disruptions.\n",
      "\n",
      "Thank you for your understanding and support regarding my request. I’m committed to maintaining my well-being, which ultimately contributes to my overall performance and our team's success.\n",
      "\n",
      "Best regards,\n",
      "\n",
      "[Your Name]  \n",
      "[Your Position]  \n",
      "[Your Contact Information]  \n"
     ]
    }
   ],
   "source": [
    "from mirascope.core import openai, prompt_template\n",
    "\n",
    "emotion_augment = \"This is very important to my career.\"\n",
    "\n",
    "\n",
    "@openai.call(model=\"gpt-4o-mini\")\n",
    "@prompt_template(\"{query} {emotion_augment}\")\n",
    "def call(query: str, emotion_prompt: bool = False) -> openai.OpenAIDynamicConfig:\n",
    "    return {\n",
    "        \"computed_fields\": {\n",
    "            \"emotion_augment\": emotion_augment if emotion_prompt else \"\",\n",
    "        }\n",
    "    }\n",
    "\n",
    "\n",
    "prompt = \"\"\"Write me an email I can send to my boss about how I need to\n",
    "take a day off for mental health reasons.\"\"\"\n",
    "\n",
    "print(call(query=prompt, emotion_prompt=True))"
   ]
  },
  {
   "cell_type": "markdown",
   "id": "8e44d3a08fa01482",
   "metadata": {},
   "source": [
    "This example demonstrates how to implement emotion prompting using Mirascope. The `emotion_augment` variable contains the emotional phrase that will be added to the end of the prompt when `emotion_prompt` is set to `True`.\n",
    "\n",
    "## Benefits of Emotion Prompting\n",
    "\n",
    "1. **Increased Engagement**: Adding emotional context can make the LLM's responses more empathetic and engaging.\n",
    "2. **Improved Relevance**: Emotional prompts can help guide the LLM to provide responses that are more relevant to the user's emotional state or needs.\n",
    "3. **Enhanced Creativity**: For open-ended tasks, emotion prompting can lead to more creative and nuanced responses.\n",
    "4. **Better Problem Solving**: In some cases, emotion prompting can help the LLM focus on more critical aspects of a problem or question.\n",
    "\n",
    "<div class=\"admonition tip\">\n",
    "<p class=\"admonition-title\">Effective Emotion Prompting</p>\n",
    "<ul>\n",
    "<li><strong>Choose Appropriate Emotions</strong>: Select emotional phrases that are relevant to the context of your query.</li>\n",
    "<li><strong>Be Authentic</strong>: Use emotional prompts that genuinely reflect the importance or emotional weight of the task.</li>\n",
    "<li><strong>Experiment</strong>: Try different emotional phrases to see which produces the best results for your specific use case.</li>\n",
    "<li><strong>Balance</strong>: Be careful not to overuse emotional prompting, as it may not be appropriate for all types of queries.</li>\n",
    "<li><strong>Combine with Other Techniques</strong>: Emotion prompting can be used in conjunction with other prompt engineering techniques for even better results.</li>\n",
    "</ul>\n",
    "</div>\n",
    "\n",
    "By leveraging emotion prompting, you can guide the LLM to provide responses that are more emotionally attuned and potentially more helpful for tasks that benefit from emotional context."
   ]
  }
 ],
 "metadata": {
  "kernelspec": {
   "display_name": "Python 3",
   "language": "python",
   "name": "python3"
  },
  "language_info": {
   "codemirror_mode": {
    "name": "ipython",
    "version": 2
   },
   "file_extension": ".py",
   "mimetype": "text/x-python",
   "name": "python",
   "nbconvert_exporter": "python",
   "pygments_lexer": "ipython2",
   "version": "2.7.6"
  }
 },
 "nbformat": 4,
 "nbformat_minor": 5
}
