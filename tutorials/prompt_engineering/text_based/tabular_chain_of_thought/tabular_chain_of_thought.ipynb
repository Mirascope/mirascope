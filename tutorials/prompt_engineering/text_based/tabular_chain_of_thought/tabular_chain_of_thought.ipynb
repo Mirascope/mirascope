{
 "cells": [
  {
   "cell_type": "markdown",
   "id": "e0a46ab3f0387499",
   "metadata": {},
   "source": [
    "# Tabular Chain of Thought\n",
    "\n",
    "[Tabular Chain of Thought](https://arxiv.org/pdf/2305.17812) (Tab-CoT) is an extension of zero-shot [Chain of Thought](https://arxiv.org/abs/2201.1190), with the caveat that the LLM is given a Markdown heading to structure each step of its response in an individual row of a Markdown table. The added structure can help the LLM's reasoning process and improves accuracy in arithmetic and reasoning tasks.\n",
    "\n",
    "<div class=\"admonition tip\">\n",
    "<p class=\"admonition-title\">Mirascope Concepts Used</p>\n",
    "<ul>\n",
    "<li><a href=\"../../../../learn/prompts/\">Prompts</a></li>\n",
    "<li><a href=\"../../../../learn/calls/\">Calls</a></li>\n",
    "</ul>\n",
    "</div>\n"
   ]
  },
  {
   "cell_type": "code",
   "execution_count": 2,
   "id": "68dda1702d66544",
   "metadata": {
    "ExecuteTime": {
     "end_time": "2024-10-02T03:38:38.160797Z",
     "start_time": "2024-10-02T03:38:36.099709Z"
    }
   },
   "outputs": [
    {
     "name": "stdout",
     "output_type": "stream",
     "text": [
      "| Step | Subquestion                     | Process                                                                                            | Result     |\n",
      "|------|---------------------------------|-----------------------------------------------------------------------------------------------------|------------|\n",
      "| 1    | How many puppies are left?     | Start with 102 puppies and subtract the 21 sold: 102 - 21 = 81                                   | 81 puppies |\n",
      "| 2    | How many cages are needed?     | Divide the remaining puppies by the number in each cage: 81 ÷ 9 = 9                             | 9 cages    |\n",
      "| 3    | Check for remainder?           | Calculate the remainder when dividing 81 by 9: 81 mod 9 = 0 (no remainder, so no extra cage needed)| N/A        |\n",
      "\n",
      "Final Result: The pet store used **9 cages**.\n"
     ]
    }
   ],
   "source": [
    "from mirascope.core import openai, prompt_template\n",
    "\n",
    "tab_cot_augment = \"|step|subquestion|process|result|\"\n",
    "\n",
    "\n",
    "@openai.call(model=\"gpt-4o-mini\")\n",
    "@prompt_template(\n",
    "    \"\"\"\n",
    "    {query}\n",
    "    {tab_cot_augment}\n",
    "    \"\"\"\n",
    ")\n",
    "def call(query: str, tab_cot_prompt: bool = False) -> openai.OpenAIDynamicConfig:\n",
    "    return {\n",
    "        \"computed_fields\": {\n",
    "            \"tab_cot_augment\": tab_cot_augment if tab_cot_prompt else \"\",\n",
    "        }\n",
    "    }\n",
    "\n",
    "\n",
    "prompt = \"\"\"A pet store had 102 puppies. In one day they sold 21 of them and put\n",
    "the rest into cages with 9 in each cage. How many cages did they use?\"\"\"\n",
    "\n",
    "print(call(query=prompt, tab_cot_prompt=True))"
   ]
  },
  {
   "cell_type": "markdown",
   "id": "f35751cc29a841ce",
   "metadata": {},
   "source": [
    "Tabular Chain of Thought is an extension of [Chain of Thought](https://arxiv.org/abs/2201.1190), with the caveat that the LLM is asked to put each step of its reasoning process in a row of a Markdown table. The added structure can structure the LLM's reasoning and make it likelier to give a correct answer.\n"
   ]
  },
  {
   "cell_type": "code",
   "execution_count": 3,
   "id": "cd60bd6cf60954e0",
   "metadata": {
    "ExecuteTime": {
     "end_time": "2024-10-02T03:39:00.073128Z",
     "start_time": "2024-10-02T03:38:52.106497Z"
    }
   },
   "outputs": [
    {
     "name": "stdout",
     "output_type": "stream",
     "text": [
      "To find the area of the equilateral triangle that is circumscribed by the circle with radius 1, first we need to find the side length of the triangle.\n",
      "\n",
      "In an equilateral triangle, all sides are equal. Let's label the side length as \"s\". \n",
      "\n",
      "The radius of the circle will be the distance from the center of the circle to the midpoint of a side of the equilateral triangle. This forms a right triangle with the side of the equilateral triangle and half of the side of the equilateral triangle. Using the Pythagorean theorem, we have:\n",
      "\n",
      "s^2 = (s/2)^2 + 1^2\n",
      "s^2 = s^2/4 + 1\n",
      "3s^2/4 = 1\n",
      "s^2 = 4/3\n",
      "s = sqrt(4/3)\n",
      "s = 2/sqrt(3)\n",
      "\n",
      "Now that we have the side length of the equilateral triangle, we can find the area of the triangle using the formula:\n",
      "\n",
      "Area = (sqrt(3)/4)(s^2)\n",
      "Area = (sqrt(3)/4)(4/3)\n",
      "Area = sqrt(3)/3\n",
      "\n",
      "Therefore, the area of the equilateral triangle is sqrt(3)/3 units squared.\n",
      "\n",
      "\n",
      "\n",
      "\n",
      "| Step | Calculation                                      | Reasoning                                                                                  |\n",
      "|------|--------------------------------------------------|--------------------------------------------------------------------------------------------|\n",
      "| 1    | Equilateral triangle has all equal sides        | By definition, all sides of an equilateral triangle are equal                               |\n",
      "| 2    | The radius of the circle is 1                   | Given in the problem statement                                                            |\n",
      "| 3    | The radius of the circle is the distance         | From the center of the circle to any vertex of the triangle, which is also the altitude    |\n",
      "| 4    | The altitude of an equilateral triangle         | Is also the perpendicular bisector of any side of the triangle                            |\n",
      "| 5    | Dividing the angle at a vertex of the triangle  | into two equal parts gives two 30-60-90 right triangles                                  |\n",
      "| 6    | The side opposite the 60 degree angle in         | a 30-60-90 triangle is $\\sqrt{3}$ times the side opposite the 30 degree angle             |\n",
      "| 7    | The side opposite the 30 degree angle in a       | 30-60-90 triangle is 1 times the radius of the circle                                      |\n",
      "| 8    | Therefore, the side opposite the 60 degree       | angle in our equilateral triangle is $\\sqrt{3}$ times the radius of the circle, which is 1 |\n",
      "| 9    | Using the formula for the area of an equilateral | triangle with side length \"s\": $Area = \\frac{\\sqrt{3}}{4} * s^2$                           |\n",
      "| 10   | Substituting $s = \\sqrt{3}$                      | into the formula gives $Area = \\frac{\\sqrt{3}}{4} * (\\sqrt{3})^2 = \\frac{3\\sqrt{3}}{4}$     |\n",
      "| 11   | Thus, the area of the equilateral triangle       | circumscribed by a circle with radius 1 is $\\frac{3\\sqrt{3}}{4}$ units squared              |\n"
     ]
    }
   ],
   "source": [
    "from mirascope.core import openai\n",
    "\n",
    "\n",
    "@openai.call(model=\"gpt-3.5-turbo\")\n",
    "def call(query: str) -> str:\n",
    "    return query\n",
    "\n",
    "\n",
    "prompt = \"\"\"\n",
    "A circle with radius 1 circumscribes (perfectly surrounds) an equilateral triangle.\n",
    "What's the area of the triangle?\n",
    "\"\"\"\n",
    "generic_response = call(prompt)\n",
    "engineered_response = call(f\"\"\"{prompt}. Explain your reasoning step by step,\n",
    "with each step in a row in a markdown table.\"\"\")\n",
    "\n",
    "print(generic_response)\n",
    "print(\"\\n\\n\\n\")\n",
    "print(engineered_response)"
   ]
  },
  {
   "cell_type": "markdown",
   "id": "e40db9142ebb458c",
   "metadata": {},
   "source": [
    "For reference, `engineered_response` answer is correct.\n",
    "\n",
    "<div class=\"admonition tip\">\n",
    "<p class=\"admonition-title\">Effective Tabular Chain of Thought Usage</p>\n",
    "<ul>\n",
    "<li><strong>Structured Reasoning</strong>: Use Tab-CoT to encourage the LLM to break down complex problems into clear, discrete steps.</li>\n",
    "<li><strong>Improved Accuracy</strong>: The tabular format can lead to improved accuracy, especially in arithmetic and multi-step reasoning tasks.</li>\n",
    "<li><strong>Easy Verification</strong>: The step-by-step tabular format makes it easier to verify the LLM's reasoning process.</li>\n",
    "<li><strong>Consistency</strong>: Tab-CoT can help maintain consistency in the problem-solving approach across different queries.</li>\n",
    "<li><strong>Visual Clarity</strong>: The table format provides a clear visual representation of the problem-solving process, which can be beneficial for understanding and presentation.</li>\n",
    "</ul>\n",
    "</div>\n",
    "\n",
    "Tabular Chain of Thought provides a structured approach to problem-solving that can enhance the LLM's reasoning capabilities. By organizing thoughts into a table format, it allows for clearer step-by-step analysis, which can lead to more accurate results, especially in complex arithmetic or logical reasoning tasks."
   ]
  }
 ],
 "metadata": {
  "kernelspec": {
   "display_name": "Python 3",
   "language": "python",
   "name": "python3"
  },
  "language_info": {
   "codemirror_mode": {
    "name": "ipython",
    "version": 2
   },
   "file_extension": ".py",
   "mimetype": "text/x-python",
   "name": "python",
   "nbconvert_exporter": "python",
   "pygments_lexer": "ipython2",
   "version": "2.7.6"
  }
 },
 "nbformat": 4,
 "nbformat_minor": 5
}
