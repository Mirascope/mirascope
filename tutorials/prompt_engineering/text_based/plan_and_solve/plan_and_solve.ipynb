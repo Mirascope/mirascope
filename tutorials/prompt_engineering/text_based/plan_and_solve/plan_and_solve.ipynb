{
 "cells": [
  {
   "cell_type": "markdown",
   "id": "bf8c32cea97fbacf",
   "metadata": {},
   "source": [
    "# Plan and Solve\n",
    "\n",
    "[Plan and Solve](https://arxiv.org/pdf/2305.04091) is another variation of zero-shot [Chain of Thought](https://arxiv.org/abs/2201.11903) whereby the LLM is asked to reason with the improved prompt \"Q: {prompt} A: Let's first understand the problem and devise a plan to solve it. Then, let's carry out the plan and solve the problem step by step\". Plan-and-solve has shown improvements compared to standard CoT in reasoning and mathematical tasks.\n",
    "\n",
    "<div class=\"admonition tip\">\n",
    "<p class=\"admonition-title\">Mirascope Concepts Used</p>\n",
    "<ul>\n",
    "<li><a href=\"../../../../learn/prompts/\">Prompts</a></li>\n",
    "<li><a href=\"../../../../learn/calls/\">Calls</a></li>\n",
    "</ul>\n",
    "</div>"
   ]
  },
  {
   "cell_type": "code",
   "execution_count": 1,
   "id": "76225857862c503",
   "metadata": {
    "ExecuteTime": {
     "end_time": "2024-10-02T03:57:20.758424Z",
     "start_time": "2024-10-02T03:57:17.476700Z"
    }
   },
   "outputs": [
    {
     "name": "stdout",
     "output_type": "stream",
     "text": [
      "To find out how many extra apples the cafeteria ended up with, we can follow these steps:\n",
      "\n",
      "1. **Calculate the total number of apples ordered:**\n",
      "   - Red apples: 42\n",
      "   - Green apples: 7\n",
      "   - Total apples = Red apples + Green apples = 42 + 7 = 49 apples\n",
      "\n",
      "2. **Identify how many apples were taken by the students:**\n",
      "   - Number of students who wanted fruit = 9 apples (since each student is presumably taking one apple)\n",
      "\n",
      "3. **Calculate the number of extra apples:**\n",
      "   - Extra apples = Total apples - Apples taken by students\n",
      "   - Extra apples = 49 - 9 = 40\n",
      "\n",
      "Therefore, the cafeteria ended up with **40 extra apples** after the students took their fruit.\n"
     ]
    }
   ],
   "source": [
    "from mirascope.core import openai, prompt_template\n",
    "\n",
    "pas_augment = \"\"\"Let's first understand the problem and devise a plan to solve it.\n",
    "Then, let's carry out the plan and solve the problem step by step.\"\"\"\n",
    "\n",
    "\n",
    "@openai.call(model=\"gpt-4o-mini\")\n",
    "@prompt_template(\"{modifiable_query}\")\n",
    "def call(query: str, pas_prompt: bool = False) -> openai.OpenAIDynamicConfig:\n",
    "    if pas_prompt:\n",
    "        modifiable_query = f\"Q: {query}\\nA: {pas_augment}\"\n",
    "    else:\n",
    "        modifiable_query = query\n",
    "    return {\"computed_fields\": {\"modifiable_query\": modifiable_query}}\n",
    "\n",
    "\n",
    "prompt = \"\"\"The school cafeteria ordered 42 red apples and 7 green apples for\n",
    "students lunches. But, if only 9 students wanted fruit, how many extra did the\n",
    "cafeteria end up with?\"\"\"\n",
    "\n",
    "print(call(query=prompt, pas_prompt=True))"
   ]
  },
  {
   "cell_type": "markdown",
   "id": "d1011a3c5384c64",
   "metadata": {},
   "source": [
    "<div class=\"admonition tip\">\n",
    "<p class=\"admonition-title\">Effective Plan and Solve Usage</p>\n",
    "<ul>\n",
    "<li><strong>Encourage Structured Thinking</strong>: The Plan and Solve approach promotes a more organized problem-solving process, starting with understanding and planning before execution.</li>\n",
    "<li><strong>Break Down Complex Problems</strong>: Use this technique for problems that benefit from being broken down into smaller, manageable steps.</li>\n",
    "<li><strong>Improve Problem Comprehension</strong>: By asking the LLM to first understand the problem, it can lead to better overall comprehension and more accurate solutions.</li>\n",
    "<li><strong>Enhance Step-by-Step Reasoning</strong>: The explicit instruction to solve the problem step by step can result in clearer, more detailed explanations.</li>\n",
    "<li><strong>Apply to Various Domains</strong>: While particularly effective for mathematical and reasoning tasks, Plan and Solve can be adapted for a wide range of problem types.</li>\n",
    "</ul>\n",
    "</div>\n",
    "\n",
    "Plan and Solve enhances the standard Chain of Thought approach by explicitly structuring the problem-solving process into distinct phases: understanding, planning, and execution. This structured approach can lead to more comprehensive and accurate solutions, especially for complex problems that benefit from careful planning before execution. By encouraging the LLM to first grasp the problem and outline a strategy, Plan and Solve can result in more thoughtful and well-organized responses across various types of reasoning and mathematical tasks.\n"
   ]
  }
 ],
 "metadata": {
  "kernelspec": {
   "display_name": "Python 3",
   "language": "python",
   "name": "python3"
  },
  "language_info": {
   "codemirror_mode": {
    "name": "ipython",
    "version": 2
   },
   "file_extension": ".py",
   "mimetype": "text/x-python",
   "name": "python",
   "nbconvert_exporter": "python",
   "pygments_lexer": "ipython2",
   "version": "2.7.6"
  }
 },
 "nbformat": 4,
 "nbformat_minor": 5
}
