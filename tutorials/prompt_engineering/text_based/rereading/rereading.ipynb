{
 "cells": [
  {
   "cell_type": "markdown",
   "id": "ff7918f934302456",
   "metadata": {},
   "source": [
    "# Rereading\n",
    "\n",
    "<div class=\"admonition note\">\n",
    "<p class=\"admonition-title\">Note</p>\n",
    "<p>Our experiences indicate that re-reading is not as effective for newer, more powerful models such as Anthropic's 3.5 Sonnet or OpenAI's GPT-4o, although it remains effective in older models.</p>\n",
    "</div>\n",
    "\n",
    "[Rereading](https://arxiv.org/pdf/2309.06275) is a prompt engineering technique that simply asks the LLM to reread a question and repeats it. When working with older, less capable LLM models, rereading has shown improvements for all types of reasoning tasks (arithmetic, symbolic, commonsense).\n",
    "\n",
    "<div class=\"admonition tip\">\n",
    "<p class=\"admonition-title\">Mirascope Concepts Used</p>\n",
    "<ul>\n",
    "<li><a href=\"../../../../learn/prompts/\">Prompts</a></li>\n",
    "<li><a href=\"../../../../learn/calls/\">Calls</a></li>\n",
    "</ul>\n",
    "</div>\n"
   ]
  },
  {
   "cell_type": "code",
   "execution_count": 1,
   "id": "d37dce0e5166508d",
   "metadata": {
    "ExecuteTime": {
     "end_time": "2024-10-02T03:17:12.271886Z",
     "start_time": "2024-10-02T03:17:07.398045Z"
    }
   },
   "outputs": [
    {
     "name": "stdout",
     "output_type": "stream",
     "text": [
      "To analyze the situation:\n",
      "\n",
      "1. The coin starts heads up.\n",
      "2. Aluino flips the coin, which reverses it to tails up.\n",
      "3. Arthor then flips the coin again, which reverses it back to heads up.\n",
      "\n",
      "So, after both flips, the coin is heads up again. The final answer is yes, the coin is still heads up.\n"
     ]
    }
   ],
   "source": [
    "from mirascope.core import openai, prompt_template\n",
    "\n",
    "\n",
    "@openai.call(model=\"gpt-4o-mini\")\n",
    "@prompt_template(\"{query} {reread}\")\n",
    "def call(query: str, reread_prompt: bool = False) -> openai.OpenAIDynamicConfig:\n",
    "    return {\n",
    "        \"computed_fields\": {\n",
    "            \"reread\": f\"Read the question again: {query}\" if reread_prompt else \"\",\n",
    "        }\n",
    "    }\n",
    "\n",
    "\n",
    "prompt = \"\"\"A coin is heads up. aluino flips the coin. arthor flips the coin.\n",
    "Is the coin still heads up? Flip means reverse.\"\"\"\n",
    "\n",
    "print(call(query=prompt, reread_prompt=True))"
   ]
  },
  {
   "cell_type": "markdown",
   "id": "6db922b68eee687f",
   "metadata": {},
   "source": [
    "This example demonstrates how to implement the Rereading technique using Mirascope. The `reread` computed field is added to the prompt when `reread_prompt` is set to `True`, instructing the LLM to read the question again.\n",
    "\n",
    "## Benefits of Rereading\n",
    "\n",
    "1. **Improved Comprehension**: Rereading can help the LLM better understand complex or nuanced questions.\n",
    "2. **Enhanced Accuracy**: For older models, rereading has shown to improve accuracy across various reasoning tasks.\n",
    "3. **Reinforcement**: Repeating the question can reinforce key details that might be overlooked in a single pass.\n",
    "4. **Reduced Errors**: Rereading can help minimize errors that might occur due to misreading or misinterpreting the initial question.\n",
    "\n",
    "<div class=\"admonition tip\">\n",
    "<p class=\"admonition-title\">Effective Rereading</p>\n",
    "<ul>\n",
    "<li><strong>Use with Older Models</strong>: Rereading is most effective with older, less capable LLM models.</li>\n",
    "<li><strong>Apply to Complex Questions</strong>: Consider using rereading for questions that involve multiple steps or complex reasoning.</li>\n",
    "<li><strong>Combine with Other Techniques</strong>: Rereading can be used in conjunction with other prompt engineering techniques for potentially better results.</li>\n",
    "<li><strong>Monitor Performance</strong>: Keep track of how rereading affects your model's performance, as its effectiveness may vary depending on the specific task and model used.</li>\n",
    "<li><strong>Consider Model Capabilities</strong>: For newer, more advanced models, rereading might not provide significant benefits and could potentially be redundant.</li>\n",
    "</ul>\n",
    "</div>\n",
    "\n",
    "By leveraging the Rereading technique, particularly with older LLM models, you may be able to improve the model's understanding and accuracy across various types of reasoning tasks. However, always consider the capabilities of your specific model when deciding whether to apply this technique."
   ]
  }
 ],
 "metadata": {
  "kernelspec": {
   "display_name": "Python 3",
   "language": "python",
   "name": "python3"
  },
  "language_info": {
   "codemirror_mode": {
    "name": "ipython",
    "version": 2
   },
   "file_extension": ".py",
   "mimetype": "text/x-python",
   "name": "python",
   "nbconvert_exporter": "python",
   "pygments_lexer": "ipython2",
   "version": "2.7.6"
  }
 },
 "nbformat": 4,
 "nbformat_minor": 5
}
