{
  "cells": [
    {
      "metadata": {},
      "cell_type": "markdown",
      "source": [
        "# Common Phrases (Prompt Mining)\n",
        "\n",
        "Sometimes, an LLM can appear to know more or less about a topic depending on the phrasing you use because a specific bit of information shows up far more frequently in its training data with a specific phrasing. Prompt Mining, explained in [this paper](https://direct.mit.edu/tacl/article/doi/10.1162/tacl_a_00324/96460/How-Can-We-Know-What-Language-Models-Know), involves various methods of searching for the phrase which gives the best response regarding a topic.\n",
        "\n",
        "<div class=\"admonition tip\">\n",
        "<p class=\"admonition-title\">Mirascope Concepts Used</p>\n",
        "<ul>\n",
        "<li><a href=\"../../../../learn/prompts/\">Prompts</a></li>\n",
        "<li><a href=\"../../../../learn/calls/\">Calls</a></li>\n",
        "</ul>\n",
        "</div>\n",
        "\n",
        "\n",
        "Prompt Mining itself is an extensive endeavor, but the takeaway is that LLMs are likely to give better answers when the question uses phrases that the LLM has been trained on. Here is an example where using common jargon regarding a video game produces a real answer, and a generic prompt doesn’t:\n"
      ],
      "id": "99f6bed04aa717b7"
    },
    {
      "metadata": {
        "ExecuteTime": {
          "end_time": "2024-10-02T01:56:48.507970Z",
          "start_time": "2024-10-02T01:56:43.214760Z"
        }
      },
      "cell_type": "code",
      "source": [
        "from mirascope.core import openai\n",
        "\n",
        "\n",
        "@openai.call(model=\"gpt-4o-mini\")\n",
        "def call(query: str):\n",
        "    return query\n",
        "\n",
        "\n",
        "generic_response = call(\n",
        "    \"\"\"Does the roy in smash bros ultimate have a reliable way to knock out an\\\n",
        "        opponent that starts with the A button?\"\"\"\n",
        ")\n",
        "engineered_response = call(\n",
        "    \"\"\"In smash bros ultimate, what moves comprise Roy's kill confirm combo that\\\n",
        "        starts with jab?\"\"\"\n",
        ")\n",
        "\n",
        "print(generic_response)\n",
        "print(engineered_response)"
      ],
      "id": "96760243eca356f7",
      "outputs": [
        {
          "name": "stdout",
          "output_type": "stream",
          "text": [
            "Yes, in Super Smash Bros. Ultimate, Roy has a reliable way to knock out an opponent using an attack that starts with the A button. His forward tilt (dtilt), also known as the \"F tilt,\" is a strong move that can lead to knockouts if used correctly, especially at higher percentages. Additionally, his neutral attack (AAA combo) can set up for follow-up attacks or build damage, although it's not typically a kill move on its own.\n",
            "\n",
            "If you are looking specifically for a move that can knock out and starts with the A button, Roy's forward aerial (aerial attack) is also a strong option, particularly towards the edge of the stage when opponents are at higher percentages.\n",
            "\n",
            "Keep in mind that spacing and timing are key to landing these moves effectively!\n",
            "In Super Smash Bros. Ultimate, Roy's jab kill confirm combo typically involves starting with his jab, specifically the rapid jabs. After hitting the opponent with the jab, players can follow up with:\n",
            "\n",
            "1. **Jab (rapid jabs)** - Connects with the first few hits.\n",
            "2. **F-tilt (Forward Tilt)** - After the jab, quickly input F-tilt to catch the opponent off-guard. The jab pushes the opponent slightly away, and if done correctly, the F-tilt can connect reliably.\n",
            "\n",
            "The timing and spacing are crucial for this combo to work effectively, and it often relies on the opponent being at a higher percentage for the F-tilt to secure the KO. Additionally, if performed correctly, this can work as an effective kill confirm at kill percentages.\n"
          ]
        }
      ],
      "execution_count": 2
    },
    {
      "metadata": {},
      "cell_type": "markdown",
      "source": [
        "As you can see, using common phrases and jargon specific to the topic (in this case, Super Smash Bros. Ultimate) can lead to more accurate and detailed responses from the LLM. This technique can be particularly useful when dealing with specialized or technical subjects.\n",
        "\n",
        "## Tips for Using Common Phrases\n",
        "\n",
        "1. **Research the topic**: Familiarize yourself with the common terminology and phrases used in the field you're querying about.\n",
        "\n",
        "2. **Use specific jargon**: Incorporate field-specific terms that are likely to appear in the LLM's training data.\n",
        "\n",
        "3. **Experiment with different phrasings**: Try multiple versions of your query using different common phrases to see which yields the best results.\n",
        "\n",
        "4. **Be aware of potential biases**: Remember that using common phrases might reinforce existing biases in the training data.\n",
        "\n",
        "5. **Combine with other techniques**: Use this approach in conjunction with other prompt engineering techniques for even better results.\n",
        "\n",
        "By leveraging common phrases and domain-specific language, you can often elicit more accurate and detailed responses from LLMs, especially when dealing with specialized topics or technical subjects."
      ],
      "id": "232833edbbb20356"
    }
  ],
  "metadata": {
    "kernelspec": {
      "display_name": "Python 3",
      "language": "python",
      "name": "python3"
    },
    "language_info": {
      "codemirror_mode": {
        "name": "ipython",
        "version": 2
      },
      "file_extension": ".py",
      "mimetype": "text/x-python",
      "name": "python",
      "nbconvert_exporter": "python",
      "pygments_lexer": "ipython2",
      "version": "2.7.6"
    }
  },
  "nbformat": 4,
  "nbformat_minor": 5
}
