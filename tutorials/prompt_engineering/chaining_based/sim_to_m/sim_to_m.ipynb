{
 "cells": [
  {
   "cell_type": "markdown",
   "id": "11c07cbb0ae5a801",
   "metadata": {},
   "source": [
    "# Sim to M: Enhancing LLM Reasoning with Perspective-Taking\n",
    "\n",
    "This recipe demonstrates how to implement the Sim to M (Simulation Theory of Mind) technique using Large Language Models (LLMs) with Mirascope. Sim to M is a prompt engineering method that enhances an LLM's ability to reason about complex situations involving multiple perspectives.\n",
    "\n",
    "<details class=\"tip\">\n",
    "<summary>Mirascope Concepts Used</summary>\n",
    "<ul>\n",
    "<li><a href=\"../../../../learn/prompts/\">Prompts</a></li>\n",
    "<li><a href=\"../../../../learn/calls/\">Calls</a></li>\n",
    "</ul>\n",
    "</details>\n",
    "\n",
    "<div class=\"admonition note\">\n",
    "<p class=\"admonition-title\">Background</p>\n",
    "<p><a href=\"https://arxiv.org/pdf/2311.10227\">Sim to M</a> is a prompt engineering technique for dealing with complex situations which involve multiple perspectives. First ask the LLM to establish the facts from one person's perspective, then answer the question based only on that perspective. This approach can significantly improve the LLM's ability to reason about situations involving different viewpoints or limited information.</p>\n",
    "</div>\n",
    "\n",
    "## Implementation\n",
    "\n",
    "Let's implement the Sim to M technique using Mirascope:\n"
   ]
  },
  {
   "cell_type": "code",
   "execution_count": 1,
   "id": "af4c6159fa0ebca5",
   "metadata": {
    "ExecuteTime": {
     "end_time": "2024-10-01T05:22:13.685949Z",
     "start_time": "2024-10-01T05:22:10.123008Z"
    }
   },
   "outputs": [
    {
     "name": "stdout",
     "output_type": "stream",
     "text": [
      "Based on the information provided, Jim believes the ball is in the box, as he is only aware of his own action of putting the ball there. He is unaware of Avi's action of moving the ball to the basket. Therefore, Jim thinks the ball is still in the box.\n"
     ]
    }
   ],
   "source": [
    "from mirascope.core import openai\n",
    "from mirascope.core.base.prompt import prompt_template\n",
    "\n",
    "\n",
    "@openai.call(model=\"gpt-4o-mini\")\n",
    "@prompt_template(\n",
    "    \"\"\"\n",
    "    The following is a sequence of events:\n",
    "    {story}\n",
    "    What events does {name} know about?\n",
    "    \"\"\"\n",
    ")\n",
    "def get_one_perspective(story: str, name: str):\n",
    "    \"\"\"Gets one person's perspective of a story.\"\"\"\n",
    "\n",
    "\n",
    "@openai.call(model=\"gpt-4o-mini\")\n",
    "@prompt_template(\n",
    "    \"\"\"\n",
    "    {story_from_perspective}\n",
    "    Based on the above information, answer the following question:\n",
    "    {query}\n",
    "    \"\"\"\n",
    ")\n",
    "def sim_to_m(story: str, query: str, name: str) -> openai.OpenAIDynamicConfig:\n",
    "    \"\"\"Executes the flow of the Sim to M technique.\"\"\"\n",
    "    story_from_perspective = get_one_perspective(story=story, name=name)\n",
    "    return {\"computed_fields\": {\"story_from_perspective\": story_from_perspective}}\n",
    "\n",
    "\n",
    "story = \"\"\"Jim put the ball in the box. While Jim wasn't looking, Avi moved the \\\n",
    "ball to the basket.\"\"\"\n",
    "query = \"Where does Jim think the ball is?\"\n",
    "\n",
    "print(sim_to_m(story=story, query=query, name=\"Jim\"))"
   ]
  },
  {
   "cell_type": "markdown",
   "id": "f87966dd0fbed364",
   "metadata": {},
   "source": [
    "This implementation consists of two main functions:\n",
    "\n",
    "1. `get_one_perspective`: This function takes a story and a person's name as input, and returns the events known to that person.\n",
    "2. `sim_to_m`: This function orchestrates the Sim to M technique. It first calls `get_one_perspective` to establish the facts from one person's viewpoint, then uses this perspective to answer the given query.\n",
    "\n",
    "\n",
    "## Benefits and Considerations\n",
    "\n",
    "The Sim to M implementation offers several advantages:\n",
    "\n",
    "1. Improved reasoning about situations involving multiple perspectives or limited information.\n",
    "2. Enhanced ability to model and simulate different viewpoints in complex scenarios.\n",
    "3. Potential for more accurate responses in tasks involving theory of mind or perspective-taking.\n",
    "\n",
    "When implementing this technique, consider:\n",
    "\n",
    "- Carefully crafting the initial story to include relevant information about different perspectives.\n",
    "- Ensuring that the query is specific to a particular perspective or viewpoint.\n",
    "- Experimenting with different prompts for the `get_one_perspective` function to optimize perspective extraction.\n",
    "\n",
    "<div class=\"admonition tip\">\n",
    "<p class=\"admonition-title\">Additional Real-World Applications</p>\n",
    "<ul>\n",
    "<li><b>Character Analysis in Literature</b>: Use Sim to M to analyze characters' motivations and beliefs in complex narratives.</li>\n",
    "<li><b>Conflict Resolution</b>: Apply the technique to understand different stakeholders' viewpoints in disputes.</li>\n",
    "<li><b>User Experience Design</b>: Simulate how different user groups might perceive and interact with a product or service.</li>\n",
    "<li><b>Historical Analysis</b>: Model historical figures' decision-making based on their known information at the time.</li>\n",
    "<li><b>Psychological Assessments</b>: Enhance AI-assisted psychological evaluations by better modeling individual perspectives.</li>\n",
    "</ul>\n",
    "</div>\n",
    "\n",
    "When adapting this recipe to your specific use-case, consider:\n",
    "\n",
    "- Tailoring the story and query formats to your domain for better performance.\n",
    "- Implementing a mechanism to handle multiple perspectives in more complex scenarios.\n",
    "- Combining Sim to M with other techniques like Chain of Thought for even more nuanced reasoning.\n",
    "- Developing a feedback loop to refine the perspective extraction process based on the accuracy of final answers.\n",
    "\n",
    "By leveraging Mirascope's `call` decorator and dynamic configuration, you can easily implement and customize the Sim to M technique to enhance your LLM's ability to reason about complex, multi-perspective situations across a wide range of applications."
   ]
  }
 ],
 "metadata": {
  "kernelspec": {
   "display_name": "Python 3",
   "language": "python",
   "name": "python3"
  },
  "language_info": {
   "codemirror_mode": {
    "name": "ipython",
    "version": 2
   },
   "file_extension": ".py",
   "mimetype": "text/x-python",
   "name": "python",
   "nbconvert_exporter": "python",
   "pygments_lexer": "ipython2",
   "version": "2.7.6"
  }
 },
 "nbformat": 4,
 "nbformat_minor": 5
}
