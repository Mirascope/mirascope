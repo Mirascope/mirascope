{
  "cells": [
    {
      "metadata": {},
      "cell_type": "markdown",
      "source": [
        "# Prompt Paraphrasing: Generating Diverse Prompts for LLM Testing and Evaluation\n",
        "\n",
        "[Prompt Paraphrasing](https://direct.mit.edu/tacl/article/doi/10.1162/tacl_a_00324/96460/How-Can-We-Know-What-Language-Models-Know) is not a prompt engineering technique, but rather a prompt generation technique used to create ensembles of prompts for testing or other prompt engineering techniques. In this example, we cover a specific method of generating prompts mentioned in the paper whereby a prompt is translated into $B$ versions in another language, then backtranslated into $B^2$ versions to English.\n",
        "\n",
        "<div class=\"admonition tip\">\n",
        "<p class=\"admonition-title\">Mirascope Concepts Used</p>\n",
        "<ul>\n",
        "<li><a href=\"../../../../learn/prompts/\">Prompts</a></li>\n",
        "<li><a href=\"../../../../learn/calls/\">Calls</a></li>\n",
        "<li><a href=\"../../../../learn/response_models/\">Response Models</a></li>\n",
        "</ul>\n",
        "</div>\n",
        "\n",
        "## Implementation\n",
        "\n",
        "Let's implement the Prompt Paraphrasing technique using Mirascope:\n",
        "\n",
        "\n"
      ],
      "id": "6e6000d6c6ba992c"
    },
    {
      "metadata": {
        "ExecuteTime": {
          "end_time": "2024-10-01T02:08:10.571001Z",
          "start_time": "2024-10-01T02:08:03.452475Z"
        }
      },
      "cell_type": "code",
      "source": [
        "from mirascope.core import openai, prompt_template\n",
        "from pydantic import BaseModel, Field\n",
        "\n",
        "\n",
        "class Translations(BaseModel):\n",
        "    translations: list[str] = Field(\n",
        "        ..., description=\"The list of translations into the requested language\"\n",
        "    )\n",
        "\n",
        "\n",
        "@openai.call(model=\"gpt-4o-mini\", response_model=Translations)\n",
        "@prompt_template(\n",
        "    \"\"\"\n",
        "    For this phrase: {phrase}\n",
        "\n",
        "\n",
        "    Give {num_translations} translations in {language}\n",
        "    \"\"\"\n",
        ")\n",
        "def translate(phrase: str, language: str, num_translations: int): ...\n",
        "\n",
        "\n",
        "def prompt_paraphrasing(query: str, num_translations: int = 3) -> set[str]:\n",
        "    spanish_translations = translate(\n",
        "        phrase=query,\n",
        "        language=\"Spanish\",\n",
        "        num_translations=num_translations,\n",
        "    )\n",
        "    # Avoid Duplicates\n",
        "    prompt_variations = set()\n",
        "    for spanish_phrase in spanish_translations.translations:\n",
        "        back_translations = translate(\n",
        "            spanish_phrase, language=\"English\", num_translations=3\n",
        "        )\n",
        "        prompt_variations.update(back_translations.translations)\n",
        "    return prompt_variations\n",
        "\n",
        "\n",
        "print(\n",
        "    prompt_paraphrasing(\n",
        "        query=\"What are some manageable ways to improve my focus and productivity?\"\n",
        "    )\n",
        ")"
      ],
      "id": "44f36597fa43cb54",
      "outputs": [
        {
          "name": "stdout",
          "output_type": "stream",
          "text": [
            "{'What are some ways to boost my focus and achieve greater productivity in a manageable fashion?', 'How can I improve my focus and productivity?', 'What methods are effective for enhancing my concentration and productivity?', 'What are some practical strategies to boost my focus and productivity?', 'What are some feasible methods to enhance my concentration and productivity?', 'What are some manageable ways to improve my focus and productivity?', 'What are useful ways to increase my concentration and productivity?', 'How can I improve my focus and be more productive in a manageable way?', 'How can I enhance my concentration and increase my productivity in a sustainable manner?'}\n"
          ]
        }
      ],
      "execution_count": 1
    },
    {
      "metadata": {},
      "cell_type": "markdown",
      "source": [
        "\n",
        "This implementation consists of two main functions:\n",
        "\n",
        "1. `translate`: This function takes a phrase, target language, and number of translations as input, and returns multiple translations of the phrase in the specified language.\n",
        "2. `prompt_paraphrasing`: This function orchestrates the Prompt Paraphrasing technique. It first translates the input query into Spanish, then back-translates each Spanish translation into English, creating a set of diverse prompt variations.\n",
        "\n",
        "## Benefits and Considerations\n",
        "\n",
        "The Prompt Paraphrasing implementation offers several advantages:\n",
        "\n",
        "1. Generation of diverse prompt variations for more robust LLM testing and evaluation.\n",
        "2. Potential discovery of more effective phrasings for specific tasks or queries.\n",
        "3. Improved understanding of LLM behavior across different linguistic formulations.\n",
        "\n",
        "When implementing this technique, consider:\n",
        "\n",
        "- Balancing the number of translations and languages with computational cost and time constraints.\n",
        "- Selecting appropriate languages for translation based on your specific use case or target audience.\n",
        "- Implementing a filtering mechanism to remove nonsensical or overly divergent paraphrases.\n",
        "\n",
        "<div class=\"admonition tip\">\n",
        "<p class=\"admonition-title\">Additional Real-World Applications</p>\n",
        "<ul>\n",
        "<li><b>Robustness Testing</b>: Use prompt paraphrasing to test LLM performance across various phrasings of the same query.</li>\n",
        "<li><b>Data Augmentation</b>: Generate additional training data by paraphrasing existing prompts or questions.</li>\n",
        "<li><b>Chatbot Improvement</b>: Enhance chatbot understanding by training on paraphrased versions of common queries.</li>\n",
        "<li><b>Cross-lingual Information Retrieval</b>: Improve search results by querying with multiple paraphrased versions of the search term.</li>\n",
        "<li><b>Writing Assistance</b>: Offer users alternative phrasings for their writing to improve clarity or style.</li>\n",
        "</ul>\n",
        "</div>\n",
        "\n",
        "When adapting this recipe to your specific use-case, consider:\n",
        "\n",
        "- Experimenting with different source and target languages for translation.\n",
        "- Implementing a scoring mechanism to rank paraphrases based on relevance or quality.\n",
        "- Combining Prompt Paraphrasing with other techniques like Chain of Thought or Self-Consistency for more comprehensive LLM evaluation.\n",
        "- Developing a feedback loop to refine the paraphrasing process based on LLM performance on different prompt variations.\n",
        "\n",
        "By leveraging Mirascope calls and response models, you can easily implement and customize the Prompt Paraphrasing technique to generate diverse prompts for LLM testing, evaluation, and improvement across a wide range of applications.\n",
        "\n"
      ],
      "id": "594ac76cd799374e"
    }
  ],
  "metadata": {
    "kernelspec": {
      "display_name": "Python 3",
      "language": "python",
      "name": "python3"
    },
    "language_info": {
      "codemirror_mode": {
        "name": "ipython",
        "version": 2
      },
      "file_extension": ".py",
      "mimetype": "text/x-python",
      "name": "python",
      "nbconvert_exporter": "python",
      "pygments_lexer": "ipython2",
      "version": "2.7.6"
    }
  },
  "nbformat": 4,
  "nbformat_minor": 5
}
