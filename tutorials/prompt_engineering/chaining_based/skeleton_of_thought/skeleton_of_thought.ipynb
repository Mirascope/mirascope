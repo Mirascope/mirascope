{
  "cells": [
    {
      "metadata": {},
      "cell_type": "markdown",
      "source": [
        "# Skeleton of Thought: Enhancing LLM Response Speed\n",
        "\n",
        "This recipe demonstrates how to implement Skeleton of Thought, a speed-oriented prompt engineering technique.\n",
        "\n",
        "This recipe demonstrates how to implement the Skeleton of Thought technique using Large Language Models (LLMs) with Mirascope.\n",
        "\n",
        "<details class=\"tip\">\n",
        "<summary>Mirascope Concepts Used</summary>\n",
        "<ul>\n",
        "<li><a href=\"../../../../learn/prompts/\">Prompts</a></li>\n",
        "<li><a href=\"../../../../learn/calls/\">Calls</a></li>\n",
        "<li><a href=\"../../../../learn/response_models/\">Response Models</a></li>\n",
        "</ul>\n",
        "</details>\n",
        "\n",
        "<div class=\"admonition note\">\n",
        "<p class=\"admonition-title\">Background</p>\n",
        "<p><a href=\"https://arxiv.org/pdf/2307.15337\">Skeleton of Thought</a> is a prompt-engineering technique that is speed-oriented as opposed to the quality of the response. To expedite the response from a model, make an initial call to create a \"skeleton\" of the problem that outlines its solution in bulletpoints (without further explanations), then make an individual call with each of the subpoints in parallel before reconstructing the answer at the end.</p>\n",
        "</div>\n",
        "\n",
        "## Basic Skeleton of Thought Implementation\n",
        "\n",
        "Let's start with a basic implementation of Skeleton of Thought:\n",
        "\n"
      ],
      "id": "bf4be852a732d912"
    },
    {
      "metadata": {
        "ExecuteTime": {
          "end_time": "2024-10-01T05:30:17.806153Z",
          "start_time": "2024-10-01T05:30:14.851075Z"
        }
      },
      "cell_type": "code",
      "source": [
        "import asyncio\n",
        "\n",
        "from mirascope.core import openai, prompt_template\n",
        "from pydantic import BaseModel, Field\n",
        "\n",
        "\n",
        "class Skeleton(BaseModel):\n",
        "    subpoints: list[str] = Field(\n",
        "        ...,\n",
        "        description=\"\"\"The subpoints of the skeleton of the original query.\n",
        "        Each is 3-5 words and starts with its point index, e.g. \n",
        "        1. Some subpoint...\"\"\",\n",
        "    )\n",
        "\n",
        "\n",
        "@openai.call(model=\"gpt-3.5-turbo\", response_model=Skeleton)\n",
        "@prompt_template(\n",
        "    \"\"\"\n",
        "    You're an organizer responsible for only giving the skeleton (not the full content) for answering the question.\n",
        "    Provide the skeleton in a list of points (numbered 1., 2., 3., etc.) to answer the question. \n",
        "    Instead of writing a full sentence, each skeleton point should be very short with only 3∼5 words.\n",
        "    Generally, the skeleton should have 3∼10 points.\n",
        "    Now, please provide the skeleton for the following question.\n",
        "    {query}\n",
        "    Skeleton:\n",
        "    \"\"\"\n",
        ")\n",
        "def break_into_subpoints(query: str): ...\n",
        "\n",
        "\n",
        "@openai.call(model=\"gpt-3.5-turbo\")\n",
        "@prompt_template(\n",
        "    \"\"\"\n",
        "    You're responsible for continuing the writing of one and only one point in the overall answer to the following question:\n",
        "\n",
        "    {query}\n",
        "\n",
        "    The skeleton of the answer is:\n",
        "\n",
        "    {skeleton}\n",
        "\n",
        "    Continue and only continue the writing of point {point_index}. Write it very shortly in 1-2 sentences and do not continue with other points!\n",
        "    \"\"\"\n",
        ")\n",
        "async def expand_subpoint(query: str, skeleton: list[str], point_index: int): ...\n",
        "\n",
        "\n",
        "query = \"How can I improve my focus?\"\n",
        "\n",
        "\n",
        "async def skeleton_of_thought(query):\n",
        "    skeleton = break_into_subpoints(query)\n",
        "    tasks = [\n",
        "        expand_subpoint(query, skeleton.subpoints, i + 1)\n",
        "        for i, subpoint in enumerate(skeleton.subpoints)\n",
        "    ]\n",
        "    results = await asyncio.gather(*tasks)\n",
        "    return \"\\n\".join([result.content for result in results])\n",
        "\n",
        "\n",
        "print(await skeleton_of_thought(query))"
      ],
      "id": "9cb3d7aad81b8f4d",
      "outputs": [
        {
          "name": "stdout",
          "output_type": "stream",
          "text": [
            "Identify distractions by making a list of the things that tend to pull your attention away from the task at hand. Once you know what they are, you can take steps to minimize their impact on your focus.\n",
            "Establishing a routine can help improve focus by creating structure and consistency in your daily tasks and priorities. By sticking to a set schedule, you can reduce the likelihood of getting off track and better manage your time and energy.\n",
            "Set specific goals by breaking down your tasks into smaller, manageable steps with clear deadlines. This will help you stay on track and maintain focus on what needs to be accomplished.\n",
            "4. Practice mindfulness by staying present in the moment and focusing on your breathing to help quiet the mind and improve concentration.\n",
            "Take regular breaks to give your mind time to rest and recharge, allowing you to come back to your tasks with renewed focus and energy.\n"
          ]
        }
      ],
      "execution_count": 1
    },
    {
      "metadata": {},
      "cell_type": "markdown",
      "source": [
        "This implementation demonstrates how to use Skeleton of Thought with Mirascope. The `break_into_subpoints` function creates the initial skeleton, and `expand_subpoint` expands each subpoint in parallel. The `skeleton_of_thought` function orchestrates the entire process.\n",
        "\n",
        "Intermediate Response:\n"
      ],
      "id": "b4ac3c67d21d2ca2"
    },
    {
      "metadata": {
        "ExecuteTime": {
          "end_time": "2024-10-01T05:32:43.689881Z",
          "start_time": "2024-10-01T05:32:42.599246Z"
        }
      },
      "cell_type": "code",
      "source": "print(break_into_subpoints(query))",
      "id": "ad4aed3c32538306",
      "outputs": [
        {
          "name": "stdout",
          "output_type": "stream",
          "text": [
            "subpoints=['Identify distractions', 'Implement time management techniques', 'Practice mindfulness', 'Get enough sleep', 'Stay hydrated', 'Exercise regularly', 'Set clear goals', 'Take short breaks', 'Limit multitasking']\n"
          ]
        }
      ],
      "execution_count": 2
    },
    {
      "metadata": {},
      "cell_type": "markdown",
      "source": [
        "## Benefits and Considerations\n",
        "\n",
        "The Skeleton of Thought implementation offers several advantages:\n",
        "\n",
        "1. Improved response speed by parallelizing the expansion of subpoints.\n",
        "2. Enhanced structure in responses, making them easier to read and understand.\n",
        "3. Potential for better performance on complex queries that benefit from a structured approach.\n",
        "\n",
        "When implementing this technique, consider:\n",
        "\n",
        "- Balancing the number of subpoints with the desired response length and complexity.\n",
        "- Adjusting the prompt for subpoint expansion based on the specific use case or domain.\n",
        "- Implementing error handling and retries to ensure robustness in production environments.\n",
        "\n",
        "<div class=\"admonition tip\">\n",
        "<p class=\"admonition-title\">Additional Real-World Applications</p>\n",
        "<ul>\n",
        "<li><b>Content Creation</b>: Use Skeleton of Thought to quickly generate outlines for articles or blog posts.</li>\n",
        "<li><b>Project Planning</b>: Rapidly break down complex projects into manageable tasks and subtasks.</li>\n",
        "<li><b>Educational Materials</b>: Create structured lesson plans or study guides efficiently.</li>\n",
        "<li><b>Technical Documentation</b>: Generate quick, well-structured documentation outlines for software or products.</li>\n",
        "<li><b>Problem-Solving</b>: Break down complex problems into smaller, more manageable components for analysis.</li>\n",
        "</ul>\n",
        "</div>\n",
        "\n",
        "When adapting this recipe to your specific use-case, consider:\n",
        "\n",
        "- Customizing the skeleton generation prompt to fit your domain-specific needs.\n",
        "- Experimenting with different LLM models for skeleton generation and subpoint expansion to optimize for speed and quality.\n",
        "- Implementing a feedback loop to refine the skeleton based on the quality of expanded subpoints.\n",
        "\n",
        "By leveraging Mirascope's `call` decorator, response models, and dynamic configuration, you can easily implement and customize the Skeleton of Thought technique to enhance your LLM's response speed and structure across a wide range of applications."
      ],
      "id": "27e59b6027340c50"
    }
  ],
  "metadata": {
    "kernelspec": {
      "display_name": "Python 3",
      "language": "python",
      "name": "python3"
    },
    "language_info": {
      "codemirror_mode": {
        "name": "ipython",
        "version": 2
      },
      "file_extension": ".py",
      "mimetype": "text/x-python",
      "name": "python",
      "nbconvert_exporter": "python",
      "pygments_lexer": "ipython2",
      "version": "2.7.6"
    }
  },
  "nbformat": 4,
  "nbformat_minor": 5
}
