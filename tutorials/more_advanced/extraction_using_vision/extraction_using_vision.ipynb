{
 "cells": [
  {
   "cell_type": "markdown",
   "id": "6d83af4028c16153",
   "metadata": {},
   "source": [
    "# Extraction using Vision\n",
    "\n",
    "This recipe shows how to use LLMs — in this case, OpenAI GPT-4o and Anthropic Claude 3.5 Sonnet — to extract an image into a structured output using Mirascope’s `response_model`.\n",
    "\n",
    "<div class=\"admonition tip\">\n",
    "<p class=\"admonition-title\">Mirascope Concepts Used</p>\n",
    "<ul>\n",
    "<li><a href=\"../../../learn/prompts/\">Prompts</a></li>\n",
    "<li><a href=\"../../../learn/calls/\">Calls</a></li>\n",
    "<li><a href=\"../../../learn/response_models/\">Response Models</a></li>\n",
    "</ul>\n",
    "</div>\n",
    "\n",
    "<div class=\"admonition note\">\n",
    "<p class=\"admonition-title\">Background</p>\n",
    "<p>\n",
    "Traditionally, extracting text from images was done using Optical Character Recognition (OCR). LLMs have greatly enhanced the ability to automatically extract and analyze complex information from documents, significantly improving efficiency and accuracy in data processing tasks, since they have the ability to comprehend context, semantics, and implications within that text.\n",
    "</p>\n",
    "</div>"
   ]
  },
  {
   "cell_type": "markdown",
   "id": "8b073cf2",
   "metadata": {},
   "source": [
    "## Setup\n",
    "\n",
    "To set up our environment, first let's install all of the packages we will use:"
   ]
  },
  {
   "cell_type": "code",
   "execution_count": null,
   "id": "23736a0a",
   "metadata": {},
   "outputs": [],
   "source": [
    "!pip install \"mirascope[openai]\""
   ]
  },
  {
   "cell_type": "code",
   "execution_count": null,
   "id": "ed33b111",
   "metadata": {},
   "outputs": [],
   "source": [
    "import os\n",
    "\n",
    "os.environ[\"OPENAI_API_KEY\"] = \"YOUR_API_KEY\"\n",
    "# Set the appropriate API key for the provider you're using"
   ]
  },
  {
   "cell_type": "markdown",
   "id": "a954b34d",
   "metadata": {},
   "source": [
    "## Extracting Receipt Items\n",
    "\n",
    "We define an `Item` model that has some information we care to extract."
   ]
  },
  {
   "cell_type": "code",
   "execution_count": 1,
   "id": "297ae544fa12b657",
   "metadata": {
    "ExecuteTime": {
     "end_time": "2024-09-30T11:55:46.346406Z",
     "start_time": "2024-09-30T11:55:46.280831Z"
    }
   },
   "outputs": [],
   "source": [
    "from pydantic import BaseModel, Field\n",
    "\n",
    "\n",
    "class Item(BaseModel):\n",
    "    name: str = Field(..., description=\"The name of the item\")\n",
    "    quantity: int = Field(..., description=\"The quantity of the item\")\n",
    "    price: float = Field(..., description=\"The price of the item\")"
   ]
  },
  {
   "cell_type": "markdown",
   "id": "aa7c0f470816b35c",
   "metadata": {},
   "source": [
    "## Creating the prompt\n",
    "\n",
    "There are differences between how providers handle their multimodal inputs. For example, OpenAI supports passing in images directly, whereas Anthropic requires the image to be base64 encoded. Mirascope eliminates the need to handle these providers differently and unifies the interface for you. For all providers that support multimodal, we can take advantage of Mirascope parsing and pass in the image directly via `{<variable_name>:image}`.\n",
    "Also, We set the `response_model` to `list[Item]` so that our LLM knows to extract each item.\n"
   ]
  },
  {
   "cell_type": "code",
   "execution_count": 2,
   "id": "17ed5d15e589b322",
   "metadata": {
    "ExecuteTime": {
     "end_time": "2024-09-30T11:55:48.764967Z",
     "start_time": "2024-09-30T11:55:47.832239Z"
    }
   },
   "outputs": [],
   "source": [
    "from mirascope.core import anthropic, openai, prompt_template\n",
    "\n",
    "\n",
    "@openai.call(model=\"gpt-4o\", response_model=list[Item])\n",
    "@prompt_template(\n",
    "    \"\"\"\n",
    "    SYSTEM:\n",
    "    Extract the receipt information from the image.\n",
    "    \n",
    "    USER:\n",
    "    {url:image}\n",
    "    \"\"\"\n",
    ")\n",
    "def extract_receipt_info_openai(url: str): ...\n",
    "\n",
    "\n",
    "@anthropic.call(\n",
    "    model=\"claude-3-5-sonnet-20240620\", response_model=list[Item], json_mode=True\n",
    ")\n",
    "@prompt_template(\n",
    "    \"\"\"\n",
    "    Extract the receipt information from the image.\n",
    "    \n",
    "    {url:image}\n",
    "    \"\"\"\n",
    ")\n",
    "def extract_receipt_info_anthropic(url: str): ..."
   ]
  },
  {
   "cell_type": "markdown",
   "id": "9217a56c23b0fd08",
   "metadata": {},
   "source": [
    "let's get the results:"
   ]
  },
  {
   "cell_type": "code",
   "execution_count": 3,
   "id": "ce0340baacfcdd4b",
   "metadata": {
    "ExecuteTime": {
     "end_time": "2024-09-30T11:55:55.926684Z",
     "start_time": "2024-09-30T11:55:50.249473Z"
    }
   },
   "outputs": [
    {
     "name": "stdout",
     "output_type": "stream",
     "text": [
      "[Item(name='Happy Meal 6 Pc', quantity=1, price=4.89), Item(name='Snack Oreo McFlurry', quantity=1, price=2.69)]\n",
      "[Item(name='Happy Meal 6 Pc', quantity=1, price=4.89), Item(name='Snack Oreo McFlurry', quantity=1, price=2.69)]\n"
     ]
    }
   ],
   "source": [
    "import base64\n",
    "\n",
    "import httpx\n",
    "\n",
    "image_url = \"https://www.receiptfont.com/wp-content/uploads/template-mcdonalds-1-screenshot-fit.png\"\n",
    "\n",
    "image_media_type = \"image/png\"\n",
    "image_data = base64.b64encode(httpx.get(image_url).content).decode(\"utf-8\")\n",
    "\n",
    "print(extract_receipt_info_openai(image_url))\n",
    "\n",
    "print(extract_receipt_info_anthropic(image_url))"
   ]
  },
  {
   "cell_type": "markdown",
   "id": "7f952e3744fdd0c5",
   "metadata": {},
   "source": [
    "We see that both LLMs return the same response which gives us more confidence that the image was extracted accurately, but it is not guaranteed.\n",
    "\n",
    "<div class=\"admonition tip\">\n",
    "<p class=\"admonition-title\">Additional Real-World Examples</p>\n",
    "<ul>\n",
    "<li><b>Split your Bill</b>: Building off our example, we can upload our receipt along with a query stating who ordered what dish and have the LLM split the bill for you.</li>\n",
    "<li><b>Content Moderation</b>: Classify user-generated images as appropriate, inappropriate, or requiring manual review.</li>\n",
    "<li><b>Ecommerce Product Classification</b>: Create descriptions and features from product images.</li>\n",
    "</ul>\n",
    "</div>\n",
    "\n",
    "When adapting this recipe to your specific use-case, consider the following:\n",
    "\n",
    "- Refine your prompts to provide clear instructions and relevant context for your image extraction. In our example, there were sub-items that were not extracted, which depending on your situation may need to be extracted as well.\n",
    "- Experiment with different model providers and version to balance accuracy and speed.\n",
    "- Use multiple model providers to verify if results are correct.\n",
    "- Use `async` for multiple images and run the calls in parallel.\n"
   ]
  }
 ],
 "metadata": {
  "kernelspec": {
   "display_name": "Python 3",
   "language": "python",
   "name": "python3"
  },
  "language_info": {
   "codemirror_mode": {
    "name": "ipython",
    "version": 2
   },
   "file_extension": ".py",
   "mimetype": "text/x-python",
   "name": "python",
   "nbconvert_exporter": "python",
   "pygments_lexer": "ipython2",
   "version": "2.7.6"
  }
 },
 "nbformat": 4,
 "nbformat_minor": 5
}
