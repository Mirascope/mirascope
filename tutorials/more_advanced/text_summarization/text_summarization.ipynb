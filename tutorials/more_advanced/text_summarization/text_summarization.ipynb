{
 "cells": [
  {
   "cell_type": "markdown",
   "id": "e64fd8485eae1ce8",
   "metadata": {},
   "source": [
    "# Text Summarization\n",
    "\n",
    "In this recipe, we show some techniques to improve an LLM’s ability to summarize a long text from simple (e.g. `\"Summarize this text: {text}...\"`) to more complex prompting and chaining techniques. We will use OpenAI’s GPT-4o-mini model (128k input token limit), but you can use any model you’d like to implement these summarization techniques, as long as they have a large context window.\n",
    "\n",
    "<div class=\"admonition tip\">\n",
    "<p class=\"admonition-title\">Mirascope Concepts Used</p>\n",
    "<ul>\n",
    "<li><a href=\"../../../learn/prompts/\">Prompts</a></li>\n",
    "<li><a href=\"../../../learn/calls/\">Calls</a></li>\n",
    "<li><a href=\"../../../learn/response_models/\">Response Models</a></li>\n",
    "</ul>\n",
    "</div>\n",
    "\n",
    "\n",
    "<div class=\"admonition note\">\n",
    "<p class=\"admonition-title\">Background</p>\n",
    "<p>\n",
    "    Large Language Models (LLMs) have revolutionized text summarization by enabling more coherent and contextually aware abstractive summaries. Unlike earlier models that primarily extracted or rearranged existing sentences, LLMs can generate novel text that captures the essence of longer documents while maintaining readability and factual accuracy.\n",
    "\n",
    "</p>\n",
    "</div>"
   ]
  },
  {
   "cell_type": "markdown",
   "id": "ac79c695",
   "metadata": {},
   "source": [
    "## Setup\n",
    "\n",
    "Let's start by installing Mirascope and its dependencies:"
   ]
  },
  {
   "cell_type": "code",
   "execution_count": null,
   "id": "c39fa513",
   "metadata": {},
   "outputs": [],
   "source": [
    "!pip install \"mirascope[openai]\""
   ]
  },
  {
   "cell_type": "code",
   "execution_count": null,
   "id": "df300bf5",
   "metadata": {},
   "outputs": [],
   "source": [
    "import os\n",
    "\n",
    "os.environ[\"OPENAI_API_KEY\"] = \"YOUR_API_KEY\"\n",
    "# Set the appropriate API key for the provider you're using"
   ]
  },
  {
   "cell_type": "markdown",
   "id": "8b84b4d5",
   "metadata": {},
   "source": [
    "## Simple Call\n",
    "\n",
    "For our examples, we’ll use the [Wikipedia article on python](https://en.wikipedia.org/wiki/Python_(programming_language)). We will be referring to this article as `wikipedia-python.txt`.\n",
    "\n",
    "The command below will download the article to your local machine by using the `curl` command. If you don't have `curl` installed, you can download the article manually from the link above and save it as `wikipedia-python.html`."
   ]
  },
  {
   "cell_type": "code",
   "execution_count": 1,
   "id": "d2819ce3328bbe15",
   "metadata": {
    "ExecuteTime": {
     "end_time": "2024-09-30T06:10:18.139523Z",
     "start_time": "2024-09-30T06:10:16.714981Z"
    }
   },
   "outputs": [
    {
     "name": "stdout",
     "output_type": "stream",
     "text": [
      "  % Total    % Received % Xferd  Average Speed   Time    Time     Time  Current\r\n",
      "                                 Dload  Upload   Total   Spent    Left  Speed\r\n",
      "100  651k  100  651k    0     0   506k      0  0:00:01  0:00:01 --:--:--  506k\r\n"
     ]
    }
   ],
   "source": [
    "!curl \"https://en.wikipedia.org/wiki/Python_(programming_language)\" -o wikipedia-python.html"
   ]
  },
  {
   "cell_type": "markdown",
   "id": "56c89b60a4cfcc96",
   "metadata": {},
   "source": [
    "Install beautifulsoup4 to parse the HTML file."
   ]
  },
  {
   "cell_type": "code",
   "execution_count": null,
   "id": "c729bf67756a55c7",
   "metadata": {},
   "outputs": [],
   "source": [
    "!pip install beautifulsoup4"
   ]
  },
  {
   "cell_type": "markdown",
   "id": "2d9239559682ba47",
   "metadata": {},
   "source": [
    "We will be using a simple call as our baseline:"
   ]
  },
  {
   "cell_type": "code",
   "execution_count": 2,
   "id": "2e7f9a366601cc8",
   "metadata": {
    "ExecuteTime": {
     "end_time": "2024-09-30T06:10:29.644303Z",
     "start_time": "2024-09-30T06:10:20.633493Z"
    }
   },
   "outputs": [
    {
     "name": "stdout",
     "output_type": "stream",
     "text": [
      "Python is a high-level, general-purpose programming language designed for code readability and simplicity. Created by Guido van Rossum and first released in 1991, Python supports multiple programming paradigms, including procedural, object-oriented, and functional programming. Its design emphasizes dynamic typing, garbage collection, and a comprehensive standard library, often referred to as having a \"batteries included\" philosophy.\n",
      "\n",
      "Key milestones in Python's history include the release of Python 2.0 in 2000 and Python 3.0 in 2008, which introduced major changes and was not fully backwards compatible with Python 2.x. The latter version aimed to improve language simplicity and efficiency, while the support for Python 2.7 officially ended in 2020.\n",
      "\n",
      "Python's unique syntax utilizes significant whitespace for block delimiters, avoids complex punctuation, and provides an intuitive style suited for beginner and expert programmers alike. \n",
      "\n",
      "Python boasts a vast ecosystem with numerous libraries and frameworks that extend its capabilities, particularly in areas like web development, data analysis, scientific computing, and machine learning, making it a popular choice among developers globally. It is consistently ranked among the top programming languages due to its versatility and community support. The language is influenced by numerous predecessors and has significantly impacted the development of many new languages. \n",
      "\n",
      "Recent versions have focused on performance boosts, improved error reporting, and maintaining compatibility with prior code while moving forward with enhancements. Overall, Python's design philosophy, rich features, and strong community have contributed to its widespread adoption across various domains.\n"
     ]
    }
   ],
   "source": [
    "from bs4 import BeautifulSoup\n",
    "from mirascope.core import openai, prompt_template\n",
    "\n",
    "\n",
    "def get_text_from_html(file_path: str) -> str:\n",
    "    with open(file_path) as file:\n",
    "        html_text = file.read()\n",
    "    return BeautifulSoup(html_text, \"html.parser\").get_text()\n",
    "\n",
    "\n",
    "text = get_text_from_html(\"wikipedia-python.html\")\n",
    "\n",
    "\n",
    "@openai.call(model=\"gpt-4o-mini\")\n",
    "@prompt_template(\n",
    "    \"\"\"\n",
    "    Summarize the following text:\n",
    "    {text}\n",
    "    \"\"\"\n",
    ")\n",
    "def simple_summarize_text(text: str): ...\n",
    "\n",
    "\n",
    "print(simple_summarize_text(text))"
   ]
  },
  {
   "cell_type": "markdown",
   "id": "3bd61e2b111a9671",
   "metadata": {},
   "source": [
    "LLMs excel at summarizing shorter texts, but they often struggle with longer documents, failing to capture the overall structure while sometimes including minor, irrelevant details that detract from the summary's coherence and relevance.\n",
    "\n",
    "One simple update we can make is to improve our prompt by providing an initial outline of the text then adhere to this outline to create its summary.\n",
    "\n",
    "# Simple Call with Outline\n",
    "\n",
    "This prompt engineering technique is an example of [Chain of Thought](https://www.promptingguide.ai/techniques/cot) (CoT), forcing the model to write out its thinking process. It also involves little work and can be done by modifying the text of the single call. With an outline, the summary is less likely to lose the general structure of the text.\n"
   ]
  },
  {
   "cell_type": "code",
   "execution_count": 3,
   "id": "d8616577753a9993",
   "metadata": {
    "ExecuteTime": {
     "end_time": "2024-09-30T06:10:49.606209Z",
     "start_time": "2024-09-30T06:10:35.644620Z"
    }
   },
   "outputs": [
    {
     "name": "stdout",
     "output_type": "stream",
     "text": [
      "### Outline\n",
      "\n",
      "1. **Introduction**\n",
      "   - Overview of Python\n",
      "   - Characteristics (high-level, general-purpose, dynamic typing)\n",
      "   - Popularity and usage \n",
      "\n",
      "2. **History**\n",
      "   - Development by Guido van Rossum\n",
      "   - Key milestones (Python 0.9.0, 2.0, 3.0)\n",
      "   - Transition from Python 2 to 3\n",
      "   - Release management and versions\n",
      "\n",
      "3. **Design Philosophy and Features**\n",
      "   - Multi-paradigm programming language\n",
      "   - Emphasis on readability and simplicity\n",
      "   - The Zen of Python\n",
      "   - Extensibility and modularity\n",
      "   - Language clarity vs. functionality\n",
      "\n",
      "4. **Syntax and Semantics**\n",
      "   - Code readability features\n",
      "   - Usage of indentation for block delimitation\n",
      "   - Types of statements and control flow constructs\n",
      "   - Expressions and operator usage\n",
      "\n",
      "5. **Programming Examples**\n",
      "   - Simple example programs demonstrating Python features\n",
      "\n",
      "6. **Libraries**\n",
      "   - Overview of Python’s standard library\n",
      "   - Third-party packages and Python Package Index (PyPI)\n",
      "   - Use cases in various domains (web, data analysis, etc.)\n",
      "\n",
      "7. **Development Environments**\n",
      "   - Integrated Development Environment (IDE) options\n",
      "   - Other programming shells\n",
      "\n",
      "8. **Implementations**\n",
      "   - Overview of CPython as the reference implementation\n",
      "   - Other adaptations like PyPy, MicroPython, etc.\n",
      "   - Cross-compilation to other languages\n",
      "\n",
      "9. **Development Process**\n",
      "   - Python Enhancement Proposal (PEP) process \n",
      "   - Community input and version management\n",
      "\n",
      "10. **Popularity**\n",
      "    - Rankings in programming language communities\n",
      "    - Major organizations using Python\n",
      "\n",
      "11. **Uses of Python**\n",
      "    - Application in web development, data science, machine learning, etc.\n",
      "    - Adoption in various industries and problem domains\n",
      "\n",
      "12. **Languages Influenced by Python**\n",
      "    - Overview of languages that took inspiration from Python’s design \n",
      "\n",
      "### Summary\n",
      "\n",
      "Python is a high-level, multi-paradigm programming language renowned for its readability and extensive standard library. Developed by Guido van Rossum, Python was first released in 1991, evolving significantly with the introduction of versions 2.0 and 3.0, transitioning away from Python 2's legacy features. \n",
      "\n",
      "The design philosophy of Python emphasizes clarity and simplicity, captured in the guiding principles known as the Zen of Python, which advocate for beautiful, explicit, and straightforward code while also allowing for extensibility through modules. This modularity has made Python popular for adding programmable interfaces to applications.\n",
      "\n",
      "Python’s syntax is intentionally designed to enhance readability, utilizing indentation to define code blocks, a practice that differentiates it from many other languages which rely on braces or keywords. The language supports various programming constructs including statements for control flow, exception handling, and function definitions. \n",
      "\n",
      "Moreover, Python offers a robust standard library known as \"batteries included,\" and hosts a thriving ecosystem of third-party packages on PyPI, catering to diverse applications ranging from web development to data analytics and machine learning. \n",
      "\n",
      "Various Integrated Development Environments (IDEs) and shells facilitate Python development, while CPython serves as the primary reference implementation, with alternatives like PyPy enhancing performance through just-in-time compilation.\n",
      "\n",
      "Development of Python is community-driven through the Python Enhancement Proposal (PEP) process, which encourages input on new features and code standards. Python consistently ranks among the most popular programming languages and is widely adopted in major industries, influencing numerous other programming languages with its design principles.\n"
     ]
    }
   ],
   "source": [
    "@openai.call(model=\"gpt-4o-mini\")\n",
    "@prompt_template(\n",
    "    \"\"\"\n",
    "    Summarize the following text by first creating an outline with a nested structure,\n",
    "    listing all major topics in the text with subpoints for each of the major points.\n",
    "    The number of subpoints for each topic should correspond to the length and\n",
    "    importance of the major point within the text. Then create the actual summary using\n",
    "    the outline.\n",
    "    {text}\n",
    "    \"\"\"\n",
    ")\n",
    "def summarize_text_with_outline(text: str): ...\n",
    "\n",
    "\n",
    "print(summarize_text_with_outline(text))"
   ]
  },
  {
   "cell_type": "markdown",
   "id": "f32cc9b09cd2c229",
   "metadata": {},
   "source": [
    "By providing an outline, we enable the LLM to better adhere to the original article's structure, resulting in a more coherent and representative summary.\n",
    "\n",
    "For our next iteration, we'll explore segmenting the document by topic, requesting summaries for each section, and then composing a comprehensive summary using both the outline and these individual segment summaries.\n",
    "\n",
    "## Segment then Summarize\n",
    "\n",
    "This more comprehensive approach not only ensures that the model adheres to the original text's structure but also naturally produces a summary whose length is proportional to the source document, as we combine summaries from each subtopic.\n",
    "\n",
    "To apply this technique, we create a `SegmentedSummary` Pydantic `BaseModel` to contain the outline and section summaries, and extract it in a chained call from the original summarize_text() call:\n"
   ]
  },
  {
   "cell_type": "code",
   "execution_count": 4,
   "id": "65f0fb6974ae0170",
   "metadata": {
    "ExecuteTime": {
     "end_time": "2024-09-30T06:11:28.756214Z",
     "start_time": "2024-09-30T06:11:13.796012Z"
    }
   },
   "outputs": [
    {
     "name": "stdout",
     "output_type": "stream",
     "text": [
      "Python was created in the late 1980s by Guido van Rossum as a successor to the ABC programming language. The first version, Python 0.9.0, was released in 1991. Major versions like Python 2.0 in 2000 and Python 3.0 in 2008 introduced significant changes. Python 2.7.18 was the last release of Python 2, while Python 3.x continues to evolve.\n",
      "\n",
      "Python is designed to emphasize code readability, using significant indentation. It supports multiple paradigms, including procedural, object-oriented, and functional programming. Its comprehensive standard library and dynamic typing are notable features.\n",
      "\n",
      "Python syntax uses indentation to define blocks, rather than curly braces or keywords. It includes various statements and control flows like assignment, if, for, while, try, except, and more. The language allows dynamic typing and has a robust set of built-in methods and operators for handling different data types.\n",
      "\n",
      "A Hello, World! program and a factorial calculation program demonstrate Python's straightforward syntax and readability. The language is known for its simplicity and ease of use, making it accessible for beginners and powerful for experienced programmers.\n",
      "\n",
      "The standard library in Python is vast, offering modules for internet protocols, string operations, web services tools, and operating system interfaces. The Python Package Index (PyPI) hosts a large collection of third-party modules for various tasks.\n",
      "\n",
      "Python supports several integrated development environments (IDEs) like PyCharm and Jupyter Notebook. It also offers basic tools like IDLE for beginners. Many advanced IDEs provide additional features like auto-completion, debugging, and syntax highlighting.\n",
      "\n",
      "CPython is the reference implementation, but there are others like PyPy, Jython, and IronPython. Variants such as MicroPython are designed for microcontrollers. Some older implementations like Unladen Swallow are no longer actively maintained.\n",
      "\n",
      "Python's development is guided by a community-driven process, primarily through Python Enhancement Proposals (PEPs). The language's development is led by the Python Software Foundation and a steering council elected by core developers.\n",
      "\n",
      "Python offers tools like Sphinx and pydoc for generating API documentation. These tools help in creating comprehensive and accessible documentation for various Python projects.\n",
      "\n",
      "Named after the British comedy group Monty Python, the language includes various playful references to the group in its documentation and culture. The term Pythonic is often used to describe idiomatic Python code.\n",
      "\n",
      "Python is highly popular, consistently ranking among the top programming languages. It is widely used by major organizations like Google, NASA, and Facebook, and has a strong presence in the scientific and data analysis communities.\n",
      "\n",
      "Python is versatile, used for web development, scientific computing, data analysis, artificial intelligence, and more. Frameworks like Django and Flask support web development, while libraries like NumPy and SciPy enable scientific research.\n",
      "\n",
      "Python has influenced many programming languages, including Julia, Swift, and Go, borrowing its design philosophy and syntax to various extents.\n"
     ]
    }
   ],
   "source": [
    "from pydantic import BaseModel, Field\n",
    "\n",
    "\n",
    "class SegmentedSummary(BaseModel):\n",
    "    outline: str = Field(\n",
    "        ...,\n",
    "        description=\"A high level outline of major sections by topic in the text\",\n",
    "    )\n",
    "    section_summaries: list[str] = Field(\n",
    "        ..., description=\"A list of detailed summaries for each section in the outline\"\n",
    "    )\n",
    "\n",
    "\n",
    "@openai.call(model=\"gpt-4o\", response_model=SegmentedSummary)\n",
    "@prompt_template(\n",
    "    \"\"\"\n",
    "    Extract a high level outline and summary for each section of the following text:\n",
    "    {text}\n",
    "    \"\"\"\n",
    ")\n",
    "def summarize_by_section(text): ...\n",
    "\n",
    "\n",
    "@openai.call(model=\"gpt-4o\")\n",
    "@prompt_template(\n",
    "    \"\"\"\n",
    "    The following contains a high level outline of a text along with summaries of a\n",
    "    text that has been segmented by topic. Create a composite, larger summary by putting\n",
    "    together the summaries according to the outline.\n",
    "    Outline:\n",
    "    {outline}\n",
    "\n",
    "    Summaries:\n",
    "    {summaries}\n",
    "    \"\"\"\n",
    ")\n",
    "def summarize_text_chaining(text: str) -> openai.OpenAIDynamicConfig:\n",
    "    segmented_summary = summarize_by_section(text)\n",
    "    return {\n",
    "        \"computed_fields\": {\n",
    "            \"outline\": segmented_summary.outline,\n",
    "            \"summaries\": segmented_summary.section_summaries,\n",
    "        }\n",
    "    }\n",
    "\n",
    "\n",
    "print(summarize_text_chaining(text))"
   ]
  },
  {
   "cell_type": "markdown",
   "id": "7ebdcfd8d1c59177",
   "metadata": {},
   "source": [
    "<div class=\"admonition tip\">\n",
    "<p class=\"admonition-title\">Additional Real-World Applications</p>\n",
    "<ul>\n",
    "<li><b>Meeting Notes</b>: Convert meeting from speech-to-text then summarize the text for reference.</li>\n",
    "<li><b>Education</b>: Create study guides or slides from textbook material using summaries.</li>\n",
    "<li><b>Productivity</b>: Summarize email chains, slack threads, word documents for your day-to-day.</li>\n",
    "</ul>\n",
    "</div>\n",
    "\n",
    "When adapting this recipe to your specific use-case, consider the following:\n",
    "    - Refine your prompts to provide clear instructions and relevant context for text summarization.\n",
    "    - Experiment with different model providers and version to balance quality and speed.\n",
    "    - Provide a feedback loop, use an LLM to evaluate the quality of the summary based on a criteria and feed that back into the prompt for refinement.\n",
    "\n"
   ]
  }
 ],
 "metadata": {
  "kernelspec": {
   "display_name": "Python 3",
   "language": "python",
   "name": "python3"
  },
  "language_info": {
   "codemirror_mode": {
    "name": "ipython",
    "version": 2
   },
   "file_extension": ".py",
   "mimetype": "text/x-python",
   "name": "python",
   "nbconvert_exporter": "python",
   "pygments_lexer": "ipython2",
   "version": "2.7.6"
  }
 },
 "nbformat": 4,
 "nbformat_minor": 5
}
