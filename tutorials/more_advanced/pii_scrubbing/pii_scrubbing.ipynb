{
 "cells": [
  {
   "cell_type": "markdown",
   "id": "ffc7c8ae05ec26fa",
   "metadata": {},
   "source": [
    "# PII Scrubbing\n",
    "\n",
    "In this recipe, we go over how to detect Personal Identifiable Information, or PII and redact it from your source. Whether your source is from a database, a document, or spreadsheet, it is important prevent PII from leaving your system. We will be using Ollama for data privacy.\n",
    "\n",
    "<div class=\"admonition tip\">\n",
    "<p class=\"admonition-title\">Mirascope Concepts Used</p>\n",
    "<ul>\n",
    "<li><a href=\"../../../learn/prompts/\">Prompts</a></li>\n",
    "<li><a href=\"../../../learn/calls/\">Calls</a></li>\n",
    "<li><a href=\"../../../learn/response_models/\">Response Model</a></li>\n",
    "</ul>\n",
    "</div>\n",
    "\n",
    "<div class=\"admonition note\">\n",
    "<p class=\"admonition-title\">Background</p>\n",
    "<p>\n",
    "Prior to Natural Language Processing (NLP) and Named Entity Recognition (NER) techniques, scrubbing or redacting sensitive information was a time-consuming manual task. LLMs have improved on this by being able to understand context surrounding sensitive information.\n",
    "</p>\n",
    "</div>"
   ]
  },
  {
   "cell_type": "markdown",
   "id": "4088428e",
   "metadata": {},
   "source": [
    "## Setup\n",
    "\n",
    "Let's start by installing Mirascope and its dependencies:"
   ]
  },
  {
   "cell_type": "code",
   "execution_count": null,
   "id": "23d0c6c3",
   "metadata": {},
   "outputs": [],
   "source": [
    "!pip install \"mirascope[openai]\""
   ]
  },
  {
   "cell_type": "code",
   "execution_count": null,
   "id": "6a4fecb9",
   "metadata": {},
   "outputs": [],
   "source": [
    "import os\n",
    "\n",
    "os.environ[\"OPENAI_API_KEY\"] = \"YOUR_API_KEY\"\n",
    "# Set the appropriate API key for the provider you're using"
   ]
  },
  {
   "cell_type": "markdown",
   "id": "64967920",
   "metadata": {},
   "source": [
    "## Create your prompt\n",
    "\n",
    "The first step is to grab the definition of PII for our prompt to use. Note that in this example we will be using US Labor Laws so be sure to use your countries definition. We can access the definition [here](https://www.dol.gov/general/ppii)."
   ]
  },
  {
   "cell_type": "code",
   "execution_count": 1,
   "id": "d7636eba0798b291",
   "metadata": {
    "ExecuteTime": {
     "end_time": "2024-09-30T08:05:46.516530Z",
     "start_time": "2024-09-30T08:05:45.596031Z"
    }
   },
   "outputs": [],
   "source": [
    "from mirascope.core import openai, prompt_template\n",
    "from openai import OpenAI\n",
    "\n",
    "PII_DEFINITION = \"\"\"\n",
    "Any representation of information that permits the identity of an individual to whom \n",
    "the information applies to be reasonably inferred by either direct or indirect means. \n",
    "Further, PII is defined as information: (i) that directly identifies an \n",
    "individual (e.g., name, address, social security number or other identifying \n",
    "number or code, telephone number, email address, etc.) or (ii) by which an agency \n",
    "intends to identify specific individuals in conjunction with other data elements, \n",
    "i.e., indirect identification. (These data elements may include a combination of gender, \n",
    "race, birth date, geographic indicator, and other descriptors). Additionally, \n",
    "information permitting the physical or online contacting of a specific individual is \n",
    "the same as personally identifiable information. This information can be maintained \n",
    "in either paper, electronic or other media.\n",
    "\"\"\"\n",
    "\n",
    "\n",
    "@openai.call(\n",
    "    model=\"llama3.1\",\n",
    "    client=OpenAI(base_url=\"http://localhost:11434/v1\", api_key=\"ollama\"),\n",
    "    json_mode=True,\n",
    "    response_model=bool,\n",
    ")\n",
    "@prompt_template(\n",
    "    \"\"\"\n",
    "    SYSTEM:\n",
    "    You are an expert at identifying personally identifiable information (PII).\n",
    "    Using the following definition of PII, \n",
    "    determine if the article contains PII with True or False?\n",
    "\n",
    "    Definition of PII: {PII_DEFINITION}\n",
    "\n",
    "    USER: {article}\n",
    "    \"\"\"\n",
    ")\n",
    "def check_if_pii_exists(article: str) -> openai.OpenAIDynamicConfig:\n",
    "    return {\"computed_fields\": {\"PII_DEFINITION\": PII_DEFINITION}}"
   ]
  },
  {
   "cell_type": "markdown",
   "id": "e0e6eed826f27e3b",
   "metadata": {},
   "source": [
    "\n",
    "Using Mirascope’s `response_model` we first detect if PII exists and return a `bool` , this will determine our next steps.\n",
    "\n",
    "## Verify the prompt quality\n",
    "\n",
    "We will be using a fake document to test the accuracy of our prompt:\n"
   ]
  },
  {
   "cell_type": "code",
   "execution_count": 2,
   "id": "3c2cf54b2dd0722c",
   "metadata": {
    "ExecuteTime": {
     "end_time": "2024-09-30T08:05:53.756175Z",
     "start_time": "2024-09-30T08:05:52.893395Z"
    }
   },
   "outputs": [
    {
     "name": "stdout",
     "output_type": "stream",
     "text": [
      "True\n"
     ]
    }
   ],
   "source": [
    "PII_ARTICLE = \"\"\"\n",
    "John Doe, born on 12/07/1985, resides at 123 Ruecker Harbor in Goodwinshire, WI. \n",
    "His Social Security number is 325-21-4386 and he can be reached at (123) 456-7890. \n",
    "\"\"\"\n",
    "\n",
    "does_pii_exist = check_if_pii_exists(PII_ARTICLE)\n",
    "print(does_pii_exist)"
   ]
  },
  {
   "cell_type": "markdown",
   "id": "b61872b2ca3485f2",
   "metadata": {},
   "source": [
    "\n",
    "## Redact PII\n",
    "\n",
    "For articles that are flagged as containing PII, we now need to redact that information if we are still planning on sending that document. We create another prompt specific to redacting data by provide an example for the LLM to use:\n"
   ]
  },
  {
   "cell_type": "code",
   "execution_count": 3,
   "id": "98df1caa8f649a4",
   "metadata": {
    "ExecuteTime": {
     "end_time": "2024-09-30T08:05:55.853260Z",
     "start_time": "2024-09-30T08:05:54.394726Z"
    }
   },
   "outputs": [
    {
     "name": "stdout",
     "output_type": "stream",
     "text": [
      "True\n",
      "[NAME], born on [BIRTH_DATE], resides at [ADDRESS] in [CITY], [STATE]. His [IDENTIFICATION_NUMBER] is [SOCIAL_SECURITY_NUMBER] and he can be reached at [PHONE_NUMBER].\n"
     ]
    }
   ],
   "source": [
    "@openai.call(\n",
    "    model=\"llama3.1\",\n",
    "    client=OpenAI(base_url=\"http://localhost:11434/v1\", api_key=\"ollama\"),\n",
    ")\n",
    "@prompt_template(\n",
    "    \"\"\"\n",
    "    SYSTEM:\n",
    "    You are an expert at redacting personally identifiable information (PII).\n",
    "    Replace the PII in the following article with context words.\n",
    "\n",
    "    If PII exists in the article, replace it with context words. For example, if the\n",
    "    phone number is 123-456-7890, replace it with [PHONE_NUMBER].\n",
    "\n",
    "    USER: {article}\n",
    "    \"\"\"\n",
    ")\n",
    "def scrub_pii(article: str): ...\n",
    "\n",
    "\n",
    "def run():\n",
    "    does_pii_exist = check_if_pii_exists(PII_ARTICLE)\n",
    "    print(does_pii_exist)\n",
    "    # Output:\n",
    "    # True\n",
    "    if does_pii_exist:\n",
    "        return scrub_pii(PII_ARTICLE)\n",
    "    else:\n",
    "        return \"No PII found in the article.\"\n",
    "\n",
    "\n",
    "print(run())"
   ]
  },
  {
   "cell_type": "markdown",
   "id": "1d991a8d94e5c5f8",
   "metadata": {},
   "source": [
    "<div class=\"admonition tip\">\n",
    "<p class=\"admonition-title\">Additional Real-World Applications</p>\n",
    "<ul>\n",
    "<li><b>Medical Records</b>: Iterate on the above recipe and scrub any PII when sharing patient data for research.</li>\n",
    "<li><b>Legal Documents</b>: Court documents and legal filings frequently contain sensitive information that needs to be scrubbed before public release.</li>\n",
    "<li><b>Corporate Financial Reports</b>: Companies may need to scrub proprietary financial data or trade secrets when sharing reports with external auditors or regulators.</li>\n",
    "<li><b>Social Media Content Moderation</b>: Automatically scrub or blur out personal information like phone numbers or addresses posted in public comments.</li>\n",
    "</ul>\n",
    "</div>\n",
    "\n",
    "When adapting this recipe to your specific use-case, consider the following:\n",
    "\n",
    "    - Use a larger model hosted on prem or in a private location to prevent data leaks.\n",
    "    - Refine the prompts for specific types of information you want scrubbed.\n",
    "    - Run the `check_if_pii_exists` call after scrubbing PII to check if all PII has been scrubbed.\n"
   ]
  }
 ],
 "metadata": {
  "kernelspec": {
   "display_name": "Python 3",
   "language": "python",
   "name": "python3"
  },
  "language_info": {
   "codemirror_mode": {
    "name": "ipython",
    "version": 2
   },
   "file_extension": ".py",
   "mimetype": "text/x-python",
   "name": "python",
   "nbconvert_exporter": "python",
   "pygments_lexer": "ipython2",
   "version": "2.7.6"
  }
 },
 "nbformat": 4,
 "nbformat_minor": 5
}
