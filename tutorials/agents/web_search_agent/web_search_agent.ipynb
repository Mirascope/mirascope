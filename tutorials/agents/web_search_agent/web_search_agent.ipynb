{
 "cells": [
  {
   "cell_type": "markdown",
   "id": "7638ee3862c99f60",
   "metadata": {},
   "source": [
    "# Web Search Agent\n",
    "\n",
    "In this recipe, we'll explore using Mirascope to enhance our Large Language Model (LLM) — specifically OpenAI's GPT-4o mini — by providing it with access to the web and its contents. We will be using DuckDuckGo's API as a tool for our Agentic workflow.\n",
    "\n",
    "<div class=\"admonition tip\">\n",
    "<p class=\"admonition-title\">Mirascope Concepts Used</p>\n",
    "<ul>\n",
    "<li><a href=\"../../../learn/prompts/\">Prompts</a></li>\n",
    "<li><a href=\"../../../learn/calls/\">Calls</a></li>\n",
    "<li><a href=\"../../../learn/agents/\">Agents</a></li>\n",
    "</ul>\n",
    "</div>\n",
    "\n",
    "<div class=\"admonition note\">\n",
    "<p class=\"admonition-title\">Background</p>\n",
    "<p>\n",
    "In the past, users had to rely on search engines and manually browse through multiple web pages to find answers to their questions. Large Language Models (LLMs) have revolutionized this process. They can efficiently utilize search engine results pages (SERPs) and extract relevant content from websites. By leveraging this information, LLMs can quickly provide accurate answers to user queries, eliminating the need for active searching. Users can simply pose their questions and let the LLM work in the background, significantly streamlining the information retrieval process.\n",
    "</p>\n",
    "</div>"
   ]
  },
  {
   "cell_type": "markdown",
   "id": "df9fcd2a",
   "metadata": {},
   "source": [
    "## Setup\n",
    "\n",
    "To set up our environment, first let's install all of the packages we will use:"
   ]
  },
  {
   "cell_type": "code",
   "execution_count": null,
   "id": "9de520d0",
   "metadata": {},
   "outputs": [],
   "source": [
    "!pip install \"mirascope[openai]\" beautifulsoup4  duckduckgo-search requests"
   ]
  },
  {
   "cell_type": "code",
   "execution_count": null,
   "id": "6abd3fd2",
   "metadata": {},
   "outputs": [],
   "source": [
    "import os\n",
    "\n",
    "os.environ[\"OPENAI_API_KEY\"] = \"YOUR_API_KEY\"\n",
    "# Set the appropriate API key for the provider you're using"
   ]
  },
  {
   "cell_type": "markdown",
   "id": "c4b874cbd2c154a6",
   "metadata": {},
   "source": [
    "## Add Web Search and Content Extraction\n",
    "\n",
    "We'll use two pre-made tools from `mirascope.tools`:\n",
    "\n",
    "1. `DuckDuckGoSearch`: For performing web searches through DuckDuckGo\n",
    "2. `ParseURLContent`: For extracting content from webpages\n",
    "\n",
    "The `DuckDuckGoSearch` tool provides search results with URLs while `ParseURLContent` handles the content extraction. We save our search results into `search_history` to provide context for future searches.\n",
    "\n",
    "For a full list of available pre-made tools and their capabilities, check out the <a href=\"../../../learn/tools/#pre-made-tools\\\">Pre-made Tools documentation</a>.\n",
    "\n",
    "## Add Q&A Functionality\n",
    "\n",
    "Now that we have imported our tools, we can create our `prompt_template` and `_stream` function. We engineer the prompt to first use the `DuckDuckGoSearch` tool to find relevant pages, then `ParseURLContent` to extract content before answering the user question based on the retrieved information:"
   ]
  },
  {
   "cell_type": "code",
   "execution_count": null,
   "id": "b1b2950246b768fc",
   "metadata": {},
   "outputs": [],
   "source": [
    "from datetime import datetime\n",
    "\n",
    "from pydantic import BaseModel\n",
    "\n",
    "from mirascope.core import openai, prompt_template, BaseMessageParam\n",
    "from mirascope.tools import DuckDuckGoSearch, ParseURLContent\n",
    "\n",
    "\n",
    "class WebAssistantBaseWithStream(BaseModel):\n",
    "    messages: list[BaseMessageParam | openai.OpenAIMessageParam] = []\n",
    "    search_history: list[str] = []\n",
    "    max_results_per_query: int = 2\n",
    "\n",
    "    @openai.call(model=\"gpt-4o-mini\", stream=True)\n",
    "    @prompt_template(  # noqa: F821\n",
    "        \"\"\"\n",
    "        SYSTEM:\n",
    "        You are an expert web searcher. Your task is to answer the user's question using the provided tools.\n",
    "        The current date is {current_date}.\n",
    "\n",
    "        You have access to the following tools:\n",
    "        - `_web_search`: Search the web when the user asks a question. Follow these steps for EVERY web search query:\n",
    "            1. There is a previous search context: {self.search_history}\n",
    "            2. There is the current user query: {question}\n",
    "            3. Given the previous search context, generate multiple search queries that explores whether the new query might be related to or connected with the context of the current user query. \n",
    "                Even if the connection isn't immediately clear, consider how they might be related.\n",
    "        - `extract_content`: Parse the content of a webpage.\n",
    "\n",
    "        When calling the `_web_search` tool, the `body` is simply the body of the search\n",
    "        result. You MUST then call the `extract_content` tool to get the actual content\n",
    "        of the webpage. It is up to you to determine which search results to parse.\n",
    "\n",
    "        Once you have gathered all of the information you need, generate a writeup that\n",
    "        strikes the right balance between brevity and completeness based on the context of the user's query.\n",
    "\n",
    "        MESSAGES: {self.messages}\n",
    "        USER: {question}\n",
    "        \"\"\"\n",
    "    )\n",
    "    async def _stream(self, question: str) -> openai.OpenAIDynamicConfig:\n",
    "        return {\n",
    "            \"tools\": [DuckDuckGoSearch, ParseURLContent],\n",
    "            \"computed_fields\": {\n",
    "                \"current_date\": datetime.now().strftime(\"%Y-%m-%d %H:%M:%S\")\n",
    "            },\n",
    "        }\n",
    "\n",
    "    async def _step(self, question: str):\n",
    "        print(self.messages)\n",
    "        response = await self._stream(question)\n",
    "        tools_and_outputs = []\n",
    "        async for chunk, tool in response:\n",
    "            if tool:\n",
    "                print(f\"using {tool._name()} tool with args: {tool.args}\")\n",
    "                tools_and_outputs.append((tool, tool.call()))\n",
    "            else:\n",
    "                print(chunk.content, end=\"\", flush=True)\n",
    "        if response.user_message_param:\n",
    "            self.messages.append(response.user_message_param)\n",
    "        self.messages.append(response.message_param)\n",
    "        if tools_and_outputs:\n",
    "            self.messages += response.tool_message_params(tools_and_outputs)\n",
    "            await self._step(\"\")\n",
    "\n",
    "    async def run(self):\n",
    "        while True:\n",
    "            question = input(\"(User): \")\n",
    "            if question == \"exit\":\n",
    "                break\n",
    "            print(f\"(User): {question}\", flush=True)\n",
    "            print(\"(Assistant): \", end=\"\", flush=True)\n",
    "            await self._step(question)\n",
    "            print()"
   ]
  },
  {
   "cell_type": "markdown",
   "id": "90937bb00d1f6334",
   "metadata": {},
   "source": [
    "There are a few things to note:\n",
    "\n",
    "1. We set our `@openai.call()` to `stream=True` to provide a more responsive user experience.\n",
    "2. We give the LLM the current date so the user does not need to provide that.\n",
    "3. We instruct our LLM on how to use the pre-made tools we've imported.\n",
    "    * User queries can often times be ambiguous so giving as much context to the LLM when it generates the search query is crucial.\n",
    "    * Multiple search queries are generated for user queries that might rely on previous context.\n",
    "\n",
    "By utilizing Mirascope's pre-made tools, we avoid having to implement web search and content extraction functionality ourselves. This allows us to focus on engineering the prompt and agent behavior rather than low-level implementation details.\n",
    "\n",
    "### Example search queries\n",
    "\n",
    "Let's look at how the search queries work together as context builds up...\n",
    "\n"
   ]
  },
  {
   "cell_type": "code",
   "execution_count": null,
   "id": "80dd7c3a3e94a37e",
   "metadata": {},
   "outputs": [],
   "source": [
    "await WebAssistantBaseWithStream().run()"
   ]
  },
  {
   "cell_type": "markdown",
   "id": "e31ded9b1ef58436",
   "metadata": {},
   "source": [
    "\n",
    "Search Queries:\n",
    "\n",
    "* LLM development tool libraries\n",
    "* best libraries for LLM development\n",
    "* software engineering tools for LLM\n",
    "* open source LLM libraries for developers\n",
    "* programming libraries for large language models\n",
    "\n",
    "By prompting the LLM to generate multiple queries, the LLM has access to a wide range of relevant information, including both open-source and commercial products, which it would have a significantly lower chance of doing with a single query.\n",
    "\n"
   ]
  },
  {
   "cell_type": "code",
   "execution_count": null,
   "id": "92e052d8f125dc84",
   "metadata": {},
   "outputs": [],
   "source": [
    "await WebAssistantBaseWithStream().run()"
   ]
  },
  {
   "cell_type": "markdown",
   "id": "3023adf49ca37aaf",
   "metadata": {},
   "source": [
    "\n",
    "Search Queries:\n",
    "\n",
    "* Mirascope library\n",
    "* Mirascope library GitHub\n",
    "* Mirascope Python\n",
    "* What is Mirascope library used for\n",
    "* Mirascope library overview\n",
    "* Mirascope library features\n",
    "* Mirascope library documentation\n",
    "\n",
    "The LLM can gather information regarding the Mirascope library but has no context beyond that.\n",
    "\n",
    "Let's take a look at what happens when we call the user queries together.\n"
   ]
  },
  {
   "cell_type": "markdown",
   "id": "da5f181f6e0a3e7b",
   "metadata": {},
   "source": [
    "By giving the LLM search history, these search queries now connect the Mirascope library specifically to LLM development tools,\n",
    "providing a more cohesive set of results.\n",
    "\n",
    "We can now create our `_step` and `run` functions which will call our `_stream` and `_step` functions respectively.\n"
   ]
  },
  {
   "cell_type": "code",
   "execution_count": null,
   "id": "54e265cea2c2711e",
   "metadata": {},
   "outputs": [],
   "source": [
    "class WebAssistant(WebAssistantBaseWithStream):\n",
    "    async def _step(self, question: str):\n",
    "        print(self.messages)\n",
    "        response = await self._stream(question)\n",
    "        tools_and_outputs = []\n",
    "        async for chunk, tool in response:\n",
    "            if tool:\n",
    "                print(f\"using {tool._name()} tool with args: {tool.args}\")\n",
    "                tools_and_outputs.append((tool, tool.call()))\n",
    "            else:\n",
    "                print(chunk.content, end=\"\", flush=True)\n",
    "        if response.user_message_param:\n",
    "            self.messages.append(response.user_message_param)\n",
    "        self.messages.append(response.message_param)\n",
    "        if tools_and_outputs:\n",
    "            self.messages += response.tool_message_params(tools_and_outputs)\n",
    "            await self._step(\"\")"
   ]
  },
  {
   "cell_type": "markdown",
   "id": "88aae19c824b5a90",
   "metadata": {},
   "source": [
    "The `run` function will keep running until the LLM feels that the users question can be answered.\n"
   ]
  },
  {
   "cell_type": "code",
   "execution_count": null,
   "id": "24e57b88407592ad",
   "metadata": {},
   "outputs": [],
   "source": [
    "web_assistant = WebAssistant()\n",
    "await web_assistant.run()"
   ]
  },
  {
   "cell_type": "markdown",
   "id": "70f46b3ed952908",
   "metadata": {},
   "source": [
    "Note that by giving the LLM the current date, it'll automatically search for the most up-to-date information.\n",
    "\n",
    "Check out [Evaluating Web Search Agent](../../evals/evaluating_web_search_agent) for an in-depth guide on how we evaluate the quality of our agent.\n",
    "\n",
    "<div class=\"admonition tip\">\n",
    "<p class=\"admonition-title\">Additional Real-World Applications</p>\n",
    "<ol>\n",
    "<li><p><b>Advanced Research Assistant</b></p>\n",
    "<ul>\n",
    "<li>Stay updated on latest developments in rapidly evolving fields</li>\n",
    "</ul>\n",
    "</li>\n",
    "<li><p><b>Personalized Education</b></p>\n",
    "<ul>\n",
    "<li>Create customized learning materials based on current curricula</li>\n",
    "</ul>\n",
    "</li>\n",
    "<li><p><b>Business Intelligence</b></p>\n",
    "<ul>\n",
    "<li>Assist in data-driven decision making with real-time insights</li>\n",
    "</ul>\n",
    "</li>\n",
    "<li><p><b>Technical Support and Troubleshooting</b></p>\n",
    "<ul>\n",
    "<li>Assist in debugging by referencing current documentation</li>\n",
    "</ul>\n",
    "</li>\n",
    "<li><p><b>Travel Planning</b></p>\n",
    "<ul>\n",
    "<li>Provide updates on travel restrictions, local events, and weather</li>\n",
    "</ul>\n",
    "</li>\n",
    "<li><p><b>Journalism and Fact-Checking</b></p>\n",
    "<ul>\n",
    "<li>Help identify and combat misinformation</li>\n",
    "</ul>\n",
    "</li>\n",
    "<li><p><b>Environmental Monitoring</b></p>\n",
    "<ul>\n",
    "<li>Track and analyze current climate data</li>\n",
    "</ul>\n",
    "</li>\n",
    "</ol>\n",
    "</div>\n",
    "\n",
    "When adapting this recipe, consider:\n",
    "\n",
    "* Optimizing the search by utilizing `async` to increase parallelism.\n",
    "* When targeting specific websites for scraping purposes, use `response_model` to extract the specific information you're looking for across websites with similar content.\n",
    "* Implement a feedback loop so the LLM can rewrite the query for better search results.\n",
    "* Reduce the number of tokens used by storing the extracted webpages as embeddings in a vectorstore and retrieving only what is necessary.\n",
    "* Make a more specific web search agent for your use-case rather than a general purpose web search agent.\n"
   ]
  }
 ],
 "metadata": {
  "kernelspec": {
   "display_name": "Python 3",
   "language": "python",
   "name": "python3"
  },
  "language_info": {
   "codemirror_mode": {
    "name": "ipython",
    "version": 2
   },
   "file_extension": ".py",
   "mimetype": "text/x-python",
   "name": "python",
   "nbconvert_exporter": "python",
   "pygments_lexer": "ipython2",
   "version": "2.7.6"
  }
 },
 "nbformat": 4,
 "nbformat_minor": 5
}
