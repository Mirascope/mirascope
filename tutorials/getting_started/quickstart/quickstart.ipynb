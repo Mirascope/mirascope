{
 "cells": [
  {
   "cell_type": "markdown",
   "metadata": {},
   "source": [
    "# Quickstart\n",
    "\n",
    "Mirascope supports various LLM providers, including [OpenAI](https://openai.com/), [Anthropic](https://www.anthropic.com/), [Mistral](https://mistral.ai/), [Gemini](https://gemini.google.com), [Groq](https://groq.com/), [Cohere](https://cohere.com/), [LiteLLM](https://www.litellm.ai/), [Azure AI](https://azure.microsoft.com/en-us/solutions/ai), and [Vertex AI](https://cloud.google.com/vertex-ai). For the purposes of this guide, we will be using OpenAI."
   ]
  },
  {
   "cell_type": "markdown",
   "metadata": {},
   "source": [
    "## Setup\n",
    "\n",
    "Let's start by installing Mirascope and its dependencies:"
   ]
  },
  {
   "cell_type": "code",
   "execution_count": null,
   "metadata": {},
   "outputs": [],
   "source": [
    "!pip install \"mirascope[openai]\""
   ]
  },
  {
   "cell_type": "markdown",
   "metadata": {},
   "source": [
    "This command installs Mirascope along with the necessary packages for the OpenAI integration."
   ]
  },
  {
   "cell_type": "code",
   "execution_count": 5,
   "metadata": {},
   "outputs": [],
   "source": [
    "import os\n",
    "\n",
    "os.environ[\"OPENAI_API_KEY\"] = \"YOUR_API_KEY\"\n",
    "# Set the appropriate API key for the provider you're using"
   ]
  },
  {
   "cell_type": "markdown",
   "metadata": {},
   "source": [
    "## Basic LLM Call\n",
    "\n",
    "The `call` decorator in Mirascope transforms Python functions into LLM API calls. This allows you to seamlessly integrate LLM interactions into your Python code."
   ]
  },
  {
   "cell_type": "code",
   "execution_count": 2,
   "metadata": {
    "ExecuteTime": {
     "end_time": "2024-09-07T01:11:02.182404Z",
     "start_time": "2024-09-07T01:11:01.174057Z"
    }
   },
   "outputs": [
    {
     "name": "stdout",
     "output_type": "stream",
     "text": [
      "The capital of Japan is Tokyo.\n"
     ]
    }
   ],
   "source": [
    "from mirascope.core import openai\n",
    "\n",
    "\n",
    "@openai.call(\"gpt-4o-mini\")\n",
    "def get_capital(country: str) -> str:\n",
    "    return f\"What is the capital of {country}?\"\n",
    "\n",
    "\n",
    "response = get_capital(\"Japan\")\n",
    "print(response.content)"
   ]
  },
  {
   "cell_type": "markdown",
   "metadata": {},
   "source": [
    "In this example:\n",
    "1. We import the `openai` module from Mirascope, which provides the `call` decorator.\n",
    "2. The `@openai.call(\"gpt-4o-mini\")` decorator specifies which OpenAI model to use.\n",
    "3. We return the content of a single user message in the function body.\n",
    "4. When we call `get_capital(\"Japan\")`, it templates the prompt, sends a request to the OpenAI API, and returns the response.\n",
    "5. We print the `content` of the response, which contains the LLM's answer.\n",
    "\n",
    "This approach allows you to use LLMs as if they were regular Python functions, making it easy to integrate AI capabilities into your applications. For more advanced usage, including controlling model parameters and handling errors, see our [documentation on Calls](../../../learn/calls)."
   ]
  },
  {
   "cell_type": "markdown",
   "metadata": {},
   "source": [
    "## Streaming Responses\n",
    "\n",
    "Streaming allows you to process LLM responses in real-time, which is particularly useful for long-form content generation or when you want to provide immediate feedback to users."
   ]
  },
  {
   "cell_type": "code",
   "execution_count": 3,
   "metadata": {
    "ExecuteTime": {
     "end_time": "2024-09-07T01:11:10.122995Z",
     "start_time": "2024-09-07T01:11:08.330200Z"
    }
   },
   "outputs": [
    {
     "name": "stdout",
     "output_type": "stream",
     "text": [
      "Tokyo, the capital of Japan, is a vibrant metropolis known for its unique blend of tradition and modernity. As one of the world's most populous cities, it features a bustling urban landscape filled with skyscrapers, renowned shopping districts like Shibuya and Ginza, and cultural landmarks such as the historic Senso-ji Temple. Tokyo is also famous for its diverse culinary scene, ranging from street food to Michelin-starred restaurants. The city's efficient public transportation system makes it easy to explore its many neighborhoods, each offering distinct experiences, whether it’s the tranquil gardens of Ueno, the electronic town of Akihabara, or the fashion-forward streets of Harajuku. With its rich cultural heritage, cutting-edge technology, and constant innovation, Tokyo embodies the essence of contemporary urban life."
     ]
    }
   ],
   "source": [
    "@openai.call(\"gpt-4o-mini\", stream=True)\n",
    "def stream_city_info(city: str) -> str:\n",
    "    return f\"Provide a brief description of {city}.\"\n",
    "\n",
    "\n",
    "for chunk, _ in stream_city_info(\"Tokyo\"):\n",
    "    print(chunk.content, end=\"\", flush=True)"
   ]
  },
  {
   "cell_type": "markdown",
   "metadata": {},
   "source": [
    "Here's what's happening in this streaming example:\n",
    "1. We use the `stream=True` parameter in the `@openai.call` decorator to enable streaming.\n",
    "2. The function returns an iterator that yields chunks of the response as they become available.\n",
    "3. We iterate over the chunks, printing each one immediately.\n",
    "4. The `end=\"\"` and `flush=True` parameters in the print function ensure that the output is displayed in real-time without line breaks.\n",
    "\n",
    "Streaming is beneficial for:\n",
    "- Providing immediate feedback to users\n",
    "- Processing very long responses efficiently\n",
    "- Implementing typewriter-like effects in user interfaces\n",
    "\n",
    "For more advanced streaming techniques, including error handling and processing streamed content, refer to our [documentation on Streams](../../../learn/streams)."
   ]
  },
  {
   "cell_type": "markdown",
   "metadata": {},
   "source": [
    "## Response Models\n",
    "\n",
    "Response models in Mirascope allow you to structure and validate the output from LLMs. This feature is particularly useful when you need to ensure that the LLM's response adheres to a specific format or contains certain fields."
   ]
  },
  {
   "cell_type": "code",
   "execution_count": 4,
   "metadata": {
    "ExecuteTime": {
     "end_time": "2024-09-07T01:11:49.985674Z",
     "start_time": "2024-09-07T01:11:47.177952Z"
    }
   },
   "outputs": [
    {
     "name": "stdout",
     "output_type": "stream",
     "text": [
      "city='Paris' country='France'\n"
     ]
    }
   ],
   "source": [
    "from mirascope.core import openai\n",
    "from pydantic import BaseModel\n",
    "\n",
    "\n",
    "class Capital(BaseModel):\n",
    "    city: str\n",
    "    country: str\n",
    "\n",
    "\n",
    "@openai.call(\"gpt-4o-mini\", response_model=Capital)\n",
    "def extract_capital(query: str) -> str:\n",
    "    return f\"{query}\"\n",
    "\n",
    "\n",
    "capital = extract_capital(\"The capital of France is Paris\")\n",
    "print(capital)"
   ]
  },
  {
   "cell_type": "markdown",
   "metadata": {},
   "source": [
    "For more details on response models, including advanced validation techniques, check our [documentation on Response Models](../../../learn/response_models)."
   ]
  },
  {
   "cell_type": "markdown",
   "metadata": {},
   "source": [
    "## JSON Mode\n",
    "\n",
    "JSON mode allows you to directly parse LLM outputs as JSON. This is particularly useful when you need structured data from your LLM calls."
   ]
  },
  {
   "cell_type": "code",
   "execution_count": 6,
   "metadata": {
    "ExecuteTime": {
     "end_time": "2024-09-07T01:12:28.598246Z",
     "start_time": "2024-09-07T01:12:24.723056Z"
    }
   },
   "outputs": [
    {
     "name": "stdout",
     "output_type": "stream",
     "text": [
      "{\n",
      "  \"city\": \"Tokyo\",\n",
      "  \"country\": \"Japan\",\n",
      "  \"population\": 13929286,\n",
      "  \"area_km2\": 2191,\n",
      "  \"language\": [\"Japanese\"],\n",
      "  \"currency\": {\n",
      "    \"name\": \"Yen\",\n",
      "    \"symbol\": \"¥\"\n",
      "  },\n",
      "  \"landmarks\": [\n",
      "    {\n",
      "      \"name\": \"Tokyo Tower\",\n",
      "      \"type\": \"Observation Tower\"\n",
      "    },\n",
      "    {\n",
      "      \"name\": \"Shibuya Crossing\",\n",
      "      \"type\": \"Famous Intersection\"\n",
      "    },\n",
      "    {\n",
      "      \"name\": \"Senso-ji Temple\",\n",
      "      \"type\": \"Historic Site\"\n",
      "    },\n",
      "    {\n",
      "      \"name\": \"Meiji Shrine\",\n",
      "      \"type\": \"Shinto Shrine\"\n",
      "    }\n",
      "  ],\n",
      "  \"transportation\": {\n",
      "    \"rail\": {\n",
      "      \"types\": [\"Subway\", \"Light Rail\", \"High-Speed Rail\"],\n",
      "      \"notable_lines\": [\"Yamanote Line\", \"Chuo Line\", \"Tozai Line\"]\n",
      "    },\n",
      "    \"airport\": [\"Narita International Airport\", \"Haneda Airport\"]\n",
      "  },\n",
      "  \"cuisine\": [\n",
      "    \"Sushi\",\n",
      "    \"Ramen\",\n",
      "    \"Tempura\",\n",
      "    \"Yakitori\"\n",
      "  ],\n",
      "  \"climate\": {\n",
      "    \"type\": \"Humid subtropical\",\n",
      "    \"average_temperature\": {\n",
      "      \"summer\": \"26°C\",\n",
      "      \"winter\": \"5°C\"\n",
      "    },\n",
      "    \"average_precipitation_mm\": 1650\n",
      "  }\n",
      "}\n"
     ]
    }
   ],
   "source": [
    "@openai.call(\"gpt-4o-mini\", json_mode=True)\n",
    "def city_info(city: str) -> str:\n",
    "    return f\"Provide information about {city} in JSON format\"\n",
    "\n",
    "\n",
    "response = city_info(\"Tokyo\")\n",
    "print(response.content)  # This will be a JSON-formatted string"
   ]
  },
  {
   "cell_type": "markdown",
   "metadata": {},
   "source": [
    "JSON mode is beneficial for:\n",
    "- Ensuring structured outputs from LLMs\n",
    "- Easy integration with data processing pipelines\n",
    "- Creating APIs that return JSON data\n",
    "\n",
    "Note that not all providers have an explicit JSON mode. For those providers, we attempt to instruct the model to provide JSON; however, there is no guarantee that it will output only JSON (it may start with some text like \"Here is the JSON: ...\"). This is where Output Parsers can be useful.\n",
    "\n",
    "It's also worth noting that you can combine `json_mode=True` with `response_model` to automatically parse the JSON output into a Pydantic model. This approach combines the benefits of JSON mode with the type safety and validation of response models. Here's an example:"
   ]
  },
  {
   "cell_type": "code",
   "execution_count": 7,
   "metadata": {
    "ExecuteTime": {
     "end_time": "2024-09-10T01:42:11.605827Z",
     "start_time": "2024-09-10T01:42:10.205896Z"
    }
   },
   "outputs": [
    {
     "name": "stdout",
     "output_type": "stream",
     "text": [
      "Name: Tokyo, Population: 13929286, Country: Japan\n"
     ]
    }
   ],
   "source": [
    "from mirascope.core import openai\n",
    "from pydantic import BaseModel\n",
    "\n",
    "\n",
    "class CityInfo(BaseModel):\n",
    "    name: str\n",
    "    population: int\n",
    "    country: str\n",
    "\n",
    "\n",
    "@openai.call(\"gpt-4o-mini\", json_mode=True, response_model=CityInfo)\n",
    "def city_info(city: str) -> str:\n",
    "    return f\"Provide information about {city} in JSON format\"\n",
    "\n",
    "\n",
    "response = city_info(\"Tokyo\")\n",
    "print(\n",
    "    f\"Name: {response.name}, Population: {response.population}, Country: {response.country}\"\n",
    ")"
   ]
  },
  {
   "cell_type": "markdown",
   "metadata": {},
   "source": [
    "For more information on JSON mode and its limitations with different providers, refer to our [documentation on JSON Mode](../../../learn/json_mode)."
   ]
  },
  {
   "cell_type": "markdown",
   "metadata": {},
   "source": [
    "## Asynchronous Processing\n",
    "\n",
    "Mirascope supports asynchronous processing, allowing for efficient parallel execution of multiple LLM calls. This is particularly useful when you need to make many LLM calls concurrently or when working with asynchronous web frameworks."
   ]
  },
  {
   "cell_type": "code",
   "execution_count": 5,
   "metadata": {
    "ExecuteTime": {
     "end_time": "2024-09-07T01:11:57.536376Z",
     "start_time": "2024-09-07T01:11:56.163833Z"
    }
   },
   "outputs": [
    {
     "name": "stdout",
     "output_type": "stream",
     "text": [
      "The capital of France is Paris\n",
      "The capital of Japan is Tokyo\n",
      "The capital of Brazil is Brasília\n"
     ]
    }
   ],
   "source": [
    "from mirascope.core import openai\n",
    "import asyncio\n",
    "\n",
    "\n",
    "@openai.call(\"gpt-4o-mini\", response_model=Capital)\n",
    "async def get_capital_async(country: str) -> str:\n",
    "    return f\"What is the capital of {country}?\"\n",
    "\n",
    "\n",
    "async def main():\n",
    "    countries = [\"France\", \"Japan\", \"Brazil\"]\n",
    "    tasks = [get_capital_async(country) for country in countries]\n",
    "    capitals = await asyncio.gather(*tasks)\n",
    "    for capital in capitals:\n",
    "        print(f\"The capital of {capital.country} is {capital.city}\")\n",
    "\n",
    "\n",
    "# await main() when running in a Jupyter notebook\n",
    "await main()\n",
    "\n",
    "# asyncio.run(main()) when running in a Python script"
   ]
  },
  {
   "cell_type": "markdown",
   "metadata": {},
   "source": [
    "This asynchronous example demonstrates:\n",
    "1. An async version of our `get_capital` function, defined with `async def`.\n",
    "2. Use of `asyncio.gather()` to run multiple async tasks concurrently.\n",
    "3. Processing of results as they become available.\n",
    "\n",
    "Asynchronous processing offers several advantages:\n",
    "- Improved performance when making multiple LLM calls\n",
    "- Better resource utilization\n",
    "- Compatibility with async web frameworks like FastAPI or aiohttp\n",
    "\n",
    "For more advanced asynchronous techniques, including error handling and async streaming, refer to our [documentation on Async](../../../learn/async)."
   ]
  },
  {
   "cell_type": "markdown",
   "metadata": {},
   "source": [
    "## Output Parsers\n",
    "\n",
    "Output parsers allow you to process LLM responses in custom formats. They are particularly useful when working with JSON outputs, especially for providers like Anthropic that don't have a strict JSON mode."
   ]
  },
  {
   "cell_type": "code",
   "execution_count": null,
   "metadata": {},
   "outputs": [],
   "source": [
    "!pip install \"mirascope[anthropic]\""
   ]
  },
  {
   "cell_type": "code",
   "execution_count": 9,
   "metadata": {
    "ExecuteTime": {
     "end_time": "2024-09-07T01:13:25.260772Z",
     "start_time": "2024-09-07T01:13:23.864236Z"
    }
   },
   "outputs": [
    {
     "name": "stdout",
     "output_type": "stream",
     "text": [
      "{'capital': 'Paris', 'country': 'France'}\n"
     ]
    }
   ],
   "source": [
    "import json\n",
    "\n",
    "from mirascope.core import anthropic\n",
    "\n",
    "\n",
    "def only_json(response: anthropic.AnthropicCallResponse) -> str:\n",
    "    json_start = response.content.index(\"{\")\n",
    "    json_end = response.content.rfind(\"}\")\n",
    "    return response.content[json_start : json_end + 1]\n",
    "\n",
    "\n",
    "@anthropic.call(\"claude-3-5-sonnet-20240620\", json_mode=True, output_parser=only_json)\n",
    "def json_extraction(text: str, fields: list[str]) -> str:\n",
    "    return f\"Extract {fields} from the following text: {text}\"\n",
    "\n",
    "\n",
    "json_response = json_extraction(\n",
    "    text=\"The capital of France is Paris\",\n",
    "    fields=[\"capital\", \"country\"],\n",
    ")\n",
    "print(json.loads(json_response))"
   ]
  },
  {
   "cell_type": "markdown",
   "metadata": {},
   "source": [
    "In this example:\n",
    "1. We define a custom `only_json` parser that extracts the JSON portion from the response.\n",
    "2. We use both `json_mode=True` and the custom output parser to ensure we get clean JSON output.\n",
    "3. The `json_extraction` function demonstrates how to combine JSON mode with a custom parser.\n",
    "\n",
    "Output parsers are useful for:\n",
    "- Extracting specific formats or data structures from LLM responses\n",
    "- Cleaning and standardizing LLM outputs\n",
    "- Implementing custom post-processing logic\n",
    "\n",
    "For more information on output parsers and advanced usage scenarios, see our [documentation on Output Parsers](../../../learn/output_parsers)."
   ]
  },
  {
   "cell_type": "markdown",
   "metadata": {},
   "source": [
    "## Next Steps\n",
    "\n",
    "This concludes our Quickstart Guide to Mirascope. We've covered the main features of the library, including prompt templates, basic calls, streaming, response models, asynchronous processing, JSON mode, and output parsers. Each of these features can be combined and customized to create powerful, flexible AI applications.\n",
    "\n",
    "If you like what you've seen so far, [give us a star](https://github.com/Mirascope/mirascope) and [join our community](https://join.slack.com/t/mirascope-community/shared_invite/zt-2ilqhvmki-FB6LWluInUCkkjYD3oSjNA).\n",
    "\n",
    "We recommend checking out our other getting started notebooks for more advanced usage:\n",
    "- [Structured Outputs](../structured_outputs)\n",
    "- [Dynamic Configuration & Chaining](../dynamic_configuration_and_chaining)\n",
    "- [Tools & Agents](../tools_and_agents)\n",
    "\n",
    "Check out our more comprehensive [Learn documentation](../../../learn) for more detailed information on Mirascope's features."
   ]
  }
 ],
 "metadata": {
  "kernelspec": {
   "display_name": "Python 3 (ipykernel)",
   "language": "python",
   "name": "python3"
  },
  "language_info": {
   "codemirror_mode": {
    "name": "ipython",
    "version": 3
   },
   "file_extension": ".py",
   "mimetype": "text/x-python",
   "name": "python",
   "nbconvert_exporter": "python",
   "pygments_lexer": "ipython3",
   "version": "3.10.14"
  }
 },
 "nbformat": 4,
 "nbformat_minor": 4
}
