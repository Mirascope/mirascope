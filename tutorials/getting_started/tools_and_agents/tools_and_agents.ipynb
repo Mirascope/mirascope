{
 "cells": [
  {
   "cell_type": "markdown",
   "metadata": {},
   "source": [
    "# Tools & Agents\n",
    "\n",
    "Tools and Agents are two key concepts in building advanced AI systems, particularly those involving Large Language Models (LLMs):\n",
    "\n",
    "- **Tools**: Functions that extend the capabilities of LLMs, allowing them to perform specific tasks or access external data.\n",
    "- **Agents**: Autonomous or semi-autonomous entities that use LLMs and Tools to perform complex tasks or interact with users.\n",
    "\n",
    "In this notebook we'll implement a `WebSearchAgent` to demonstrate how to built Agents in Mirascope using Tools.\n",
    "\n",
    "For more detailed information on these concepts, refer to the following Mirascope documentation:\n",
    "\n",
    "- [Tools documentation](../../../learn/tools)\n",
    "- [Agents documentation](../../../learn/agents)"
   ]
  },
  {
   "cell_type": "markdown",
   "metadata": {},
   "source": [
    "## Setting Up the Environment\n",
    "\n",
    "First, let's set up our environment by installing Mirascope and other necessary libraries."
   ]
  },
  {
   "cell_type": "code",
   "execution_count": null,
   "metadata": {},
   "outputs": [],
   "source": [
    "!pip install \"mirascope[openai]\" duckduckgo_search beautifulsoup4 requests"
   ]
  },
  {
   "cell_type": "code",
   "execution_count": null,
   "metadata": {},
   "outputs": [],
   "source": [
    "import os\n",
    "\n",
    "os.environ[\"OPENAI_API_KEY\"] = \"your-api-key-here\""
   ]
  },
  {
   "cell_type": "markdown",
   "metadata": {},
   "source": [
    "For more information on setting up Mirascope and its dependencies, see the [Mirascope getting started guide](../quickstart)."
   ]
  },
  {
   "cell_type": "markdown",
   "metadata": {},
   "source": [
    "## Building a Basic Chatbot\n",
    "\n",
    "Before we dive into Tools and Agents, let's start by building a basic chatbot. This will help us understand the fundamental concepts of state management and conversation flow in Mirascope."
   ]
  },
  {
   "cell_type": "code",
   "execution_count": 2,
   "metadata": {
    "ExecuteTime": {
     "end_time": "2024-09-12T01:39:45.815456Z",
     "start_time": "2024-09-12T01:39:20.717191Z"
    }
   },
   "outputs": [
    {
     "name": "stdout",
     "output_type": "stream",
     "text": [
      "User: Hi!\n",
      "Chatbot: Hello! How can I assist you today?\n",
      "User: What can you help me with?\n",
      "Chatbot: I can help with a variety of things! Whether you have questions about general knowledge, need information on a specific topic, want advice, or even just want to chat, I’m here for you. What’s on your mind?\n"
     ]
    }
   ],
   "source": [
    "from mirascope.core import Messages, openai\n",
    "from pydantic import BaseModel\n",
    "\n",
    "\n",
    "class BasicChatbot(BaseModel):\n",
    "    messages: list[openai.OpenAIMessageParam] = []\n",
    "\n",
    "    @openai.call(model=\"gpt-4o-mini\")\n",
    "    async def chat(self, user_input: str) -> openai.OpenAIDynamicConfig:\n",
    "        messages = [\n",
    "            Messages.System(\n",
    "                \"You are a friendly chatbot assistant. Engage in a conversation with the user.\"\n",
    "            ),\n",
    "            *self.messages,\n",
    "            Messages.User(user_input),\n",
    "        ]\n",
    "        return {\"messages\": messages}\n",
    "\n",
    "    async def run(self):\n",
    "        while True:\n",
    "            user_input = input(\"User: \")\n",
    "            if user_input.lower() == \"exit\":\n",
    "                break\n",
    "            response = await self.chat(user_input)\n",
    "            print(f\"User: {user_input}\")\n",
    "            print(f\"Chatbot: {response.content}\")\n",
    "            self.messages.append(response.user_message_param)\n",
    "            self.messages.append(response.message_param)\n",
    "\n",
    "\n",
    "# Usage\n",
    "chatbot = BasicChatbot()\n",
    "# Run the chatbot in a Jupyter notebook\n",
    "await chatbot.run()\n",
    "\n",
    "# Run the chatbot in a Python script\n",
    "# import asyncio\n",
    "# asyncio.run(chatbot.run())"
   ]
  },
  {
   "cell_type": "markdown",
   "metadata": {},
   "source": [
    "In this basic chatbot implementation, we've created a `BasicChatbot` class that\n",
    "1. Maintains a conversation history (`messages`)\n",
    "2. Uses Mirascope's `@openai.call` decorators to interact with the LLM.\n",
    "\n",
    "Note that the `chat` method can directly access `self.messages` in the template, allowing for easy integration of the conversation history into the prompt.\n",
    "\n",
    "The `chat` method is where the LLM interaction occurs. It uses the conversation history and the current user input to generate a response. The `run` method manages the main conversation loop, updating the conversation history after each interaction. We give it the `openai.OpenAIDynamicConfig` return type since we will eventually want to insert tool call message parameters into the history, which will be specific to OpenAI.\n",
    "\n",
    "This sets the foundation for more complex agents that we'll build upon in the following sections."
   ]
  },
  {
   "cell_type": "markdown",
   "metadata": {},
   "source": [
    "## Understanding Tools in Mirascope\n",
    "\n",
    "Tools in Mirascope are functions that extend the capabilities of LLMs. They allow the LLM to perform specific tasks or access external data. Tools are typically used to:\n",
    "\n",
    "1. Retrieve information from external sources\n",
    "2. Perform calculations or data processing\n",
    "3. Interact with APIs or databases\n",
    "4. Execute specific actions based on the LLM's decisions\n",
    "\n",
    "Let's start by creating a Tool that extracts content from a webpage:"
   ]
  },
  {
   "cell_type": "code",
   "execution_count": 5,
   "metadata": {
    "ExecuteTime": {
     "end_time": "2024-09-12T01:39:48.637129Z",
     "start_time": "2024-09-12T01:39:48.547595Z"
    }
   },
   "outputs": [],
   "source": [
    "import re\n",
    "\n",
    "import requests\n",
    "from bs4 import BeautifulSoup\n",
    "\n",
    "\n",
    "def extract_content(url: str) -> str:\n",
    "    \"\"\"Extract the main content from a webpage.\n",
    "\n",
    "    Args:\n",
    "        url: The URL of the webpage to extract the content from.\n",
    "\n",
    "    Returns:\n",
    "        The extracted content as a string.\n",
    "    \"\"\"\n",
    "    try:\n",
    "        response = requests.get(url, timeout=5)\n",
    "        soup = BeautifulSoup(response.content, \"html.parser\")\n",
    "        unwanted_tags = [\"script\", \"style\", \"nav\", \"header\", \"footer\", \"aside\"]\n",
    "        for tag in unwanted_tags:\n",
    "            for element in soup.find_all(tag):\n",
    "                element.decompose()\n",
    "        main_content = (\n",
    "            soup.find(\"main\")\n",
    "            or soup.find(\"article\")\n",
    "            or soup.find(\"div\", class_=re.compile(\"content|main\"))\n",
    "        )\n",
    "        if main_content:\n",
    "            text = main_content.get_text(separator=\"\\n\", strip=True)\n",
    "        else:\n",
    "            text = soup.get_text(separator=\"\\n\", strip=True)\n",
    "        lines = (line.strip() for line in text.splitlines())\n",
    "        return \"\\n\".join(line for line in lines if line)\n",
    "    except Exception as e:\n",
    "        return f\"{type(e)}: Failed to extract content from URL {url}\""
   ]
  },
  {
   "cell_type": "markdown",
   "metadata": {},
   "source": [
    "This `extract_content` function is a Tool that takes a URL as input and returns the main content of the webpage as a string. It uses [BeautifulSoup](https://www.crummy.com/software/BeautifulSoup/) to parse the HTML and extract the relevant text content.\n",
    "\n",
    "When this function is passed to a Mirascope `call` decorator, it is automatically converted into a `BaseTool` class. This conversion process generates a schema that the LLM API uses to understand and interact with the tool.\n",
    "\n",
    "Let's take a look at what this schema looks like:"
   ]
  },
  {
   "cell_type": "code",
   "execution_count": 3,
   "metadata": {
    "ExecuteTime": {
     "end_time": "2024-09-12T01:39:50.790282Z",
     "start_time": "2024-09-12T01:39:50.757565Z"
    }
   },
   "outputs": [
    {
     "name": "stdout",
     "output_type": "stream",
     "text": [
      "{'function': {'name': 'extract_content', 'description': 'Extract the main content from a webpage.\\n\\nArgs:\\n    url: The URL of the webpage to extract the content from.\\n\\nReturns:\\n    The extracted content as a string.', 'parameters': {'properties': {'url': {'description': 'The URL of the webpage to extract the content from.', 'type': 'string'}}, 'required': ['url'], 'type': 'object'}}, 'type': 'function'}\n"
     ]
    }
   ],
   "source": [
    "from mirascope.core.openai import OpenAITool\n",
    "\n",
    "tool_type = OpenAITool.type_from_fn(extract_content)\n",
    "print(tool_type.tool_schema())"
   ]
  },
  {
   "cell_type": "markdown",
   "metadata": {},
   "source": [
    "This schema provides the LLM with information about the tool's name, description, and expected input parameters. The LLM uses this information to determine when and how to use the tool during its reasoning process.\n",
    "\n",
    "For more details on implementing and using Tools in Mirascope, see the [Tools documentation](../../../learn/tools)."
   ]
  },
  {
   "cell_type": "markdown",
   "metadata": {},
   "source": [
    "## Tools With Access To Agent State\n",
    "\n",
    "Now, let's create a more complex Tool that performs web searches using the DuckDuckGo search engine. We'll implement this tool as a method within our agent class to demonstrate how tools can access the agent's state:"
   ]
  },
  {
   "cell_type": "code",
   "execution_count": 6,
   "metadata": {
    "ExecuteTime": {
     "end_time": "2024-09-12T01:39:54.329920Z",
     "start_time": "2024-09-12T01:39:54.284790Z"
    }
   },
   "outputs": [],
   "source": [
    "from duckduckgo_search import DDGS\n",
    "\n",
    "\n",
    "class WebSearchAgentBase(BaseModel):\n",
    "    messages: list[openai.OpenAIMessageParam] = []\n",
    "    search_history: list[str] = []\n",
    "    max_results_per_query: int = 2\n",
    "\n",
    "    def web_search(self, queries: list[str]) -> str:\n",
    "        \"\"\"Performs web searches for given queries and returns URLs.\n",
    "\n",
    "        Args:\n",
    "            queries: List of search queries.\n",
    "\n",
    "        Returns:\n",
    "            str: Newline-separated URLs from search results or error messages.\n",
    "\n",
    "        Raises:\n",
    "            Exception: If web search fails entirely.\n",
    "        \"\"\"\n",
    "        try:\n",
    "            urls = []\n",
    "            for query in queries:\n",
    "                results = DDGS(proxies=None).text(\n",
    "                    query, max_results=self.max_results_per_query\n",
    "                )\n",
    "                for result in results:\n",
    "                    link = result[\"href\"]\n",
    "                    try:\n",
    "                        urls.append(link)\n",
    "                    except Exception as e:\n",
    "                        urls.append(\n",
    "                            f\"{type(e)}: Failed to parse content from URL {link}\"\n",
    "                        )\n",
    "            self.search_history.extend(queries)\n",
    "            return \"\\n\\n\".join(urls)\n",
    "        except Exception as e:\n",
    "            return f\"{type(e)}: Failed to search the web for text\""
   ]
  },
  {
   "cell_type": "markdown",
   "metadata": {},
   "source": [
    "This `web_search` method is a more complex Tool that takes a list of search queries and returns a string of newline-separated URLs from the search results. It uses the DuckDuckGo search API to perform the searches and updates the agent's `search_history`. Luckily, the DuckDuckGo search API does not require an API key, making it easy to use in this example.\n",
    "\n",
    "By implementing this tool as a method within our `WebSearchAgent` class, we can access and update the agent's state (like `search_history`) directly. This approach allows for more integrated and stateful tool usage within our agent."
   ]
  },
  {
   "cell_type": "markdown",
   "metadata": {},
   "source": [
    "## Implementing the WebSearchAgent\n",
    "\n",
    "Now that we have our custom tools, let's implement the full WebSearchAgent by adding the LLM interaction and main execution flow. Since the prompt is now rather long, we opt to use a string template for enhanced readability:"
   ]
  },
  {
   "cell_type": "code",
   "execution_count": 11,
   "metadata": {
    "ExecuteTime": {
     "end_time": "2024-09-12T01:39:57.400716Z",
     "start_time": "2024-09-12T01:39:57.390902Z"
    }
   },
   "outputs": [],
   "source": [
    "from datetime import datetime\n",
    "\n",
    "from mirascope.core import prompt_template\n",
    "\n",
    "\n",
    "class WebSearchAgent(WebSearchAgentBase):\n",
    "    @openai.call(model=\"gpt-4o-mini\", stream=True)\n",
    "    @prompt_template(\n",
    "        \"\"\"\n",
    "        SYSTEM:\n",
    "        You are an expert web searcher. Your task is to answer the user's question using the provided tools.\n",
    "        The current date is {current_date}.\n",
    "\n",
    "        You have access to the following tools:\n",
    "        - `web_search`: Search the web when the user asks a question. Follow these steps for EVERY web search query:\n",
    "            1. There is a previous search context: {self.search_history}\n",
    "            2. There is the current user query: {question}\n",
    "            3. Given the previous search context, generate multiple search queries that explores whether the new query might be related to or connected with the context of the current user query. \n",
    "                Even if the connection isn't immediately clear, consider how they might be related.\n",
    "        - `extract_content`: Parse the content of a webpage.\n",
    "\n",
    "        When calling the `web_search` tool, the `body` is simply the body of the search\n",
    "        result. You MUST then call the `extract_content` tool to get the actual content\n",
    "        of the webpage. It is up to you to determine which search results to parse.\n",
    "\n",
    "        Once you have gathered all of the information you need, generate a writeup that\n",
    "        strikes the right balance between brevity and completeness based on the context of the user's query.\n",
    "\n",
    "        MESSAGES: {self.messages}\n",
    "        USER: {question}\n",
    "        \"\"\"\n",
    "    )\n",
    "    async def _stream(self, question: str) -> openai.OpenAIDynamicConfig:\n",
    "        return {\n",
    "            \"tools\": [self.web_search, extract_content],\n",
    "            \"computed_fields\": {\n",
    "                \"current_date\": datetime.now().strftime(\"%Y-%m-%d %H:%M:%S\")\n",
    "            },\n",
    "        }\n",
    "\n",
    "    async def _step(self, question: str):\n",
    "        response = await self._stream(question)\n",
    "        tools_and_outputs = []\n",
    "        async for chunk, tool in response:\n",
    "            if tool:\n",
    "                print(f\"using {tool._name()} tool with args: {tool.args}\")\n",
    "                tools_and_outputs.append((tool, tool.call()))\n",
    "            else:\n",
    "                print(chunk.content, end=\"\", flush=True)\n",
    "        if response.user_message_param:\n",
    "            self.messages.append(response.user_message_param)\n",
    "        self.messages.append(response.message_param)\n",
    "        if tools_and_outputs:\n",
    "            self.messages += response.tool_message_params(tools_and_outputs)\n",
    "            await self._step(\"\")\n",
    "\n",
    "    async def run(self):\n",
    "        while True:\n",
    "            question = input(\"(User): \")\n",
    "            if question == \"exit\":\n",
    "                break\n",
    "            print(f\"(User): {question}\")\n",
    "            print(\"(Assistant): \", end=\"\", flush=True)\n",
    "            await self._step(question)\n",
    "            print()"
   ]
  },
  {
   "cell_type": "markdown",
   "metadata": {},
   "source": [
    "This implementation includes:\n",
    "\n",
    "1. The `_stream` method, which sets up the LLM call with the necessary tools and computed fields.\n",
    "2. The `_step` method, which processes the LLM response, handles tool calls, and updates the conversation history.\n",
    "3. The `run` method, which implements the main interaction loop for the agent.\n",
    "\n",
    "The `@openai.call` and `@prompt_template` decorators are used to set up the LLM interaction and define the prompt for the agent. Note that we've explicitly specified the available tools and their usage instructions in the system prompt. We have found that this improves the performance and reliability of tool usage by the LLM.\n",
    "\n",
    "Note how we're passing `self.web_search` as a tool, which allows the LLM to use our custom web search method that has access to the agent's state."
   ]
  },
  {
   "cell_type": "markdown",
   "metadata": {},
   "source": [
    "## Running and Testing the Agent\n",
    "\n",
    "Now that we have implemented our WebSearchAgent, let's run and test it:"
   ]
  },
  {
   "cell_type": "code",
   "execution_count": 13,
   "metadata": {
    "ExecuteTime": {
     "end_time": "2024-09-12T01:40:40.019841Z",
     "start_time": "2024-09-12T01:40:02.686570Z"
    }
   },
   "outputs": [
    {
     "name": "stdout",
     "output_type": "stream",
     "text": [
      "(User): large language models\n",
      "(Assistant): using web_search tool with args: {'queries': ['large language models overview', 'applications of large language models', 'latest advancements in large language models', 'large language models ethical concerns', 'large language models future developments']}\n",
      "using extract_content tool with args: {'url': 'https://en.wikipedia.org/wiki/Large_language_model'}\n",
      "using extract_content tool with args: {'url': 'https://pixelplex.io/blog/llm-applications/'}\n",
      "using extract_content tool with args: {'url': 'https://www.ox.ac.uk/news/2023-05-05-tackling-ethical-dilemma-responsibility-large-language-models'}\n",
      "using extract_content tool with args: {'url': 'https://research.aimultiple.com/future-of-large-language-models/'}\n",
      "Large Language Models (LLMs) like OpenAI's GPT and Google's Gemini represent a significant advancement in artificial intelligence, particularly in natural language processing (NLP). These models excel at generating human-like text, understanding context, and performing various tasks across different domains. Below is an overview of LLMs, their applications, advancements, ethical considerations, and future developments.\n",
      "\n",
      "### Overview of Large Language Models (LLMs)\n",
      "An LLM is a type of AI model designed to understand and generate text. They are built using deep learning techniques, particularly neural networks with a vast number of parameters. These models learn from extensive datasets, capturing complex patterns of human language. Notable examples include:\n",
      "- **GPT-4 (OpenAI)**: A multimodal model capable of processing both text and images, with up to 1.8 trillion parameters.\n",
      "- **Claude (Anthropic)**: Known for its impressive context handling, Claude 3 can process up to 100,000 tokens.\n",
      "- **BLOOM (BigScience)**: An open-access multilingual model with 176 billion parameters.\n",
      "\n",
      "### Applications\n",
      "LLMs are used in a variety of fields, including:\n",
      "1. **Content Generation**: Automating the creation of written material for blogs, marketing, and social media.\n",
      "2. **Translation and Localization**: Providing accurate translations while maintaining cultural context and nuances.\n",
      "3. **Search and Recommendation**: Enhancing user search experiences and personalizing recommendations based on individual preferences.\n",
      "4. **Virtual Assistants**: Powering functionalities in services like Google Assistant and Amazon Alexa for real-time user interactions.\n",
      "5. **Code Development**: Assisting programmers by generating and debugging code, leading to more efficient workflows.\n",
      "6. **Sentiment Analysis**: Analyzing customer feedback to gauge public sentiment towards products or services.\n",
      "7. **Question Answering**: Responding accurately to user queries across various domains.\n",
      "8. **Market Research**: Gathering insights from consumer data and trends for strategic business decisions.\n",
      "9. **Education and Tutoring**: Personalizing learning experiences and providing real-time educational support.\n",
      "10. **Classification**: Categorizing text for various applications including moderation and customer service.\n",
      "\n",
      "### Latest Advancements\n",
      "The field is rapidly evolving, with trends including:\n",
      "- **Multimodal Learning**: Combining text with images and audio to enhance model capability (as seen in tools like GPT-4 and Gemini).\n",
      "- **Self-improving Models**: Some LLMs can generate their own training data, improving their performance without external input.\n",
      "- **Sparse Expert Models**: New models are being designed to activate only relevant parts for specific tasks, increasing efficiency.\n",
      "\n",
      "### Ethical Concerns\n",
      "Despite their efficacy, LLMs face significant ethical challenges:\n",
      "- **Bias and Fairness**: These models can reflect and amplify biases present in their training data, which raises concerns about fairness and equality in their outputs.\n",
      "- **Misinformation and Hallucination**: LLMs can generate convincing but false information, leading to a phenomenon known as \"hallucination.\"\n",
      "- **Data Privacy**: The data used can sometimes include sensitive information, making privacy a critical aspect to address.\n",
      "\n",
      "### Future Developments\n",
      "Looking forward, several promising directions include:\n",
      "- Enhanced **fact-checking** capabilities, integrating real-time data to ensure accuracy.\n",
      "- Development of **domain-specific models** tailored to particular industries like healthcare and finance for more relevant outputs.\n",
      "- Greater focus on **ethical AI**, with ongoing research into bias mitigation and the development of responsible AI frameworks.\n",
      "\n",
      "### Conclusion\n",
      "LLMs are at the forefront of AI innovation, driving significant changes across multiple sectors. Their ability to interact in a human-like manner provides vast opportunities for automation and personalization, transforming industries from education to entertainment. However, addressing ethical concerns and ensuring their responsible use will be pivotal as these technologies continue to advance.\n"
     ]
    }
   ],
   "source": [
    "async def main():\n",
    "    web_assistant = WebSearchAgent()\n",
    "    await web_assistant.run()\n",
    "\n",
    "\n",
    "# Run main in a jupyter notebook\n",
    "await main()\n",
    "\n",
    "# Run main in a python script\n",
    "# import asyncio\n",
    "# asyncio.run(main())"
   ]
  },
  {
   "cell_type": "markdown",
   "metadata": {},
   "source": [
    "To use the WebSearchAgent, run the code above and start interacting with it by typing your questions. The agent will use web searches and content extraction to provide answers. Type 'exit' to end the interaction."
   ]
  },
  {
   "cell_type": "markdown",
   "metadata": {},
   "source": [
    "## Advanced Concepts and Best Practices\n",
    "\n",
    "When working with Tools and Agents in Mirascope, consider the following best practices:\n",
    "\n",
    "1. **Error Handling**: Implement robust error handling in your Tools and Agent implementation.\n",
    "2. **Rate Limiting**: Be mindful of rate limits when using external APIs in your Tools.\n",
    "3. **Caching**: Implement caching mechanisms to improve performance and reduce API calls.\n",
    "4. **Testing**: Write unit tests for your Tools and integration tests for your Agents.\n",
    "5. **Modularity**: Design your Tools and Agents to be modular and reusable.\n",
    "6. **Security**: Be cautious about the information you expose through your Tools and Agents.\n",
    "7. **Logging**: Implement logging to track the behavior and performance of your Agents.\n",
    "\n",
    "For more advanced usage, you can explore concepts like:\n",
    "\n",
    "- Multi-agent systems\n",
    "- Tool chaining and composition\n",
    "- Dynamic tool selection\n",
    "- Memory and state management for long-running agents\n",
    "\n",
    "For more techniques and best practices in using Mirascope, refer to the following documentation:\n",
    "\n",
    "- [Tools](../../../learn/tools)\n",
    "- [Agents](../../../learn/agents)\n",
    "- [Streams](../../../learn/streams)\n",
    "- [Chaining](../../../learn/chaining)"
   ]
  },
  {
   "cell_type": "markdown",
   "metadata": {},
   "source": [
    "## 9. Conclusion\n",
    "\n",
    "In this notebook, we've explored the basics of creating Tools and implementing Agents in Mirascope. We've built a WebSearchAgent that can perform web searches, extract content from webpages, and use an LLM to generate responses based on the gathered information.\n",
    "\n",
    "This example demonstrates the power and flexibility of Mirascope in building AI applications that combine LLMs with custom tools and logic. As you continue to work with Mirascope, you'll discover more advanced features and patterns that can help you build even more sophisticated AI agents and applications.\n",
    "\n",
    "If you like what you've seen so far, [give us a star](https://github.com/Mirascope/mirascope) and [join our community](https://join.slack.com/t/mirascope-community/shared_invite/zt-2ilqhvmki-FB6LWluInUCkkjYD3oSjNA)."
   ]
  }
 ],
 "metadata": {
  "kernelspec": {
   "display_name": "Python 3",
   "language": "python",
   "name": "python3"
  },
  "language_info": {
   "codemirror_mode": {
    "name": "ipython",
    "version": 3
   },
   "file_extension": ".py",
   "mimetype": "text/x-python",
   "name": "python",
   "nbconvert_exporter": "python",
   "pygments_lexer": "ipython3",
   "version": "3.10.14"
  }
 },
 "nbformat": 4,
 "nbformat_minor": 4
}
