{
 "cells": [
  {
   "cell_type": "markdown",
   "metadata": {},
   "source": [
    "# Web Search Agent Implementation\n",
    "\n",
    "1. [Introduction](#introduction)\n",
    "2. [Setting Up the Environment](#setup)\n",
    "3. [Implementing the Tools](#tools)\n",
    "4. [Building the Web Search Agent](#building)\n",
    "5. [Running the Agent](#running)\n",
    "6. [Conclusion](#conclusion)\n"
   ]
  },
  {
   "cell_type": "markdown",
   "metadata": {},
   "source": [
    "## 1. Introduction <a name=\"introduction\"></a>\n",
    "\n",
    "The Web Search Agent is an AI-powered tool that combines the capabilities of Large Language Models (LLMs) with web search functionality. It can understand user queries, perform web searches, parse webpage content, and generate informative responses.\n",
    "\n",
    "Key components of our implementation include:\n",
    "- [Mirascope](https://www.mirascope.io/) library for LLM interactions\n",
    "- [OpenAI](https://openai.com/)'s GPT model for natural language processing\n",
    "- Custom tools for web searching and webpage parsing\n"
   ]
  },
  {
   "cell_type": "markdown",
   "metadata": {
    "scrolled": true
   },
   "source": "## 2. Setting Up the Environment <a name=\"setup\"></a>\n\nFirst, we need to install the required packages and import the necessary modules."
  },
  {
   "cell_type": "code",
   "execution_count": 16,
   "metadata": {
    "ExecuteTime": {
     "end_time": "2024-09-05T19:24:29.972507Z",
     "start_time": "2024-09-05T19:24:29.399563Z"
    },
    "trusted": true
   },
   "outputs": [
    {
     "name": "stdout",
     "output_type": "stream",
     "text": [
      "Requirement already satisfied: requests in /Users/koudai/PycharmProjects/mirascope/.venv_notebook/lib/python3.12/site-packages (2.32.3)\r\n",
      "Requirement already satisfied: beautifulsoup4 in /Users/koudai/PycharmProjects/mirascope/.venv_notebook/lib/python3.12/site-packages (4.12.3)\r\n",
      "Requirement already satisfied: pydantic in /Users/koudai/PycharmProjects/mirascope/.venv_notebook/lib/python3.12/site-packages (2.8.2)\r\n",
      "Requirement already satisfied: mirascope[openai] in /Users/koudai/PycharmProjects/mirascope/.venv_notebook/lib/python3.12/site-packages (1.2.0)\r\n",
      "Requirement already satisfied: docstring-parser<1.0,>=0.15 in /Users/koudai/PycharmProjects/mirascope/.venv_notebook/lib/python3.12/site-packages (from mirascope[openai]) (0.16)\r\n",
      "Requirement already satisfied: jiter>=0.5.0 in /Users/koudai/PycharmProjects/mirascope/.venv_notebook/lib/python3.12/site-packages (from mirascope[openai]) (0.5.0)\r\n",
      "Requirement already satisfied: typing-extensions>=4.10.0 in /Users/koudai/PycharmProjects/mirascope/.venv_notebook/lib/python3.12/site-packages (from mirascope[openai]) (4.12.2)\r\n",
      "Requirement already satisfied: openai<2,>=1.6.0 in /Users/koudai/PycharmProjects/mirascope/.venv_notebook/lib/python3.12/site-packages (from mirascope[openai]) (1.43.0)\r\n",
      "Requirement already satisfied: charset-normalizer<4,>=2 in /Users/koudai/PycharmProjects/mirascope/.venv_notebook/lib/python3.12/site-packages (from requests) (3.3.2)\r\n",
      "Requirement already satisfied: idna<4,>=2.5 in /Users/koudai/PycharmProjects/mirascope/.venv_notebook/lib/python3.12/site-packages (from requests) (3.8)\r\n",
      "Requirement already satisfied: urllib3<3,>=1.21.1 in /Users/koudai/PycharmProjects/mirascope/.venv_notebook/lib/python3.12/site-packages (from requests) (2.2.2)\r\n",
      "Requirement already satisfied: certifi>=2017.4.17 in /Users/koudai/PycharmProjects/mirascope/.venv_notebook/lib/python3.12/site-packages (from requests) (2024.8.30)\r\n",
      "Requirement already satisfied: soupsieve>1.2 in /Users/koudai/PycharmProjects/mirascope/.venv_notebook/lib/python3.12/site-packages (from beautifulsoup4) (2.6)\r\n",
      "Requirement already satisfied: annotated-types>=0.4.0 in /Users/koudai/PycharmProjects/mirascope/.venv_notebook/lib/python3.12/site-packages (from pydantic) (0.7.0)\r\n",
      "Requirement already satisfied: pydantic-core==2.20.1 in /Users/koudai/PycharmProjects/mirascope/.venv_notebook/lib/python3.12/site-packages (from pydantic) (2.20.1)\r\n",
      "Requirement already satisfied: anyio<5,>=3.5.0 in /Users/koudai/PycharmProjects/mirascope/.venv_notebook/lib/python3.12/site-packages (from openai<2,>=1.6.0->mirascope[openai]) (4.4.0)\r\n",
      "Requirement already satisfied: distro<2,>=1.7.0 in /Users/koudai/PycharmProjects/mirascope/.venv_notebook/lib/python3.12/site-packages (from openai<2,>=1.6.0->mirascope[openai]) (1.9.0)\r\n",
      "Requirement already satisfied: httpx<1,>=0.23.0 in /Users/koudai/PycharmProjects/mirascope/.venv_notebook/lib/python3.12/site-packages (from openai<2,>=1.6.0->mirascope[openai]) (0.27.2)\r\n",
      "Requirement already satisfied: sniffio in /Users/koudai/PycharmProjects/mirascope/.venv_notebook/lib/python3.12/site-packages (from openai<2,>=1.6.0->mirascope[openai]) (1.3.1)\r\n",
      "Requirement already satisfied: tqdm>4 in /Users/koudai/PycharmProjects/mirascope/.venv_notebook/lib/python3.12/site-packages (from openai<2,>=1.6.0->mirascope[openai]) (4.66.5)\r\n",
      "Requirement already satisfied: httpcore==1.* in /Users/koudai/PycharmProjects/mirascope/.venv_notebook/lib/python3.12/site-packages (from httpx<1,>=0.23.0->openai<2,>=1.6.0->mirascope[openai]) (1.0.5)\r\n",
      "Requirement already satisfied: h11<0.15,>=0.13 in /Users/koudai/PycharmProjects/mirascope/.venv_notebook/lib/python3.12/site-packages (from httpcore==1.*->httpx<1,>=0.23.0->openai<2,>=1.6.0->mirascope[openai]) (0.14.0)\r\n"
     ]
    }
   ],
   "source": [
    "!pip install \"mirascope[openai]\" requests beautifulsoup4 pydantic duckduckgo-search"
   ]
  },
  {
   "cell_type": "code",
   "execution_count": 32,
   "metadata": {
    "ExecuteTime": {
     "end_time": "2024-09-05T20:04:11.682789Z",
     "start_time": "2024-09-05T20:04:11.680808Z"
    },
    "trusted": true
   },
   "outputs": [],
   "source": [
    "import os\n",
    "from datetime import datetime\n",
    "\n",
    "import requests\n",
    "from bs4 import BeautifulSoup\n",
    "from duckduckgo_search import DDGS\n",
    "from pydantic import BaseModel\n",
    "\n",
    "from mirascope.core import BaseMessageParam, openai, prompt_template"
   ]
  },
  {
   "cell_type": "code",
   "execution_count": null,
   "metadata": {},
   "outputs": [],
   "source": [
    "# Set your OpenAI API key\n",
    "os.environ[\"OPENAI_API_KEY\"] = \"your-api-key-here\""
   ]
  },
  {
   "cell_type": "markdown",
   "metadata": {},
   "source": "## 3. Implementing the Tools <a name=\"tools\"></a>\n\nNow, let's implement our tools: `web_search` and `parse_webpage`. These functions will allow our agent to search the web and extract content from webpages."
  },
  {
   "cell_type": "code",
   "execution_count": 33,
   "metadata": {
    "ExecuteTime": {
     "end_time": "2024-09-05T20:04:17.333544Z",
     "start_time": "2024-09-05T20:04:17.330280Z"
    },
    "trusted": true
   },
   "outputs": [],
   "source": [
    "MAX_RESULTS = 10\n",
    "\n",
    "\n",
    "def web_search(text: str) -> str:\n",
    "    \"\"\"Search the web for the given text.\n",
    "\n",
    "    Args:\n",
    "        text: The text to search for.\n",
    "\n",
    "    Returns:\n",
    "        The search results for the given text, containing the `title`, `href`, and `body`.\n",
    "    \"\"\"\n",
    "    try:\n",
    "        results = DDGS(proxy=None).text(text, max_results=MAX_RESULTS)\n",
    "        return \"\\n\\n\".join(\n",
    "            [\n",
    "                \"title: {title}\\nhref: {href}\\nbody: {body}\".format(**result)\n",
    "                for result in results\n",
    "            ]\n",
    "        )\n",
    "    except Exception as e:\n",
    "        return f\"{type(e)}: Failed to search the web for text\"\n",
    "\n",
    "\n",
    "def parse_webpage(link: str) -> str:\n",
    "    \"\"\"Parse the paragraphs of the webpage found at `link`.\n",
    "\n",
    "    Args:\n",
    "        link: The URL of the webpage.\n",
    "\n",
    "    Returns:\n",
    "        The parsed paragraphs of the webpage, separated by newlines.\n",
    "    \"\"\"\n",
    "    try:\n",
    "        response = requests.get(link)\n",
    "        soup = BeautifulSoup(response.content, \"html.parser\")\n",
    "        return \"\\n\".join([p.text for p in soup.find_all(\"p\")])\n",
    "    except Exception as e:\n",
    "        return f\"{type(e)}: Failed to parse content from URL\""
   ]
  },
  {
   "cell_type": "markdown",
   "metadata": {},
   "source": "## 4. Building the Web Search Agent <a name=\"building\"></a>\n\nNow that we have our tools ready, let's build the WebSearchAgent class. This class will use the Mirascope framework to create an AI agent that can interact with users, perform web searches, and provide informative responses."
  },
  {
   "cell_type": "code",
   "execution_count": 34,
   "metadata": {
    "ExecuteTime": {
     "end_time": "2024-09-05T20:04:24.873453Z",
     "start_time": "2024-09-05T20:04:24.844458Z"
    },
    "trusted": true
   },
   "outputs": [
    {
     "ename": "AttributeError",
     "evalue": "module 'mirascope.core.openai' has no attribute 'OpenAIMessageParam'",
     "output_type": "error",
     "traceback": [
      "\u001b[0;31m---------------------------------------------------------------------------\u001b[0m",
      "\u001b[0;31mAttributeError\u001b[0m                            Traceback (most recent call last)",
      "Cell \u001b[0;32mIn[34], line 1\u001b[0m\n\u001b[0;32m----> 1\u001b[0m \u001b[38;5;28;43;01mclass\u001b[39;49;00m\u001b[43m \u001b[49m\u001b[38;5;21;43;01mWebSearchAgent\u001b[39;49;00m\u001b[43m(\u001b[49m\u001b[43mBaseModel\u001b[49m\u001b[43m)\u001b[49m\u001b[43m:\u001b[49m\n\u001b[1;32m      2\u001b[0m \u001b[43m    \u001b[49m\u001b[43mhistory\u001b[49m\u001b[43m:\u001b[49m\u001b[43m \u001b[49m\u001b[38;5;28;43mlist\u001b[39;49m\u001b[43m[\u001b[49m\u001b[43mBaseMessageParam\u001b[49m\u001b[43m \u001b[49m\u001b[38;5;241;43m|\u001b[39;49m\u001b[43m \u001b[49m\u001b[43mopenai\u001b[49m\u001b[38;5;241;43m.\u001b[39;49m\u001b[43mOpenAIMessageParam\u001b[49m\u001b[43m]\u001b[49m\u001b[43m \u001b[49m\u001b[38;5;241;43m=\u001b[39;49m\u001b[43m \u001b[49m\u001b[43m[\u001b[49m\u001b[43m]\u001b[49m\n\u001b[1;32m      4\u001b[0m \u001b[43m    \u001b[49m\u001b[38;5;129;43m@openai\u001b[39;49m\u001b[38;5;241;43m.\u001b[39;49m\u001b[43mcall\u001b[49m\u001b[43m(\u001b[49m\u001b[38;5;124;43m\"\u001b[39;49m\u001b[38;5;124;43mgpt-4o-mini\u001b[39;49m\u001b[38;5;124;43m\"\u001b[39;49m\u001b[43m,\u001b[49m\u001b[43m \u001b[49m\u001b[43mstream\u001b[49m\u001b[38;5;241;43m=\u001b[39;49m\u001b[38;5;28;43;01mTrue\u001b[39;49;00m\u001b[43m,\u001b[49m\u001b[43m \u001b[49m\u001b[43mtools\u001b[49m\u001b[38;5;241;43m=\u001b[39;49m\u001b[43m[\u001b[49m\u001b[43mweb_search\u001b[49m\u001b[43m,\u001b[49m\u001b[43m \u001b[49m\u001b[43mparse_webpage\u001b[49m\u001b[43m]\u001b[49m\u001b[43m)\u001b[49m\n\u001b[1;32m      5\u001b[0m \u001b[43m    \u001b[49m\u001b[38;5;129;43m@prompt_template\u001b[39;49m\u001b[43m(\u001b[49m\u001b[38;5;124;43m\"\"\"\u001b[39;49m\n\u001b[1;32m      6\u001b[0m \u001b[38;5;124;43m        SYSTEM:\u001b[39;49m\n\u001b[0;32m   (...)\u001b[0m\n\u001b[1;32m     24\u001b[0m \u001b[38;5;124;43m        \u001b[39;49m\u001b[38;5;124;43m\"\"\"\u001b[39;49m\u001b[43m)\u001b[49m\n\u001b[1;32m     25\u001b[0m \u001b[43m    \u001b[49m\u001b[38;5;28;43;01mdef\u001b[39;49;00m\u001b[43m \u001b[49m\u001b[38;5;21;43m_stream\u001b[39;49m\u001b[43m(\u001b[49m\u001b[38;5;28;43mself\u001b[39;49m\u001b[43m,\u001b[49m\u001b[43m \u001b[49m\u001b[43mquery\u001b[49m\u001b[43m:\u001b[49m\u001b[43m \u001b[49m\u001b[38;5;28;43mstr\u001b[39;49m\u001b[43m)\u001b[49m\u001b[43m:\u001b[49m\n",
      "Cell \u001b[0;32mIn[34], line 2\u001b[0m, in \u001b[0;36mWebSearchAgent\u001b[0;34m()\u001b[0m\n\u001b[1;32m      1\u001b[0m \u001b[38;5;28;01mclass\u001b[39;00m \u001b[38;5;21;01mWebSearchAgent\u001b[39;00m(BaseModel):\n\u001b[0;32m----> 2\u001b[0m     history: \u001b[38;5;28mlist\u001b[39m[BaseMessageParam \u001b[38;5;241m|\u001b[39m \u001b[43mopenai\u001b[49m\u001b[38;5;241;43m.\u001b[39;49m\u001b[43mOpenAIMessageParam\u001b[49m] \u001b[38;5;241m=\u001b[39m []\n\u001b[1;32m      4\u001b[0m     \u001b[38;5;129m@openai\u001b[39m\u001b[38;5;241m.\u001b[39mcall(\u001b[38;5;124m\"\u001b[39m\u001b[38;5;124mgpt-4o-mini\u001b[39m\u001b[38;5;124m\"\u001b[39m, stream\u001b[38;5;241m=\u001b[39m\u001b[38;5;28;01mTrue\u001b[39;00m, tools\u001b[38;5;241m=\u001b[39m[web_search, parse_webpage])\n\u001b[1;32m      5\u001b[0m     \u001b[38;5;129m@prompt_template\u001b[39m(\u001b[38;5;124m\"\"\"\u001b[39m\n\u001b[1;32m      6\u001b[0m \u001b[38;5;124m        SYSTEM:\u001b[39m\n\u001b[0;32m   (...)\u001b[0m\n\u001b[1;32m     24\u001b[0m \u001b[38;5;124m        \u001b[39m\u001b[38;5;124m\"\"\"\u001b[39m)\n\u001b[1;32m     25\u001b[0m     \u001b[38;5;28;01mdef\u001b[39;00m \u001b[38;5;21m_stream\u001b[39m(\u001b[38;5;28mself\u001b[39m, query: \u001b[38;5;28mstr\u001b[39m):\n\u001b[1;32m     26\u001b[0m         \u001b[38;5;28;01mreturn\u001b[39;00m {\n\u001b[1;32m     27\u001b[0m             \u001b[38;5;124m\"\u001b[39m\u001b[38;5;124mcomputed_fields\u001b[39m\u001b[38;5;124m\"\u001b[39m: {\n\u001b[1;32m     28\u001b[0m                 \u001b[38;5;124m\"\u001b[39m\u001b[38;5;124mcurrent_date\u001b[39m\u001b[38;5;124m\"\u001b[39m: datetime\u001b[38;5;241m.\u001b[39mnow()\u001b[38;5;241m.\u001b[39mstrftime(\u001b[38;5;124m\"\u001b[39m\u001b[38;5;124m%\u001b[39m\u001b[38;5;124mY-\u001b[39m\u001b[38;5;124m%\u001b[39m\u001b[38;5;124mm-\u001b[39m\u001b[38;5;132;01m%d\u001b[39;00m\u001b[38;5;124m\"\u001b[39m)\n\u001b[1;32m     29\u001b[0m             }\n\u001b[1;32m     30\u001b[0m         }\n",
      "\u001b[0;31mAttributeError\u001b[0m: module 'mirascope.core.openai' has no attribute 'OpenAIMessageParam'"
     ]
    }
   ],
   "source": [
    "class WebSearchAgent(BaseModel):\n",
    "    history: list[BaseMessageParam | openai.OpenAIMessageParam] = []\n",
    "\n",
    "    @openai.call(\"gpt-4o-mini\", stream=True, tools=[web_search, parse_webpage])\n",
    "    @prompt_template(\"\"\"\n",
    "        SYSTEM:\n",
    "        Your task is to answer a user's query. The current date is {current_date}.\n",
    "\n",
    "        You have access to the following tools:\n",
    "        - `web_search`: Search the web for information.\n",
    "        - `parse_webpage`: Parse the content of a webpage.\n",
    "\n",
    "        When calling the `web_search` tool, the `body` is simply the body of the search\n",
    "        result. You MUST then call the `parse_webpage` tool to get the actual content\n",
    "        of the webpage. It is up to you to determine which search results to parse.\n",
    "\n",
    "        Once you have gathered all of the information you need, generate your response,\n",
    "        which should strike the right balance between brevity and completeness. Your answer\n",
    "        to the user's query should be concise yet comprehensive. When discussing recent\n",
    "        events or developments, make sure to consider the current date provided.\n",
    "\n",
    "        MESSAGES: {self.history}\n",
    "        USER: {query}\n",
    "        \"\"\")\n",
    "    def _stream(self, query: str):\n",
    "        return {\n",
    "            \"computed_fields\": {\"current_date\": datetime.now().strftime(\"%Y-%m-%d\")}\n",
    "        }\n",
    "\n",
    "    def _step(self, query: str):\n",
    "        stream = self._stream(query)\n",
    "        tools_and_outputs = []\n",
    "        for chunk, tool in stream:\n",
    "            if tool:\n",
    "                tools_and_outputs.append((tool, tool.call()))\n",
    "            else:\n",
    "                print(chunk.content, end=\"\", flush=True)\n",
    "        if stream.user_message_param:\n",
    "            self.history.append(stream.user_message_param)\n",
    "        self.history.append(stream.message_param)\n",
    "        if tools_and_outputs:\n",
    "            self.history += stream.tool_message_params(tools_and_outputs)\n",
    "            self._step(\"\")\n",
    "\n",
    "    def run(self):\n",
    "        while True:\n",
    "            query = input(\"(User): \")\n",
    "            if query.lower() in [\"exit\", \"quit\"]:\n",
    "                break\n",
    "            print(\"(Assistant): \", end=\"\", flush=True)\n",
    "            self._step(query)\n",
    "            print(\"\")"
   ]
  },
  {
   "cell_type": "markdown",
   "metadata": {},
   "source": [
    "Let's break down the key components of our WebSearchAgent class:\n",
    "\n",
    "1. **@openai.call decorator**: This decorator configures the LLM call using OpenAI's model. It specifies the use of the \"gpt-4o-mini\" model, enables streaming, and provides access to the `parse_webpage` and `web_search` tools.\n",
    "\n",
    "2. **@prompt_template decorator**: This decorator defines the prompt template sent to the LLM. It allows for dynamic insertion of variables like `{current_date}` and `{self.history}`.\n",
    "\n",
    "3. **_stream method**: This method generates streaming responses using the OpenAI model. The actual implementation is provided by the Mirascope library, so we don't need to implement the function body.\n",
    "\n",
    "4. **_step method**: This method processes a single user query. It handles the streaming response, tool calls, and updates the conversation history.\n",
    "\n",
    "5. **run method**: This method provides a simple command-line interface for interacting with the agent. It continuously prompts for user input until the user chooses to exit."
   ]
  },
  {
   "cell_type": "markdown",
   "metadata": {},
   "source": [
    "## 5. Running the Agent <a name=\"running\"></a>\n",
    "\n",
    "Now that we have implemented our WebSearchAgent, let's create an instance and run it. Here's an example of how the agent responds to a query about upcoming Python releases:"
   ]
  },
  {
   "cell_type": "code",
   "execution_count": 40,
   "metadata": {
    "ExecuteTime": {
     "end_time": "2024-09-05T20:21:07.189562Z",
     "start_time": "2024-09-05T20:21:05.737801Z"
    },
    "trusted": true
   },
   "outputs": [
    {
     "ename": "KeyboardInterrupt",
     "evalue": "Interrupted by user",
     "output_type": "error",
     "traceback": [
      "\u001b[0;31m---------------------------------------------------------------------------\u001b[0m",
      "\u001b[0;31mKeyboardInterrupt\u001b[0m                         Traceback (most recent call last)",
      "Cell \u001b[0;32mIn[40], line 2\u001b[0m\n\u001b[1;32m      1\u001b[0m agent \u001b[38;5;241m=\u001b[39m WebSearchAgent()\n\u001b[0;32m----> 2\u001b[0m \u001b[43magent\u001b[49m\u001b[38;5;241;43m.\u001b[39;49m\u001b[43mrun\u001b[49m\u001b[43m(\u001b[49m\u001b[43m)\u001b[49m\n",
      "Cell \u001b[0;32mIn[13], line 51\u001b[0m, in \u001b[0;36mWebSearchAgent.run\u001b[0;34m(self)\u001b[0m\n\u001b[1;32m     49\u001b[0m \u001b[38;5;28;01mdef\u001b[39;00m \u001b[38;5;21mrun\u001b[39m(\u001b[38;5;28mself\u001b[39m):\n\u001b[1;32m     50\u001b[0m     \u001b[38;5;28;01mwhile\u001b[39;00m \u001b[38;5;28;01mTrue\u001b[39;00m:\n\u001b[0;32m---> 51\u001b[0m         query \u001b[38;5;241m=\u001b[39m \u001b[38;5;28;43minput\u001b[39;49m\u001b[43m(\u001b[49m\u001b[38;5;124;43m\"\u001b[39;49m\u001b[38;5;124;43m(User): \u001b[39;49m\u001b[38;5;124;43m\"\u001b[39;49m\u001b[43m)\u001b[49m\n\u001b[1;32m     52\u001b[0m         \u001b[38;5;28;01mif\u001b[39;00m query\u001b[38;5;241m.\u001b[39mlower() \u001b[38;5;129;01min\u001b[39;00m [\u001b[38;5;124m\"\u001b[39m\u001b[38;5;124mexit\u001b[39m\u001b[38;5;124m\"\u001b[39m, \u001b[38;5;124m\"\u001b[39m\u001b[38;5;124mquit\u001b[39m\u001b[38;5;124m\"\u001b[39m]:\n\u001b[1;32m     53\u001b[0m             \u001b[38;5;28;01mbreak\u001b[39;00m\n",
      "File \u001b[0;32m~/PycharmProjects/mirascope/.venv_notebook/lib/python3.12/site-packages/ipykernel/kernelbase.py:1282\u001b[0m, in \u001b[0;36mKernel.raw_input\u001b[0;34m(self, prompt)\u001b[0m\n\u001b[1;32m   1280\u001b[0m     msg \u001b[38;5;241m=\u001b[39m \u001b[38;5;124m\"\u001b[39m\u001b[38;5;124mraw_input was called, but this frontend does not support input requests.\u001b[39m\u001b[38;5;124m\"\u001b[39m\n\u001b[1;32m   1281\u001b[0m     \u001b[38;5;28;01mraise\u001b[39;00m StdinNotImplementedError(msg)\n\u001b[0;32m-> 1282\u001b[0m \u001b[38;5;28;01mreturn\u001b[39;00m \u001b[38;5;28;43mself\u001b[39;49m\u001b[38;5;241;43m.\u001b[39;49m\u001b[43m_input_request\u001b[49m\u001b[43m(\u001b[49m\n\u001b[1;32m   1283\u001b[0m \u001b[43m    \u001b[49m\u001b[38;5;28;43mstr\u001b[39;49m\u001b[43m(\u001b[49m\u001b[43mprompt\u001b[49m\u001b[43m)\u001b[49m\u001b[43m,\u001b[49m\n\u001b[1;32m   1284\u001b[0m \u001b[43m    \u001b[49m\u001b[38;5;28;43mself\u001b[39;49m\u001b[38;5;241;43m.\u001b[39;49m\u001b[43m_parent_ident\u001b[49m\u001b[43m[\u001b[49m\u001b[38;5;124;43m\"\u001b[39;49m\u001b[38;5;124;43mshell\u001b[39;49m\u001b[38;5;124;43m\"\u001b[39;49m\u001b[43m]\u001b[49m\u001b[43m,\u001b[49m\n\u001b[1;32m   1285\u001b[0m \u001b[43m    \u001b[49m\u001b[38;5;28;43mself\u001b[39;49m\u001b[38;5;241;43m.\u001b[39;49m\u001b[43mget_parent\u001b[49m\u001b[43m(\u001b[49m\u001b[38;5;124;43m\"\u001b[39;49m\u001b[38;5;124;43mshell\u001b[39;49m\u001b[38;5;124;43m\"\u001b[39;49m\u001b[43m)\u001b[49m\u001b[43m,\u001b[49m\n\u001b[1;32m   1286\u001b[0m \u001b[43m    \u001b[49m\u001b[43mpassword\u001b[49m\u001b[38;5;241;43m=\u001b[39;49m\u001b[38;5;28;43;01mFalse\u001b[39;49;00m\u001b[43m,\u001b[49m\n\u001b[1;32m   1287\u001b[0m \u001b[43m\u001b[49m\u001b[43m)\u001b[49m\n",
      "File \u001b[0;32m~/PycharmProjects/mirascope/.venv_notebook/lib/python3.12/site-packages/ipykernel/kernelbase.py:1325\u001b[0m, in \u001b[0;36mKernel._input_request\u001b[0;34m(self, prompt, ident, parent, password)\u001b[0m\n\u001b[1;32m   1322\u001b[0m \u001b[38;5;28;01mexcept\u001b[39;00m \u001b[38;5;167;01mKeyboardInterrupt\u001b[39;00m:\n\u001b[1;32m   1323\u001b[0m     \u001b[38;5;66;03m# re-raise KeyboardInterrupt, to truncate traceback\u001b[39;00m\n\u001b[1;32m   1324\u001b[0m     msg \u001b[38;5;241m=\u001b[39m \u001b[38;5;124m\"\u001b[39m\u001b[38;5;124mInterrupted by user\u001b[39m\u001b[38;5;124m\"\u001b[39m\n\u001b[0;32m-> 1325\u001b[0m     \u001b[38;5;28;01mraise\u001b[39;00m \u001b[38;5;167;01mKeyboardInterrupt\u001b[39;00m(msg) \u001b[38;5;28;01mfrom\u001b[39;00m \u001b[38;5;28;01mNone\u001b[39;00m\n\u001b[1;32m   1326\u001b[0m \u001b[38;5;28;01mexcept\u001b[39;00m \u001b[38;5;167;01mException\u001b[39;00m:\n\u001b[1;32m   1327\u001b[0m     \u001b[38;5;28mself\u001b[39m\u001b[38;5;241m.\u001b[39mlog\u001b[38;5;241m.\u001b[39mwarning(\u001b[38;5;124m\"\u001b[39m\u001b[38;5;124mInvalid Message:\u001b[39m\u001b[38;5;124m\"\u001b[39m, exc_info\u001b[38;5;241m=\u001b[39m\u001b[38;5;28;01mTrue\u001b[39;00m)\n",
      "\u001b[0;31mKeyboardInterrupt\u001b[0m: Interrupted by user"
     ]
    }
   ],
   "source": [
    "agent = WebSearchAgent()\n",
    "agent.run()\n",
    "\n",
    "# > (User): What is the next Python release version?\n",
    "# > (Assistant): The next Python release will be **Python 3.13**, expected to be officially released on **October 1, 2024**. This version is currently in prerelease status. After this, Python 3.14 is scheduled for release on **October 1, 2025**, marking the beginning of a new feature branch.\n",
    "\n",
    "# Python 3.13 is important as it will introduce new features and enhancements, while Python 3.14 is anticipated to follow in the established release cadence outlined in PEP 602, which involves a 17-month development period and periodic updates thereafter."
   ]
  },
  {
   "cell_type": "markdown",
   "metadata": {},
   "source": [
    "You can now interact with your Web Search Agent! Try asking it questions that require web searches, like \"What are the latest developments in artificial intelligence?\" or \"Can you summarize the plot of the latest popular movie?\"\n",
    "\n",
    "Remember, to exit the agent, simply type \"exit\" or \"quit\"."
   ]
  },
  {
   "cell_type": "markdown",
   "metadata": {},
   "source": "## 6. Conclusion <a name=\"conclusion\"></a>\n\nYou've successfully implemented a Web Search Agent using the Mirascope library. This agent demonstrates the power of combining LLMs with custom tools for web searching and content parsing.\n\nKey takeaways:\n1. Custom tools like `web_search` and `parse_webpage` extend the agent's functionality.\n2. The `@openai.call` and `@prompt_template` decorators streamline the configuration of LLM interactions.\n3. Streaming responses allow for real-time interaction with the agent.\n\nThis implementation serves as a starting point. You can further enhance the agent by:\n- Implementing a more sophisticated web search function\n- Adding error handling and retries for web requests\n- Extending the agent's capabilities with additional tools\n- Optimizing the prompt template for better responses\n"
  },
  {
   "cell_type": "code",
   "execution_count": null,
   "metadata": {
    "trusted": true
   },
   "outputs": [],
   "source": []
  }
 ],
 "metadata": {
  "kernelspec": {
   "display_name": "Python 3 (ipykernel)",
   "language": "python",
   "name": "python3"
  },
  "language_info": {
   "codemirror_mode": {
    "name": "python",
    "version": 3
   },
   "file_extension": ".py",
   "mimetype": "text/x-python",
   "name": "python",
   "nbconvert_exporter": "python",
   "pygments_lexer": "ipython3",
   "version": "3.8"
  }
 },
 "nbformat": 4,
 "nbformat_minor": 4
}
