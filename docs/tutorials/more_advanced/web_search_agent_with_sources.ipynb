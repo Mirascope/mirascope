{
  "cells": [
    {
      "cell_type": "markdown",
      "id": "72942cd210501f07",
      "metadata": {
        "id": "72942cd210501f07"
      },
      "source": [
        "# Web Agent Tutorial with Sources\n",
        "\n",
        "This notebook tutorial walks through the implementation of a web agent that uses Large Language Models (LLMs) to perform intelligent web searches and extract relevant information. We'll use the Groq API for our LLM calls and the Qwant search engine for web queries.\n",
        "\n",
        "<div class=\"admonition tip\">\n",
        "<p class=\"admonition-title\">Mirascope Concepts Used</p>\n",
        "<ul>\n",
        "<li><a href=\"../../../learn/prompts/\">Prompts</a></li>\n",
        "<li><a href=\"../../../learn/calls/\">Calls</a></li>\n",
        "<li><a href=\"../../../learn/tools/\">Tools</a></li>\n",
        "<li><a href=\"../../../learn/chaining/\">Chaining</a></li>\n",
        "<li><a href=\"../../../learn/response_models/\">Response Model</a></li>\n",
        "</ul>\n",
        "</div>\n",
        "\n",
        "<div class=\"admonition note\">\n",
        "</div>"
      ]
    },
    {
      "cell_type": "markdown",
      "id": "265d41a4",
      "metadata": {
        "id": "265d41a4"
      },
      "source": [
        "## Setup\n",
        "\n",
        "First, let's install the necessary packages:"
      ]
    },
    {
      "cell_type": "code",
      "execution_count": null,
      "id": "0900d46c",
      "metadata": {
        "colab": {
          "base_uri": "https://localhost:8080/"
        },
        "id": "0900d46c",
        "outputId": "1536a4c8-7872-4247-d2c1-5583abcfbaea"
      },
      "outputs": [
        {
          "output_type": "stream",
          "name": "stdout",
          "text": [
            "Requirement already satisfied: requests in /usr/local/lib/python3.10/dist-packages (2.32.3)\n",
            "Requirement already satisfied: beautifulsoup4 in /usr/local/lib/python3.10/dist-packages (4.12.3)\n",
            "Collecting python-dotenv\n",
            "  Downloading python_dotenv-1.0.1-py3-none-any.whl.metadata (23 kB)\n",
            "Requirement already satisfied: tenacity in /usr/local/lib/python3.10/dist-packages (9.0.0)\n",
            "Collecting mirascope[groq]\n",
            "  Downloading mirascope-1.3.0-py3-none-any.whl.metadata (7.9 kB)\n",
            "Requirement already satisfied: docstring-parser<1.0,>=0.15 in /usr/local/lib/python3.10/dist-packages (from mirascope[groq]) (0.16)\n",
            "Collecting jiter>=0.5.0 (from mirascope[groq])\n",
            "  Downloading jiter-0.5.0-cp310-cp310-manylinux_2_17_x86_64.manylinux2014_x86_64.whl.metadata (3.6 kB)\n",
            "Collecting mkdocs-jupyter>=0.25.0 (from mirascope[groq])\n",
            "  Downloading mkdocs_jupyter-0.25.0-py3-none-any.whl.metadata (9.4 kB)\n",
            "Requirement already satisfied: pydantic<3.0,>=2.7.4 in /usr/local/lib/python3.10/dist-packages (from mirascope[groq]) (2.9.2)\n",
            "Requirement already satisfied: typing-extensions>=4.10.0 in /usr/local/lib/python3.10/dist-packages (from mirascope[groq]) (4.12.2)\n",
            "Collecting groq<1,>=0.9.0 (from mirascope[groq])\n",
            "  Downloading groq-0.11.0-py3-none-any.whl.metadata (13 kB)\n",
            "Requirement already satisfied: charset-normalizer<4,>=2 in /usr/local/lib/python3.10/dist-packages (from requests) (3.3.2)\n",
            "Requirement already satisfied: idna<4,>=2.5 in /usr/local/lib/python3.10/dist-packages (from requests) (3.10)\n",
            "Requirement already satisfied: urllib3<3,>=1.21.1 in /usr/local/lib/python3.10/dist-packages (from requests) (2.2.3)\n",
            "Requirement already satisfied: certifi>=2017.4.17 in /usr/local/lib/python3.10/dist-packages (from requests) (2024.8.30)\n",
            "Requirement already satisfied: soupsieve>1.2 in /usr/local/lib/python3.10/dist-packages (from beautifulsoup4) (2.6)\n",
            "Requirement already satisfied: anyio<5,>=3.5.0 in /usr/local/lib/python3.10/dist-packages (from groq<1,>=0.9.0->mirascope[groq]) (3.7.1)\n",
            "Requirement already satisfied: distro<2,>=1.7.0 in /usr/lib/python3/dist-packages (from groq<1,>=0.9.0->mirascope[groq]) (1.7.0)\n",
            "Collecting httpx<1,>=0.23.0 (from groq<1,>=0.9.0->mirascope[groq])\n",
            "  Downloading httpx-0.27.2-py3-none-any.whl.metadata (7.1 kB)\n",
            "Requirement already satisfied: sniffio in /usr/local/lib/python3.10/dist-packages (from groq<1,>=0.9.0->mirascope[groq]) (1.3.1)\n",
            "Collecting ipykernel<7.0.0,>6.0.0 (from mkdocs-jupyter>=0.25.0->mirascope[groq])\n",
            "  Downloading ipykernel-6.29.5-py3-none-any.whl.metadata (6.3 kB)\n",
            "Collecting jupytext<2,>1.13.8 (from mkdocs-jupyter>=0.25.0->mirascope[groq])\n",
            "  Downloading jupytext-1.16.4-py3-none-any.whl.metadata (13 kB)\n",
            "Collecting mkdocs-material>9.0.0 (from mkdocs-jupyter>=0.25.0->mirascope[groq])\n",
            "  Downloading mkdocs_material-9.5.39-py3-none-any.whl.metadata (17 kB)\n",
            "Collecting mkdocs<2,>=1.4.0 (from mkdocs-jupyter>=0.25.0->mirascope[groq])\n",
            "  Downloading mkdocs-1.6.1-py3-none-any.whl.metadata (6.0 kB)\n",
            "Collecting nbconvert<8,>=7.2.9 (from mkdocs-jupyter>=0.25.0->mirascope[groq])\n",
            "  Downloading nbconvert-7.16.4-py3-none-any.whl.metadata (8.5 kB)\n",
            "Requirement already satisfied: pygments>2.12.0 in /usr/local/lib/python3.10/dist-packages (from mkdocs-jupyter>=0.25.0->mirascope[groq]) (2.18.0)\n",
            "Requirement already satisfied: annotated-types>=0.6.0 in /usr/local/lib/python3.10/dist-packages (from pydantic<3.0,>=2.7.4->mirascope[groq]) (0.7.0)\n",
            "Requirement already satisfied: pydantic-core==2.23.4 in /usr/local/lib/python3.10/dist-packages (from pydantic<3.0,>=2.7.4->mirascope[groq]) (2.23.4)\n",
            "Requirement already satisfied: exceptiongroup in /usr/local/lib/python3.10/dist-packages (from anyio<5,>=3.5.0->groq<1,>=0.9.0->mirascope[groq]) (1.2.2)\n",
            "Collecting httpcore==1.* (from httpx<1,>=0.23.0->groq<1,>=0.9.0->mirascope[groq])\n",
            "  Downloading httpcore-1.0.6-py3-none-any.whl.metadata (21 kB)\n",
            "Collecting h11<0.15,>=0.13 (from httpcore==1.*->httpx<1,>=0.23.0->groq<1,>=0.9.0->mirascope[groq])\n",
            "  Downloading h11-0.14.0-py3-none-any.whl.metadata (8.2 kB)\n",
            "Collecting comm>=0.1.1 (from ipykernel<7.0.0,>6.0.0->mkdocs-jupyter>=0.25.0->mirascope[groq])\n",
            "  Downloading comm-0.2.2-py3-none-any.whl.metadata (3.7 kB)\n",
            "Requirement already satisfied: debugpy>=1.6.5 in /usr/local/lib/python3.10/dist-packages (from ipykernel<7.0.0,>6.0.0->mkdocs-jupyter>=0.25.0->mirascope[groq]) (1.6.6)\n",
            "Requirement already satisfied: ipython>=7.23.1 in /usr/local/lib/python3.10/dist-packages (from ipykernel<7.0.0,>6.0.0->mkdocs-jupyter>=0.25.0->mirascope[groq]) (7.34.0)\n",
            "Requirement already satisfied: jupyter-client>=6.1.12 in /usr/local/lib/python3.10/dist-packages (from ipykernel<7.0.0,>6.0.0->mkdocs-jupyter>=0.25.0->mirascope[groq]) (6.1.12)\n",
            "Requirement already satisfied: jupyter-core!=5.0.*,>=4.12 in /usr/local/lib/python3.10/dist-packages (from ipykernel<7.0.0,>6.0.0->mkdocs-jupyter>=0.25.0->mirascope[groq]) (5.7.2)\n",
            "Requirement already satisfied: matplotlib-inline>=0.1 in /usr/local/lib/python3.10/dist-packages (from ipykernel<7.0.0,>6.0.0->mkdocs-jupyter>=0.25.0->mirascope[groq]) (0.1.7)\n",
            "Requirement already satisfied: nest-asyncio in /usr/local/lib/python3.10/dist-packages (from ipykernel<7.0.0,>6.0.0->mkdocs-jupyter>=0.25.0->mirascope[groq]) (1.6.0)\n",
            "Requirement already satisfied: packaging in /usr/local/lib/python3.10/dist-packages (from ipykernel<7.0.0,>6.0.0->mkdocs-jupyter>=0.25.0->mirascope[groq]) (24.1)\n",
            "Requirement already satisfied: psutil in /usr/local/lib/python3.10/dist-packages (from ipykernel<7.0.0,>6.0.0->mkdocs-jupyter>=0.25.0->mirascope[groq]) (5.9.5)\n",
            "Requirement already satisfied: pyzmq>=24 in /usr/local/lib/python3.10/dist-packages (from ipykernel<7.0.0,>6.0.0->mkdocs-jupyter>=0.25.0->mirascope[groq]) (24.0.1)\n",
            "Requirement already satisfied: tornado>=6.1 in /usr/local/lib/python3.10/dist-packages (from ipykernel<7.0.0,>6.0.0->mkdocs-jupyter>=0.25.0->mirascope[groq]) (6.3.3)\n",
            "Requirement already satisfied: traitlets>=5.4.0 in /usr/local/lib/python3.10/dist-packages (from ipykernel<7.0.0,>6.0.0->mkdocs-jupyter>=0.25.0->mirascope[groq]) (5.7.1)\n",
            "Requirement already satisfied: markdown-it-py>=1.0 in /usr/local/lib/python3.10/dist-packages (from jupytext<2,>1.13.8->mkdocs-jupyter>=0.25.0->mirascope[groq]) (3.0.0)\n",
            "Requirement already satisfied: mdit-py-plugins in /usr/local/lib/python3.10/dist-packages (from jupytext<2,>1.13.8->mkdocs-jupyter>=0.25.0->mirascope[groq]) (0.4.2)\n",
            "Requirement already satisfied: nbformat in /usr/local/lib/python3.10/dist-packages (from jupytext<2,>1.13.8->mkdocs-jupyter>=0.25.0->mirascope[groq]) (5.10.4)\n",
            "Requirement already satisfied: pyyaml in /usr/local/lib/python3.10/dist-packages (from jupytext<2,>1.13.8->mkdocs-jupyter>=0.25.0->mirascope[groq]) (6.0.2)\n",
            "Requirement already satisfied: tomli in /usr/local/lib/python3.10/dist-packages (from jupytext<2,>1.13.8->mkdocs-jupyter>=0.25.0->mirascope[groq]) (2.0.1)\n",
            "Requirement already satisfied: click>=7.0 in /usr/local/lib/python3.10/dist-packages (from mkdocs<2,>=1.4.0->mkdocs-jupyter>=0.25.0->mirascope[groq]) (8.1.7)\n",
            "Collecting ghp-import>=1.0 (from mkdocs<2,>=1.4.0->mkdocs-jupyter>=0.25.0->mirascope[groq])\n",
            "  Downloading ghp_import-2.1.0-py3-none-any.whl.metadata (7.2 kB)\n",
            "Requirement already satisfied: jinja2>=2.11.1 in /usr/local/lib/python3.10/dist-packages (from mkdocs<2,>=1.4.0->mkdocs-jupyter>=0.25.0->mirascope[groq]) (3.1.4)\n",
            "Requirement already satisfied: markdown>=3.3.6 in /usr/local/lib/python3.10/dist-packages (from mkdocs<2,>=1.4.0->mkdocs-jupyter>=0.25.0->mirascope[groq]) (3.7)\n",
            "Requirement already satisfied: markupsafe>=2.0.1 in /usr/local/lib/python3.10/dist-packages (from mkdocs<2,>=1.4.0->mkdocs-jupyter>=0.25.0->mirascope[groq]) (2.1.5)\n",
            "Collecting mergedeep>=1.3.4 (from mkdocs<2,>=1.4.0->mkdocs-jupyter>=0.25.0->mirascope[groq])\n",
            "  Downloading mergedeep-1.3.4-py3-none-any.whl.metadata (4.3 kB)\n",
            "Collecting mkdocs-get-deps>=0.2.0 (from mkdocs<2,>=1.4.0->mkdocs-jupyter>=0.25.0->mirascope[groq])\n",
            "  Downloading mkdocs_get_deps-0.2.0-py3-none-any.whl.metadata (4.0 kB)\n",
            "Collecting pathspec>=0.11.1 (from mkdocs<2,>=1.4.0->mkdocs-jupyter>=0.25.0->mirascope[groq])\n",
            "  Downloading pathspec-0.12.1-py3-none-any.whl.metadata (21 kB)\n",
            "Collecting pyyaml-env-tag>=0.1 (from mkdocs<2,>=1.4.0->mkdocs-jupyter>=0.25.0->mirascope[groq])\n",
            "  Downloading pyyaml_env_tag-0.1-py3-none-any.whl.metadata (4.1 kB)\n",
            "Collecting watchdog>=2.0 (from mkdocs<2,>=1.4.0->mkdocs-jupyter>=0.25.0->mirascope[groq])\n",
            "  Downloading watchdog-5.0.3-py3-none-manylinux2014_x86_64.whl.metadata (41 kB)\n",
            "\u001b[2K     \u001b[90m━━━━━━━━━━━━━━━━━━━━━━━━━━━━━━━━━━━━━━━━\u001b[0m \u001b[32m41.9/41.9 kB\u001b[0m \u001b[31m1.6 MB/s\u001b[0m eta \u001b[36m0:00:00\u001b[0m\n",
            "\u001b[?25hRequirement already satisfied: babel~=2.10 in /usr/local/lib/python3.10/dist-packages (from mkdocs-material>9.0.0->mkdocs-jupyter>=0.25.0->mirascope[groq]) (2.16.0)\n",
            "Collecting colorama~=0.4 (from mkdocs-material>9.0.0->mkdocs-jupyter>=0.25.0->mirascope[groq])\n",
            "  Downloading colorama-0.4.6-py2.py3-none-any.whl.metadata (17 kB)\n",
            "Collecting mkdocs-material-extensions~=1.3 (from mkdocs-material>9.0.0->mkdocs-jupyter>=0.25.0->mirascope[groq])\n",
            "  Downloading mkdocs_material_extensions-1.3.1-py3-none-any.whl.metadata (6.9 kB)\n",
            "Collecting paginate~=0.5 (from mkdocs-material>9.0.0->mkdocs-jupyter>=0.25.0->mirascope[groq])\n",
            "  Downloading paginate-0.5.7-py2.py3-none-any.whl.metadata (11 kB)\n",
            "Collecting pymdown-extensions~=10.2 (from mkdocs-material>9.0.0->mkdocs-jupyter>=0.25.0->mirascope[groq])\n",
            "  Downloading pymdown_extensions-10.11.2-py3-none-any.whl.metadata (3.0 kB)\n",
            "Requirement already satisfied: regex>=2022.4 in /usr/local/lib/python3.10/dist-packages (from mkdocs-material>9.0.0->mkdocs-jupyter>=0.25.0->mirascope[groq]) (2024.9.11)\n",
            "Requirement already satisfied: bleach!=5.0.0 in /usr/local/lib/python3.10/dist-packages (from nbconvert<8,>=7.2.9->mkdocs-jupyter>=0.25.0->mirascope[groq]) (6.1.0)\n",
            "Requirement already satisfied: defusedxml in /usr/local/lib/python3.10/dist-packages (from nbconvert<8,>=7.2.9->mkdocs-jupyter>=0.25.0->mirascope[groq]) (0.7.1)\n",
            "Requirement already satisfied: jupyterlab-pygments in /usr/local/lib/python3.10/dist-packages (from nbconvert<8,>=7.2.9->mkdocs-jupyter>=0.25.0->mirascope[groq]) (0.3.0)\n",
            "Collecting mistune<4,>=2.0.3 (from nbconvert<8,>=7.2.9->mkdocs-jupyter>=0.25.0->mirascope[groq])\n",
            "  Downloading mistune-3.0.2-py3-none-any.whl.metadata (1.7 kB)\n",
            "Requirement already satisfied: nbclient>=0.5.0 in /usr/local/lib/python3.10/dist-packages (from nbconvert<8,>=7.2.9->mkdocs-jupyter>=0.25.0->mirascope[groq]) (0.10.0)\n",
            "Requirement already satisfied: pandocfilters>=1.4.1 in /usr/local/lib/python3.10/dist-packages (from nbconvert<8,>=7.2.9->mkdocs-jupyter>=0.25.0->mirascope[groq]) (1.5.1)\n",
            "Requirement already satisfied: tinycss2 in /usr/local/lib/python3.10/dist-packages (from nbconvert<8,>=7.2.9->mkdocs-jupyter>=0.25.0->mirascope[groq]) (1.3.0)\n",
            "Requirement already satisfied: six>=1.9.0 in /usr/local/lib/python3.10/dist-packages (from bleach!=5.0.0->nbconvert<8,>=7.2.9->mkdocs-jupyter>=0.25.0->mirascope[groq]) (1.16.0)\n",
            "Requirement already satisfied: webencodings in /usr/local/lib/python3.10/dist-packages (from bleach!=5.0.0->nbconvert<8,>=7.2.9->mkdocs-jupyter>=0.25.0->mirascope[groq]) (0.5.1)\n",
            "Requirement already satisfied: python-dateutil>=2.8.1 in /usr/local/lib/python3.10/dist-packages (from ghp-import>=1.0->mkdocs<2,>=1.4.0->mkdocs-jupyter>=0.25.0->mirascope[groq]) (2.8.2)\n",
            "Requirement already satisfied: setuptools>=18.5 in /usr/local/lib/python3.10/dist-packages (from ipython>=7.23.1->ipykernel<7.0.0,>6.0.0->mkdocs-jupyter>=0.25.0->mirascope[groq]) (71.0.4)\n",
            "Collecting jedi>=0.16 (from ipython>=7.23.1->ipykernel<7.0.0,>6.0.0->mkdocs-jupyter>=0.25.0->mirascope[groq])\n",
            "  Using cached jedi-0.19.1-py2.py3-none-any.whl.metadata (22 kB)\n",
            "Requirement already satisfied: decorator in /usr/local/lib/python3.10/dist-packages (from ipython>=7.23.1->ipykernel<7.0.0,>6.0.0->mkdocs-jupyter>=0.25.0->mirascope[groq]) (4.4.2)\n",
            "Requirement already satisfied: pickleshare in /usr/local/lib/python3.10/dist-packages (from ipython>=7.23.1->ipykernel<7.0.0,>6.0.0->mkdocs-jupyter>=0.25.0->mirascope[groq]) (0.7.5)\n",
            "Requirement already satisfied: prompt-toolkit!=3.0.0,!=3.0.1,<3.1.0,>=2.0.0 in /usr/local/lib/python3.10/dist-packages (from ipython>=7.23.1->ipykernel<7.0.0,>6.0.0->mkdocs-jupyter>=0.25.0->mirascope[groq]) (3.0.48)\n",
            "Requirement already satisfied: backcall in /usr/local/lib/python3.10/dist-packages (from ipython>=7.23.1->ipykernel<7.0.0,>6.0.0->mkdocs-jupyter>=0.25.0->mirascope[groq]) (0.2.0)\n",
            "Requirement already satisfied: pexpect>4.3 in /usr/local/lib/python3.10/dist-packages (from ipython>=7.23.1->ipykernel<7.0.0,>6.0.0->mkdocs-jupyter>=0.25.0->mirascope[groq]) (4.9.0)\n",
            "Requirement already satisfied: platformdirs>=2.5 in /usr/local/lib/python3.10/dist-packages (from jupyter-core!=5.0.*,>=4.12->ipykernel<7.0.0,>6.0.0->mkdocs-jupyter>=0.25.0->mirascope[groq]) (4.3.6)\n",
            "Requirement already satisfied: mdurl~=0.1 in /usr/local/lib/python3.10/dist-packages (from markdown-it-py>=1.0->jupytext<2,>1.13.8->mkdocs-jupyter>=0.25.0->mirascope[groq]) (0.1.2)\n",
            "Requirement already satisfied: fastjsonschema>=2.15 in /usr/local/lib/python3.10/dist-packages (from nbformat->jupytext<2,>1.13.8->mkdocs-jupyter>=0.25.0->mirascope[groq]) (2.20.0)\n",
            "Requirement already satisfied: jsonschema>=2.6 in /usr/local/lib/python3.10/dist-packages (from nbformat->jupytext<2,>1.13.8->mkdocs-jupyter>=0.25.0->mirascope[groq]) (4.23.0)\n",
            "Requirement already satisfied: parso<0.9.0,>=0.8.3 in /usr/local/lib/python3.10/dist-packages (from jedi>=0.16->ipython>=7.23.1->ipykernel<7.0.0,>6.0.0->mkdocs-jupyter>=0.25.0->mirascope[groq]) (0.8.4)\n",
            "Requirement already satisfied: attrs>=22.2.0 in /usr/local/lib/python3.10/dist-packages (from jsonschema>=2.6->nbformat->jupytext<2,>1.13.8->mkdocs-jupyter>=0.25.0->mirascope[groq]) (24.2.0)\n",
            "Requirement already satisfied: jsonschema-specifications>=2023.03.6 in /usr/local/lib/python3.10/dist-packages (from jsonschema>=2.6->nbformat->jupytext<2,>1.13.8->mkdocs-jupyter>=0.25.0->mirascope[groq]) (2023.12.1)\n",
            "Requirement already satisfied: referencing>=0.28.4 in /usr/local/lib/python3.10/dist-packages (from jsonschema>=2.6->nbformat->jupytext<2,>1.13.8->mkdocs-jupyter>=0.25.0->mirascope[groq]) (0.35.1)\n",
            "Requirement already satisfied: rpds-py>=0.7.1 in /usr/local/lib/python3.10/dist-packages (from jsonschema>=2.6->nbformat->jupytext<2,>1.13.8->mkdocs-jupyter>=0.25.0->mirascope[groq]) (0.20.0)\n",
            "Requirement already satisfied: ptyprocess>=0.5 in /usr/local/lib/python3.10/dist-packages (from pexpect>4.3->ipython>=7.23.1->ipykernel<7.0.0,>6.0.0->mkdocs-jupyter>=0.25.0->mirascope[groq]) (0.7.0)\n",
            "Requirement already satisfied: wcwidth in /usr/local/lib/python3.10/dist-packages (from prompt-toolkit!=3.0.0,!=3.0.1,<3.1.0,>=2.0.0->ipython>=7.23.1->ipykernel<7.0.0,>6.0.0->mkdocs-jupyter>=0.25.0->mirascope[groq]) (0.2.13)\n",
            "Downloading python_dotenv-1.0.1-py3-none-any.whl (19 kB)\n",
            "Downloading groq-0.11.0-py3-none-any.whl (106 kB)\n",
            "\u001b[2K   \u001b[90m━━━━━━━━━━━━━━━━━━━━━━━━━━━━━━━━━━━━━━━━\u001b[0m \u001b[32m106.5/106.5 kB\u001b[0m \u001b[31m6.7 MB/s\u001b[0m eta \u001b[36m0:00:00\u001b[0m\n",
            "\u001b[?25hDownloading jiter-0.5.0-cp310-cp310-manylinux_2_17_x86_64.manylinux2014_x86_64.whl (318 kB)\n",
            "\u001b[2K   \u001b[90m━━━━━━━━━━━━━━━━━━━━━━━━━━━━━━━━━━━━━━━━\u001b[0m \u001b[32m318.9/318.9 kB\u001b[0m \u001b[31m20.2 MB/s\u001b[0m eta \u001b[36m0:00:00\u001b[0m\n",
            "\u001b[?25hDownloading mkdocs_jupyter-0.25.0-py3-none-any.whl (1.5 MB)\n",
            "\u001b[2K   \u001b[90m━━━━━━━━━━━━━━━━━━━━━━━━━━━━━━━━━━━━━━━━\u001b[0m \u001b[32m1.5/1.5 MB\u001b[0m \u001b[31m31.2 MB/s\u001b[0m eta \u001b[36m0:00:00\u001b[0m\n",
            "\u001b[?25hDownloading mirascope-1.3.0-py3-none-any.whl (207 kB)\n",
            "\u001b[2K   \u001b[90m━━━━━━━━━━━━━━━━━━━━━━━━━━━━━━━━━━━━━━━━\u001b[0m \u001b[32m207.4/207.4 kB\u001b[0m \u001b[31m12.5 MB/s\u001b[0m eta \u001b[36m0:00:00\u001b[0m\n",
            "\u001b[?25hDownloading httpx-0.27.2-py3-none-any.whl (76 kB)\n",
            "\u001b[2K   \u001b[90m━━━━━━━━━━━━━━━━━━━━━━━━━━━━━━━━━━━━━━━━\u001b[0m \u001b[32m76.4/76.4 kB\u001b[0m \u001b[31m5.7 MB/s\u001b[0m eta \u001b[36m0:00:00\u001b[0m\n",
            "\u001b[?25hDownloading httpcore-1.0.6-py3-none-any.whl (78 kB)\n",
            "\u001b[2K   \u001b[90m━━━━━━━━━━━━━━━━━━━━━━━━━━━━━━━━━━━━━━━━\u001b[0m \u001b[32m78.0/78.0 kB\u001b[0m \u001b[31m5.3 MB/s\u001b[0m eta \u001b[36m0:00:00\u001b[0m\n",
            "\u001b[?25hDownloading ipykernel-6.29.5-py3-none-any.whl (117 kB)\n",
            "\u001b[2K   \u001b[90m━━━━━━━━━━━━━━━━━━━━━━━━━━━━━━━━━━━━━━━━\u001b[0m \u001b[32m117.2/117.2 kB\u001b[0m \u001b[31m7.0 MB/s\u001b[0m eta \u001b[36m0:00:00\u001b[0m\n",
            "\u001b[?25hDownloading jupytext-1.16.4-py3-none-any.whl (153 kB)\n",
            "\u001b[2K   \u001b[90m━━━━━━━━━━━━━━━━━━━━━━━━━━━━━━━━━━━━━━━━\u001b[0m \u001b[32m153.5/153.5 kB\u001b[0m \u001b[31m9.6 MB/s\u001b[0m eta \u001b[36m0:00:00\u001b[0m\n",
            "\u001b[?25hDownloading mkdocs-1.6.1-py3-none-any.whl (3.9 MB)\n",
            "\u001b[2K   \u001b[90m━━━━━━━━━━━━━━━━━━━━━━━━━━━━━━━━━━━━━━━━\u001b[0m \u001b[32m3.9/3.9 MB\u001b[0m \u001b[31m56.7 MB/s\u001b[0m eta \u001b[36m0:00:00\u001b[0m\n",
            "\u001b[?25hDownloading mkdocs_material-9.5.39-py3-none-any.whl (8.7 MB)\n",
            "\u001b[2K   \u001b[90m━━━━━━━━━━━━━━━━━━━━━━━━━━━━━━━━━━━━━━━━\u001b[0m \u001b[32m8.7/8.7 MB\u001b[0m \u001b[31m50.2 MB/s\u001b[0m eta \u001b[36m0:00:00\u001b[0m\n",
            "\u001b[?25hDownloading nbconvert-7.16.4-py3-none-any.whl (257 kB)\n",
            "\u001b[2K   \u001b[90m━━━━━━━━━━━━━━━━━━━━━━━━━━━━━━━━━━━━━━━━\u001b[0m \u001b[32m257.4/257.4 kB\u001b[0m \u001b[31m13.7 MB/s\u001b[0m eta \u001b[36m0:00:00\u001b[0m\n",
            "\u001b[?25hDownloading colorama-0.4.6-py2.py3-none-any.whl (25 kB)\n",
            "Downloading comm-0.2.2-py3-none-any.whl (7.2 kB)\n",
            "Downloading ghp_import-2.1.0-py3-none-any.whl (11 kB)\n",
            "Downloading mergedeep-1.3.4-py3-none-any.whl (6.4 kB)\n",
            "Downloading mistune-3.0.2-py3-none-any.whl (47 kB)\n",
            "\u001b[2K   \u001b[90m━━━━━━━━━━━━━━━━━━━━━━━━━━━━━━━━━━━━━━━━\u001b[0m \u001b[32m48.0/48.0 kB\u001b[0m \u001b[31m3.6 MB/s\u001b[0m eta \u001b[36m0:00:00\u001b[0m\n",
            "\u001b[?25hDownloading mkdocs_get_deps-0.2.0-py3-none-any.whl (9.5 kB)\n",
            "Downloading mkdocs_material_extensions-1.3.1-py3-none-any.whl (8.7 kB)\n",
            "Downloading paginate-0.5.7-py2.py3-none-any.whl (13 kB)\n",
            "Downloading pathspec-0.12.1-py3-none-any.whl (31 kB)\n",
            "Downloading pymdown_extensions-10.11.2-py3-none-any.whl (259 kB)\n",
            "\u001b[2K   \u001b[90m━━━━━━━━━━━━━━━━━━━━━━━━━━━━━━━━━━━━━━━━\u001b[0m \u001b[32m259.0/259.0 kB\u001b[0m \u001b[31m11.0 MB/s\u001b[0m eta \u001b[36m0:00:00\u001b[0m\n",
            "\u001b[?25hDownloading pyyaml_env_tag-0.1-py3-none-any.whl (3.9 kB)\n",
            "Downloading watchdog-5.0.3-py3-none-manylinux2014_x86_64.whl (79 kB)\n",
            "\u001b[2K   \u001b[90m━━━━━━━━━━━━━━━━━━━━━━━━━━━━━━━━━━━━━━━━\u001b[0m \u001b[32m79.3/79.3 kB\u001b[0m \u001b[31m3.5 MB/s\u001b[0m eta \u001b[36m0:00:00\u001b[0m\n",
            "\u001b[?25hDownloading h11-0.14.0-py3-none-any.whl (58 kB)\n",
            "\u001b[2K   \u001b[90m━━━━━━━━━━━━━━━━━━━━━━━━━━━━━━━━━━━━━━━━\u001b[0m \u001b[32m58.3/58.3 kB\u001b[0m \u001b[31m2.8 MB/s\u001b[0m eta \u001b[36m0:00:00\u001b[0m\n",
            "\u001b[?25hUsing cached jedi-0.19.1-py2.py3-none-any.whl (1.6 MB)\n",
            "Installing collected packages: paginate, watchdog, pyyaml-env-tag, python-dotenv, pymdown-extensions, pathspec, mkdocs-material-extensions, mistune, mergedeep, jiter, jedi, h11, comm, colorama, mkdocs-get-deps, httpcore, ghp-import, mkdocs, ipykernel, httpx, mkdocs-material, groq, jupytext, nbconvert, mkdocs-jupyter, mirascope\n",
            "  Attempting uninstall: mistune\n",
            "    Found existing installation: mistune 0.8.4\n",
            "    Uninstalling mistune-0.8.4:\n",
            "      Successfully uninstalled mistune-0.8.4\n",
            "  Attempting uninstall: ipykernel\n",
            "    Found existing installation: ipykernel 5.5.6\n",
            "    Uninstalling ipykernel-5.5.6:\n",
            "      Successfully uninstalled ipykernel-5.5.6\n",
            "  Attempting uninstall: nbconvert\n",
            "    Found existing installation: nbconvert 6.5.4\n",
            "    Uninstalling nbconvert-6.5.4:\n",
            "      Successfully uninstalled nbconvert-6.5.4\n",
            "\u001b[31mERROR: pip's dependency resolver does not currently take into account all the packages that are installed. This behaviour is the source of the following dependency conflicts.\n",
            "google-colab 1.0.0 requires ipykernel==5.5.6, but you have ipykernel 6.29.5 which is incompatible.\u001b[0m\u001b[31m\n",
            "\u001b[0mSuccessfully installed colorama-0.4.6 comm-0.2.2 ghp-import-2.1.0 groq-0.11.0 h11-0.14.0 httpcore-1.0.6 httpx-0.27.2 ipykernel-6.29.5 jedi-0.19.1 jiter-0.5.0 jupytext-1.16.4 mergedeep-1.3.4 mirascope-1.3.0 mistune-3.0.2 mkdocs-1.6.1 mkdocs-get-deps-0.2.0 mkdocs-jupyter-0.25.0 mkdocs-material-9.5.39 mkdocs-material-extensions-1.3.1 nbconvert-7.16.4 paginate-0.5.7 pathspec-0.12.1 pymdown-extensions-10.11.2 python-dotenv-1.0.1 pyyaml-env-tag-0.1 watchdog-5.0.3\n"
          ]
        }
      ],
      "source": [
        "!pip install \"mirascope[groq]\" requests beautifulsoup4 python-dotenv tenacity"
      ]
    },
    {
      "cell_type": "markdown",
      "source": [
        "Now, let's import the required libraries and load our environment variables:"
      ],
      "metadata": {
        "id": "8bZKRTFK9a1A"
      },
      "id": "8bZKRTFK9a1A"
    },
    {
      "cell_type": "code",
      "execution_count": null,
      "id": "12637a6d",
      "metadata": {
        "id": "12637a6d"
      },
      "outputs": [],
      "source": [
        "import os\n",
        "\n",
        "os.environ[\"GROQ_API_KEY\"] = \"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\"\n",
        "# Set the appropriate API key for the provider you're using"
      ]
    },
    {
      "cell_type": "code",
      "execution_count": null,
      "id": "5046a7fabf14856d",
      "metadata": {
        "id": "5046a7fabf14856d"
      },
      "outputs": [],
      "source": [
        "from typing import Dict, Any, List\n",
        "import requests\n",
        "from bs4 import BeautifulSoup\n",
        "from pydantic import BaseModel, Field\n",
        "from mirascope.core import prompt_template\n",
        "from mirascope.core.groq import groq_call\n",
        "import re\n",
        "from tenacity import retry, wait_exponential, stop_after_attempt\n",
        "import time"
      ]
    },
    {
      "cell_type": "markdown",
      "id": "cefac0cfbe3ed78d",
      "metadata": {
        "id": "cefac0cfbe3ed78d"
      },
      "source": [
        "\n",
        "Now that we have created our tool, it’s time to create our LLM call."
      ]
    },
    {
      "cell_type": "markdown",
      "id": "f5f017b5cc3a9433",
      "metadata": {
        "id": "f5f017b5cc3a9433"
      },
      "source": [
        "## Qwant API Implementation\n",
        "\n",
        "Let's implement the Qwant API class for performing web searches:"
      ]
    },
    {
      "cell_type": "code",
      "execution_count": null,
      "id": "a4da1facf8110830",
      "metadata": {
        "id": "a4da1facf8110830"
      },
      "outputs": [],
      "source": [
        "class QwantApi:\n",
        "    BASE_URL = \"https://api.qwant.com/v3\"\n",
        "\n",
        "    def __init__(self):\n",
        "        self.session = requests.Session()\n",
        "        self.session.headers.update({\n",
        "            \"User-Agent\": \"Mozilla/5.0 (X11; Linux x86_64) AppleWebKit/537.36 (KHTML, like Gecko) Chrome/117.0.0.0 Safari/537.36\"\n",
        "        })\n",
        "\n",
        "    def search(self, q: str, search_type: str = 'web', locale: str = 'en_US', offset: int = 0, safesearch: int = 1) -> Dict:\n",
        "        params = {\n",
        "            'q': q,\n",
        "            'locale': locale,\n",
        "            'offset': offset,\n",
        "            'safesearch': safesearch\n",
        "        }\n",
        "        url = f\"{self.BASE_URL}/search/{search_type}\"\n",
        "        response = self.session.get(url, params=params)\n",
        "        return response.json() if response.status_code == 200 else None"
      ]
    },
    {
      "cell_type": "markdown",
      "id": "d50ce29b7bb2f566",
      "metadata": {
        "id": "d50ce29b7bb2f566"
      },
      "source": [
        "This class encapsulates the functionality to interact with the Qwant search API. It allows us to perform searches of different types (web, news, images, videos) and handles the API request details.\n",
        "\n",
        "## Data Models\n",
        "\n",
        "Next, let's define our data models using Pydantic:"
      ]
    },
    {
      "cell_type": "code",
      "execution_count": null,
      "id": "9547aff227a1c855",
      "metadata": {
        "id": "9547aff227a1c855"
      },
      "outputs": [],
      "source": [
        "class SearchResponse(BaseModel):\n",
        "    answer: str = Field(description=\"The answer to the question\")\n",
        "    sources: List[str] = Field(description=\"The sources used to generate the answer\")\n",
        "\n",
        "class SearchType(BaseModel):\n",
        "    search_type: str = Field(description=\"The type of search to perform (web, news, images, videos)\")\n",
        "    reasoning: str = Field(description=\"The reasoning behind the search type selection\")\n",
        "\n",
        "class OptimizedQuery(BaseModel):\n",
        "    query: str = Field(description=\"The optimized search query\")\n",
        "    reasoning: str = Field(description=\"The reasoning behind the query optimization\")"
      ]
    },
    {
      "cell_type": "markdown",
      "id": "cf7fdb4d371864d7",
      "metadata": {
        "id": "cf7fdb4d371864d7"
      },
      "source": [
        "These Pydantic models define the structure for our data:\n",
        "- `SearchResponse`: Represents the final answer and its sources\n",
        "- `SearchType`: Represents the chosen search type and the reasoning behind it\n",
        "- `OptimizedQuery`: Represents an optimized search query and the reasoning for the optimization\n",
        "\n"
      ]
    },
    {
      "cell_type": "markdown",
      "source": [
        "## Implement Throttling\n",
        "\n",
        "Let's create a decorator for throttling our API calls:"
      ],
      "metadata": {
        "id": "t5r5S34LEqgy"
      },
      "id": "t5r5S34LEqgy"
    },
    {
      "cell_type": "code",
      "source": [
        "def throttle(calls_per_minute):\n",
        "    min_interval = 60.0 / calls_per_minute\n",
        "    last_called = [0.0]\n",
        "\n",
        "    def decorator(func):\n",
        "        def wrapper(*args, **kwargs):\n",
        "            elapsed = time.time() - last_called[0]\n",
        "            left_to_wait = min_interval - elapsed\n",
        "            if left_to_wait > 0:\n",
        "                time.sleep(left_to_wait)\n",
        "            ret = func(*args, **kwargs)\n",
        "            last_called[0] = time.time()\n",
        "            return ret\n",
        "        return wrapper\n",
        "    return decorator\n",
        "\n",
        "# Modify the groq_call decorator to include throttling and retrying\n",
        "def throttled_groq_call(*args, **kwargs):\n",
        "    @retry(wait=wait_exponential(multiplier=1, min=4, max=10), stop=stop_after_attempt(5))\n",
        "    @throttle(calls_per_minute=6)  # Adjust this value based on your rate limit\n",
        "    def wrapped_call(*call_args, **call_kwargs):\n",
        "        return groq_call(*args, **kwargs)(*call_args, **call_kwargs)\n",
        "    return wrapped_call"
      ],
      "metadata": {
        "id": "AulUbUvDEoXL"
      },
      "id": "AulUbUvDEoXL",
      "execution_count": null,
      "outputs": []
    },
    {
      "cell_type": "markdown",
      "source": [
        "## Determine Search Type\n",
        "\n",
        "Now, let's implement the function to determine the most appropriate search type:\n"
      ],
      "metadata": {
        "id": "-sNNcSg9EzcV"
      },
      "id": "-sNNcSg9EzcV"
    },
    {
      "cell_type": "code",
      "source": [
        "@throttled_groq_call(\"llama-3.2-90b-text-preview\", response_model=SearchType, json_mode=True)\n",
        "@prompt_template(\n",
        "\"\"\"\n",
        "SYSTEM:\n",
        "You are an expert at determining the most appropriate type of search for a given query. Your task is to analyze the user's question and decide which Qwant search type to use: web, news, images, or videos.\n",
        "\n",
        "Follow these strict guidelines:\n",
        "1. For general information queries, use 'web'.\n",
        "2. For recent events, breaking news, or time-sensitive information, use 'news'.\n",
        "3. For queries explicitly asking for images or visual content, use 'images'.\n",
        "4. For queries about video content or asking for video results, use 'videos'.\n",
        "5. If unsure, default to 'web'.\n",
        "\n",
        "Provide your decision in a structured format with the search type and a brief explanation of your reasoning.\n",
        "\n",
        "USER:\n",
        "Determine the most appropriate search type for the following question:\n",
        "{question}\n",
        "\n",
        "ASSISTANT:\n",
        "Based on the question, I will determine the most appropriate search type and provide my reasoning.\n",
        "\"\"\"\n",
        ")\n",
        "def determine_search_type(question: str) -> SearchType:\n",
        "    \"\"\"\n",
        "    Determine the most appropriate search type for the given question.\n",
        "    \"\"\"\n",
        "    ..."
      ],
      "metadata": {
        "id": "zIAxRLSs_awu"
      },
      "id": "zIAxRLSs_awu",
      "execution_count": null,
      "outputs": []
    },
    {
      "cell_type": "markdown",
      "source": [
        "This function uses the Groq API to determine the most appropriate search type based on the user's question. It uses a prompt template to guide the LLM in making this decision.\n",
        "\n",
        "## Web Search Function\n",
        "\n",
        "Let's implement the function to perform the actual web search using Qwant:\n"
      ],
      "metadata": {
        "id": "7N3A3Omn_kwX"
      },
      "id": "7N3A3Omn_kwX"
    },
    {
      "cell_type": "code",
      "source": [
        "def qwant_search(query: str, search_type: str, max_results: int = 5) -> Dict[str, str]:\n",
        "    \"\"\"\n",
        "    Use Qwant to get information about the query using the specified search type.\n",
        "    \"\"\"\n",
        "    print(f\"Searching Qwant for '{query}' using {search_type} search...\")\n",
        "    search_results = {}\n",
        "    qwant = QwantApi()\n",
        "    results = qwant.search(query, search_type=search_type)\n",
        "\n",
        "    if results and 'data' in results and 'result' in results['data'] and 'items' in results['data']['result']:\n",
        "        items = results['data']['result']['items']\n",
        "        if isinstance(items, dict) and 'mainline' in items:\n",
        "            items = items['mainline']\n",
        "\n",
        "        count = 0\n",
        "        for item in items:\n",
        "            if 'url' in item:\n",
        "                url = item['url']\n",
        "                print(f\"Fetching content from {url}...\")\n",
        "                content = get_content(url)\n",
        "                search_results[url] = content\n",
        "                count += 1\n",
        "                if count >= max_results:\n",
        "                    break\n",
        "            elif isinstance(item, dict) and 'items' in item:\n",
        "                for subitem in item['items']:\n",
        "                    if 'url' in subitem:\n",
        "                        url = subitem['url']\n",
        "                        print(f\"Fetching content from {url}...\")\n",
        "                        content = get_content(url)\n",
        "                        search_results[url] = content\n",
        "                        count += 1\n",
        "                        if count >= max_results:\n",
        "                            break\n",
        "                if count >= max_results:\n",
        "                    break\n",
        "\n",
        "    return search_results\n",
        "\n",
        "def get_content(url: str) -> str:\n",
        "    \"\"\"\n",
        "    Fetch and parse content from a URL.\n",
        "    \"\"\"\n",
        "    data = []\n",
        "    try:\n",
        "        response = requests.get(url)\n",
        "        content = response.content\n",
        "        soup = BeautifulSoup(content, \"html.parser\")\n",
        "        paragraphs = soup.find_all(\"p\")\n",
        "        for paragraph in paragraphs:\n",
        "            data.append(paragraph.text)\n",
        "    except Exception as e:\n",
        "        print(f\"Error fetching content from {url}: {e}\")\n",
        "    return \"\\n\".join(data)"
      ],
      "metadata": {
        "id": "ehaHwHhD_atf"
      },
      "id": "ehaHwHhD_atf",
      "execution_count": null,
      "outputs": []
    },
    {
      "cell_type": "markdown",
      "source": [
        "These functions handle the web search process:\n",
        "- `qwant_search`: Performs the search using the Qwant API and fetches content from the resulting URLs\n",
        "- `get_content`: Fetches and parses the content from a given URL using BeautifulSoup\n",
        "\n",
        "## Search and Extract Functions\n",
        "\n",
        "Now, let's implement the functions to process the search results and extract the final answer:"
      ],
      "metadata": {
        "id": "VTi5G9Ze_wWK"
      },
      "id": "VTi5G9Ze_wWK"
    },
    {
      "cell_type": "code",
      "source": [
        "@groq_call(\"llama-3.2-90b-text-preview\")\n",
        "@prompt_template(\n",
        "\"\"\"\n",
        "SYSTEM:\n",
        "You are an expert at finding information on the web.\n",
        "Use the provided search results to answer the question.\n",
        "Rewrite the question as needed to better find information on the web.\n",
        "Search results:\n",
        "{search_results}\n",
        "\n",
        "USER:\n",
        "{question}\n",
        "\"\"\"\n",
        ")\n",
        "def search(question: str, search_results: Dict[str, str]) -> str:\n",
        "    \"\"\"\n",
        "    Use the search results to answer the user's question.\n",
        "    \"\"\"\n",
        "    # The model will return an answer based on the search results and question\n",
        "    ...\n",
        "\n",
        "@throttled_groq_call(\"llama-3.2-90b-text-preview\", response_model=SearchResponse, json_mode=True) # Changed response_model from SearchType to SearchResponse\n",
        "@prompt_template(\n",
        "\"\"\"\n",
        "SYSTEM:\n",
        "Extract the answer to the question based on the search results.\n",
        "Provide the sources used to answer the question in a structured format.\n",
        "Search results:\n",
        "{results}\n",
        "\n",
        "USER:\n",
        "{question}\n",
        "\"\"\"\n",
        ")\n",
        "def extract(question: str, results: Dict[str, str]) -> SearchResponse: # This function should return SearchResponse, not SearchType\n",
        "    \"\"\"\n",
        "    Extract a concise answer from the search results and include sources.\n",
        "    \"\"\"\n",
        "    ...\n",
        "\n",
        "def clean_text(text: str) -> str:\n",
        "    \"\"\"\n",
        "    Clean the text data for better formatting and readability.\n",
        "    \"\"\"\n",
        "    # Removing extra spaces and special characters\n",
        "    return re.sub(r'\\s+', ' ', text).strip()"
      ],
      "metadata": {
        "id": "lzHfWYDy_aql"
      },
      "id": "lzHfWYDy_aql",
      "execution_count": null,
      "outputs": []
    },
    {
      "cell_type": "markdown",
      "source": [
        "These functions process the search results:\n",
        "- `search`: Uses the Groq API to generate an answer based on the search results\n",
        "- `extract`: Extracts a concise answer and the sources used from the search results\n",
        "- `clean_text`: Cleans the text output for better readability\n",
        "\n",
        "## Main Execution Function\n",
        "\n",
        "Finally, let's implement the main execution function that orchestrates the entire process:"
      ],
      "metadata": {
        "id": "TqBdXgx6AN6C"
      },
      "id": "TqBdXgx6AN6C"
    },
    {
      "cell_type": "code",
      "source": [
        "def run(question: str) -> SearchResponse:\n",
        "    \"\"\"\n",
        "    Orchestrate the search and extraction process to answer the user's question.\n",
        "    \"\"\"\n",
        "    print(f\"Processing question: '{question}'\")\n",
        "\n",
        "    # Step 1: Determine the appropriate search type\n",
        "    search_type_result = determine_search_type(question)\n",
        "    print(f\"Selected search type: {search_type_result.search_type}\")\n",
        "    print(f\"Reasoning: {search_type_result.reasoning}\")\n",
        "\n",
        "    # Step 2: Search the web using Qwant with the determined search type\n",
        "    search_results = qwant_search(question, search_type_result.search_type)\n",
        "\n",
        "    # Step 3: Use Groq Llama model to summarize search results\n",
        "    response = search(question, search_results)\n",
        "    print(f\"Search response: {response}\")\n",
        "\n",
        "    # Step 4: Extract the final answer and structured sources\n",
        "    result = extract(question, search_results)\n",
        "\n",
        "    # Step 5: Clean the output for readability\n",
        "    result.answer = clean_text(result.answer)\n",
        "    print(f\"Final result: {result}\")\n",
        "\n",
        "    return result"
      ],
      "metadata": {
        "id": "MENSypsI_adf"
      },
      "id": "MENSypsI_adf",
      "execution_count": null,
      "outputs": []
    },
    {
      "cell_type": "markdown",
      "source": [
        "This `run` function orchestrates the entire process:\n",
        "1. Determines the appropriate search type\n",
        "2. Performs the web search\n",
        "3. Summarizes the search results\n",
        "4. Extracts the final answer and sources\n",
        "5. Cleans the output for readability\n",
        "\n",
        "## Usage Example\n",
        "\n",
        "Let's add an example usage of our web agent:"
      ],
      "metadata": {
        "id": "5aS7xS8tAY-g"
      },
      "id": "5aS7xS8tAY-g"
    },
    {
      "cell_type": "code",
      "source": [
        "if __name__ == \"__main__\":\n",
        "    print(\"Example usage:\")\n",
        "    response = run(\"what is the lastest on donald trump and elon musk?\")\n",
        "    print(response)"
      ],
      "metadata": {
        "colab": {
          "base_uri": "https://localhost:8080/"
        },
        "id": "lE9AgrS8AeBw",
        "outputId": "28403e08-8d0e-4724-d507-fb6e4078f9e8"
      },
      "id": "lE9AgrS8AeBw",
      "execution_count": null,
      "outputs": [
        {
          "output_type": "stream",
          "name": "stdout",
          "text": [
            "Example usage:\n",
            "Processing question: 'what is the lastest on donald trump and elon musk?'\n",
            "Selected search type: news\n",
            "Reasoning: The question asks for the latest on Donald Trump and Elon Musk, indicating a recent or time-sensitive information query, which is a good fit for news articles.\n",
            "Searching Qwant for 'what is the lastest on donald trump and elon musk?' using news search...\n",
            "Fetching content from https://www.tmz.com/2024/10/05/donald-trump-returns-butler-rally-elon-musk/...\n",
            "Fetching content from https://www.newsweek.com/elon-musk-donald-trump-rally-butler-pennsylvania-1964473...\n",
            "Fetching content from https://www.benzinga.com/news/24/10/41197236/elon-musk-and-trump-address-thousands-at-site-of-failed-assassination-attempt-take-aim-at-bidens-lea...\n",
            "Fetching content from https://www.thedailybeast.com/billionaire-elon-musk-supports-dark-maga-conspiracy-at-donald-trumps-butler-rally...\n",
            "Fetching content from https://wtop.com/business-finance/2024/10/elon-musk-makes-first-appearance-at-trump-rally-casting-election-in-dire-terms/...\n",
            "Search response: According to the latest information available, Donald Trump and Elon Musk have recently made headlines together at a rally in Butler, Pennsylvania. The rally took place at the same location where an assassination attempt was made on Trump's life in July. \n",
            "\n",
            "During the event, Elon Musk joined Trump on stage, where he made remarks that included calling Democrats a threat to freedom of speech, the right to bear arms, and the right to vote. Musk also claimed that if Trump doesn't win the upcoming presidential election, \"this will be the last election.\" He referred to himself as \"Dark MAGA,\" a reference to an alt-right conspiracy movement.\n",
            "\n",
            "Additionally, Trump paid tribute to Corey Comperatore, a man who died during the assassination attempt in July, and Comperatore's family was in attendance at the rally.\n",
            "\n",
            "Musk and Trump have been building an alliance in recent times, and Musk has been actively endorsing Trump and supporting his campaign efforts. Trump has also hinted at possibly appointing Musk to lead a government efficiency commission if he regains the White House.\n",
            "\n",
            "This development highlights the growing partnership between Elon Musk and Donald Trump as they work together to promote their respective interests and campaign for the upcoming presidential election.\n",
            "Final result: answer='Donald Trump and Elon Musk recently appeared together at a rally in Butler, Pennsylvania, where Trump survived an assassination attempt in July. Musk endorsed Trump, calling him the only candidate who can \"preserve democracy in America\" and warning that if Trump doesn\\'t win, \"this will be the last election\". Musk also drew attention for embracing the \"Dark MAGA\" movement, a conspiracy theory that emerged on social media.' sources=['https://www.tmz.com/2024/10/05/donald-trump-returns-butler-rally-elon-musk/', 'https://www.benzinga.com/news/24/10/41197236/elon-musk-and-trump-address-thousands-at-site-of-failed-assassination-attempt-take-aim-at-bidens-lea', 'https://www.thedailybeast.com/billionaire-elon-musk-supports-dark-maga-conspiracy-at-donald-trumps-butler-rally', 'https://wtop.com/business-finance/2024/10/elon-musk-makes-first-appearance-at-trump-rally-casting-election-in-dire-terms/']\n",
            "answer='Donald Trump and Elon Musk recently appeared together at a rally in Butler, Pennsylvania, where Trump survived an assassination attempt in July. Musk endorsed Trump, calling him the only candidate who can \"preserve democracy in America\" and warning that if Trump doesn\\'t win, \"this will be the last election\". Musk also drew attention for embracing the \"Dark MAGA\" movement, a conspiracy theory that emerged on social media.' sources=['https://www.tmz.com/2024/10/05/donald-trump-returns-butler-rally-elon-musk/', 'https://www.benzinga.com/news/24/10/41197236/elon-musk-and-trump-address-thousands-at-site-of-failed-assassination-attempt-take-aim-at-bidens-lea', 'https://www.thedailybeast.com/billionaire-elon-musk-supports-dark-maga-conspiracy-at-donald-trumps-butler-rally', 'https://wtop.com/business-finance/2024/10/elon-musk-makes-first-appearance-at-trump-rally-casting-election-in-dire-terms/']\n"
          ]
        }
      ]
    },
    {
      "cell_type": "code",
      "source": [],
      "metadata": {
        "id": "oRCXt8ISLqe_"
      },
      "id": "oRCXt8ISLqe_",
      "execution_count": null,
      "outputs": []
    },
    {
      "cell_type": "markdown",
      "source": [
        "This example demonstrates how to use the `run` function to process a question and get a response.\n",
        "\n",
        "## Conclusion\n",
        "\n",
        "This notebook tutorial has walked through the implementation of a web agent that uses LLMs to perform intelligent web searches and extract relevant information. The agent determines the most appropriate search type, performs the search, processes the results, and provides a structured response with sources.\n",
        "\n",
        "Key components of this implementation include:\n",
        "1. Qwant API integration for web searches\n",
        "2. Groq API integration for LLM-powered decision making and information extraction\n",
        "3. Pydantic models for structured data handling\n",
        "4. Implemented retry logic with exponential backoff using the tenacity library.\n",
        "5. BeautifulSoup for web scraping\n",
        "6. Prompt engineering for guiding LLM behavior\n",
        "\n",
        "This web agent can be extended and customized for various applications, such as research assistants, fact-checking tools, or automated information gathering systems."
      ],
      "metadata": {
        "id": "W9gAg2IFAjgR"
      },
      "id": "W9gAg2IFAjgR"
    }
  ],
  "metadata": {
    "kernelspec": {
      "display_name": "Python 3",
      "language": "python",
      "name": "python3"
    },
    "language_info": {
      "codemirror_mode": {
        "name": "ipython",
        "version": 2
      },
      "file_extension": ".py",
      "mimetype": "text/x-python",
      "name": "python",
      "nbconvert_exporter": "python",
      "pygments_lexer": "ipython2",
      "version": "2.7.6"
    },
    "colab": {
      "provenance": []
    }
  },
  "nbformat": 4,
  "nbformat_minor": 5
}